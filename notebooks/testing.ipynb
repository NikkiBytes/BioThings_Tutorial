{
 "cells": [
  {
   "cell_type": "markdown",
   "source": [
    "# Testing with `biothings.tests` [[1]](https://docs.biothings.io/en/latest/apidoc/biothings.tests.html#module-biothings.tests.web)"
   ],
   "metadata": {}
  },
  {
   "cell_type": "markdown",
   "source": [
    "from biothings.tests.web ..."
   ],
   "metadata": {}
  },
  {
   "cell_type": "markdown",
   "source": [
    "1.https://docs.biothings.io/en/latest/apidoc/biothings.tests.html#module-biothings.tests.web\n"
   ],
   "metadata": {}
  }
 ],
 "metadata": {
  "orig_nbformat": 4,
  "language_info": {
   "name": "python"
  }
 },
 "nbformat": 4,
 "nbformat_minor": 2
}
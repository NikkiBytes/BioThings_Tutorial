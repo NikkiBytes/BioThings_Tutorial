{
 "cells": [
  {
   "cell_type": "markdown",
   "source": [
    "# Testing with `biothings.tests` [[1]](https://docs.biothings.io/en/latest/apidoc/biothings.tests.html#module-biothings.tests.web)"
   ],
   "metadata": {}
  },
  {
   "cell_type": "markdown",
   "source": [
    "`BiothingsWebTest`, `BiothingsWebAppTest`  \n",
    "  \n",
    "`BiothingsWebTest`: Layer 3,  \n",
    "`BiothingsWebAppTest`: Layer 2, runs its own layer 3  \n",
    "* note: no utility is provided to directly talk to layer 1.    \n",
    "  \n",
    "**3 Types of Testing Objectives:**  \n",
    "**L3 Data Test:** aimed to test the data integrity of an API. It subclasses `BiothingsWebTest` and ensures all layers working. The data has to reside in elasticsearch already.  \n",
    "  \n",
    "**L3 Feature Test:** aimed to test the API implementation, making sure the config file is reflected. These tests work on production data and require constant updates to keep the test cases in sync with the actual data. These test cases subclass `BiothingsWebTest` as well and asl require existing production data in elasticsearch.  \n",
    "\n",
    "**L2 Feature Test:** aimed to test the API implementation but uses a small set of data that it ingests into ES. This is a lightweight test for development and automated testings for each new commit. It comes with data it will ingest in ES and does not require any existing data setup to run.\n"
   ],
   "metadata": {}
  },
  {
   "cell_type": "markdown",
   "source": [
    "from biothings.tests.web ..."
   ],
   "metadata": {}
  },
  {
   "cell_type": "markdown",
   "source": [],
   "metadata": {}
  },
  {
   "cell_type": "markdown",
   "source": [
    "1.https://docs.biothings.io/en/latest/apidoc/biothings.tests.html#module-biothings.tests.web\n"
   ],
   "metadata": {}
  }
 ],
 "metadata": {
  "orig_nbformat": 4,
  "language_info": {
   "name": "python"
  }
 },
 "nbformat": 4,
 "nbformat_minor": 2
}
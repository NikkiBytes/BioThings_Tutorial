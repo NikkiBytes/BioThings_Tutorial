{
 "cells": [
  {
   "cell_type": "markdown",
   "source": [
    "# Exploring Orthology data for BioThings Studio Parser"
   ],
   "metadata": {}
  },
  {
   "cell_type": "code",
   "execution_count": 1,
   "source": [
    "import pandas as pd\r\n",
    "import numpy as np\r\n",
    "import os, glob, csv, re\r\n",
    "import gzip\r\n",
    "#import shutil"
   ],
   "outputs": [],
   "metadata": {}
  },
  {
   "cell_type": "code",
   "execution_count": 2,
   "source": [
    "# we'll remove space in keys to make queries easier. Also, lowercase is preferred\r\n",
    "# for a BioThings API. We'll an helper function from BioThings SDK\r\n",
    "process_key = lambda k: k.replace(\" \",\"_\").lower()"
   ],
   "outputs": [],
   "metadata": {}
  },
  {
   "cell_type": "markdown",
   "source": [
    "---\r\n",
    "## Load input data   \r\n",
    "\r\n",
    "Datasource: ```https://fms.alliancegenome.org/download/ORTHOLOGY-ALLIANCE_COMBINED.tsv.gz```     \r\n",
    "  \r\n",
    "  \r\n",
    "*The first lines (0-14) are summary information and are disregarded when formatting the dataframe.*"
   ],
   "metadata": {}
  },
  {
   "cell_type": "code",
   "execution_count": 3,
   "source": [
    "infile = os.path.join(\"c:\\\\Users\\\\19802\\\\Documents\\\\dev\\scripps\\\\BioThings\\\\ORTHOLOGY-ALLIANCE_COMBINED.tsv.gz\")\r\n",
    "assert os.path.exists(infile)"
   ],
   "outputs": [],
   "metadata": {}
  },
  {
   "cell_type": "code",
   "execution_count": 4,
   "source": [
    "infile2 = os.path.join(\"c:\\\\Users\\\\19802\\\\Documents\\\\dev\\scripps\\\\BioThings\\\\drugLabels.byGene.tsv\")\r\n",
    "assert os.path.exists(infile2)"
   ],
   "outputs": [],
   "metadata": {}
  },
  {
   "cell_type": "code",
   "execution_count": 5,
   "source": [
    "# open and print the summary key at top of file\r\n",
    "with gzip.open(infile, 'rb') as f_in:\r\n",
    "    for line in f_in.readlines()[:15]:\r\n",
    "        print(line)\r\n",
    "    print(\"\\n\")\r\n",
    "\r\n",
    "# open and load tsv into dataframe\r\n",
    "with gzip.open(infile, 'rb') as f_in:\r\n",
    "    data=pd.read_csv(f_in, header=15, sep=\"\\\\t\")\r\n",
    "data_list=data.to_dict(orient='records')\r\n",
    "\r\n",
    "print(\"[INFO] completed loading data.\")\r\n"
   ],
   "outputs": [
    {
     "output_type": "stream",
     "name": "stdout",
     "text": [
      "b'##########################################################################\\n'\n",
      "b'#\\n'\n",
      "b'# Data type: Orthology\\n'\n",
      "b'# Data format: tsv\\n'\n",
      "b'# README: \\n'\n",
      "b'# Source: Alliance of Genome Resources (Alliance)\\n'\n",
      "b'# Source URL: http://alliancegenome.org/downloads\\n'\n",
      "b'# Help Desk: help@alliancegenome.org\\n'\n",
      "b'# Orthology Filter: Stringent\\n'\n",
      "b'# Taxon IDs: NCBITaxon:9606, NCBITaxon:10116, NCBITaxon:10090, NCBITaxon:7955, NCBITaxon:7227, NCBITaxon:6239, NCBITaxon:559292\\n'\n",
      "b'# Species: Homo sapiens, Rattus norvegicus, Mus musculus, Danio rerio, Drosophila melanogaster, Caenorhabditis elegans, Saccharomyces cerevisiae\\n'\n",
      "b'# Alliance Database Version: 4.1.0\\n'\n",
      "b'# Date file generated (UTC): 2021-08-10 17:59\\n'\n",
      "b'#\\n'\n",
      "b'##########################################################################\\n'\n",
      "\n",
      "\n"
     ]
    },
    {
     "output_type": "stream",
     "name": "stderr",
     "text": [
      "C:\\Users\\19802\\anaconda3\\lib\\site-packages\\pandas\\util\\_decorators.py:311: ParserWarning: Falling back to the 'python' engine because the 'c' engine does not support regex separators (separators > 1 char and different from '\\s+' are interpreted as regex); you can avoid this warning by specifying engine='python'.\n",
      "  return func(*args, **kwargs)\n"
     ]
    },
    {
     "output_type": "stream",
     "name": "stdout",
     "text": [
      "[INFO] completed loading data.\n"
     ]
    }
   ],
   "metadata": {}
  },
  {
   "cell_type": "code",
   "execution_count": 6,
   "source": [
    "data2=pd.read_csv(infile2, sep=\"\\t\",squeeze=True,quoting=csv.QUOTE_NONE).to_dict(orient='records') "
   ],
   "outputs": [],
   "metadata": {}
  },
  {
   "cell_type": "markdown",
   "source": [
    "## Explore Data  \r\n"
   ],
   "metadata": {}
  },
  {
   "cell_type": "code",
   "execution_count": 7,
   "source": [
    "# Count unique values found in columns, if under a certain threshold view the unique list of values\r\n",
    "for col in data.columns.values:\r\n",
    "    list_len=len(data[col].unique().tolist())\r\n",
    "    print(\"column: %s length: %s\"%(col, list_len))\r\n",
    "    if list_len < 20:\r\n",
    "        print(\"unique values: \", data[col].unique().tolist())\r\n"
   ],
   "outputs": [
    {
     "output_type": "stream",
     "name": "stdout",
     "text": [
      "column: Gene1ID length: 100430\n",
      "column: Gene1Symbol length: 81990\n",
      "column: Gene1SpeciesTaxonID length: 7\n",
      "unique values:  ['NCBITaxon:6239', 'NCBITaxon:7955', 'NCBITaxon:10116', 'NCBITaxon:10090', 'NCBITaxon:9606', 'NCBITaxon:7227', 'NCBITaxon:559292']\n",
      "column: Gene1SpeciesName length: 7\n",
      "unique values:  ['Caenorhabditis elegans', 'Danio rerio', 'Rattus norvegicus', 'Mus musculus', 'Homo sapiens', 'Drosophila melanogaster', 'Saccharomyces cerevisiae']\n",
      "column: Gene2ID length: 100430\n",
      "column: Gene2Symbol length: 81990\n",
      "column: Gene2SpeciesTaxonID length: 7\n",
      "unique values:  ['NCBITaxon:559292', 'NCBITaxon:7227', 'NCBITaxon:7955', 'NCBITaxon:10116', 'NCBITaxon:9606', 'NCBITaxon:6239', 'NCBITaxon:10090']\n",
      "column: Gene2SpeciesName length: 7\n",
      "unique values:  ['Saccharomyces cerevisiae', 'Drosophila melanogaster', 'Danio rerio', 'Rattus norvegicus', 'Homo sapiens', 'Caenorhabditis elegans', 'Mus musculus']\n",
      "column: Algorithms length: 2529\n",
      "column: AlgorithmsMatch length: 11\n",
      "unique values:  [9, 8, 7, 10, 6, 5, 3, 4, 2, 11, 1]\n",
      "column: OutOfAlgorithms length: 3\n",
      "unique values:  [10, 9, 11]\n",
      "column: IsBestScore length: 3\n",
      "unique values:  ['Yes', 'No', 'Yes_Adjusted']\n",
      "column: IsBestRevScore length: 2\n",
      "unique values:  ['Yes', 'No']\n"
     ]
    }
   ],
   "metadata": {}
  },
  {
   "cell_type": "code",
   "execution_count": 8,
   "source": [
    "data2[0]"
   ],
   "outputs": [
    {
     "output_type": "execute_result",
     "data": {
      "text/plain": [
       "{'Gene ID': 'PA267',\n",
       " 'Gene Symbol': 'ABCB1',\n",
       " 'Label IDs': 'PA166123409;PA166159586',\n",
       " 'Label Names': 'Annotation of EMA Label for aliskiren and ABCB1;Annotation of HCSC Label for aliskiren and ABCB1'}"
      ]
     },
     "metadata": {},
     "execution_count": 8
    }
   ],
   "metadata": {}
  },
  {
   "cell_type": "code",
   "execution_count": 9,
   "source": [
    "# view first record\r\n",
    "data_list[0]"
   ],
   "outputs": [
    {
     "output_type": "execute_result",
     "data": {
      "text/plain": [
       "{'Gene1ID': 'WB:WBGene00011502',\n",
       " 'Gene1Symbol': 'vps-53',\n",
       " 'Gene1SpeciesTaxonID': 'NCBITaxon:6239',\n",
       " 'Gene1SpeciesName': 'Caenorhabditis elegans',\n",
       " 'Gene2ID': 'SGD:S000003566',\n",
       " 'Gene2Symbol': 'VPS53',\n",
       " 'Gene2SpeciesTaxonID': 'NCBITaxon:559292',\n",
       " 'Gene2SpeciesName': 'Saccharomyces cerevisiae',\n",
       " 'Algorithms': 'PhylomeDB|OrthoFinder|Hieranoid|OMA|Ensembl Compara|Roundup|InParanoid|PANTHER|OrthoInspector',\n",
       " 'AlgorithmsMatch': 9,\n",
       " 'OutOfAlgorithms': 10,\n",
       " 'IsBestScore': 'Yes',\n",
       " 'IsBestRevScore': 'Yes'}"
      ]
     },
     "metadata": {},
     "execution_count": 9
    }
   ],
   "metadata": {}
  },
  {
   "cell_type": "code",
   "execution_count": 10,
   "source": [
    "data.columns.values"
   ],
   "outputs": [
    {
     "output_type": "execute_result",
     "data": {
      "text/plain": [
       "array(['Gene1ID', 'Gene1Symbol', 'Gene1SpeciesTaxonID',\n",
       "       'Gene1SpeciesName', 'Gene2ID', 'Gene2Symbol',\n",
       "       'Gene2SpeciesTaxonID', 'Gene2SpeciesName', 'Algorithms',\n",
       "       'AlgorithmsMatch', 'OutOfAlgorithms', 'IsBestScore',\n",
       "       'IsBestRevScore'], dtype=object)"
      ]
     },
     "metadata": {},
     "execution_count": 10
    }
   ],
   "metadata": {}
  },
  {
   "cell_type": "code",
   "execution_count": 11,
   "source": [
    "data.head()"
   ],
   "outputs": [
    {
     "output_type": "execute_result",
     "data": {
      "text/html": [
       "<div>\n",
       "<style scoped>\n",
       "    .dataframe tbody tr th:only-of-type {\n",
       "        vertical-align: middle;\n",
       "    }\n",
       "\n",
       "    .dataframe tbody tr th {\n",
       "        vertical-align: top;\n",
       "    }\n",
       "\n",
       "    .dataframe thead th {\n",
       "        text-align: right;\n",
       "    }\n",
       "</style>\n",
       "<table border=\"1\" class=\"dataframe\">\n",
       "  <thead>\n",
       "    <tr style=\"text-align: right;\">\n",
       "      <th></th>\n",
       "      <th>Gene1ID</th>\n",
       "      <th>Gene1Symbol</th>\n",
       "      <th>Gene1SpeciesTaxonID</th>\n",
       "      <th>Gene1SpeciesName</th>\n",
       "      <th>Gene2ID</th>\n",
       "      <th>Gene2Symbol</th>\n",
       "      <th>Gene2SpeciesTaxonID</th>\n",
       "      <th>Gene2SpeciesName</th>\n",
       "      <th>Algorithms</th>\n",
       "      <th>AlgorithmsMatch</th>\n",
       "      <th>OutOfAlgorithms</th>\n",
       "      <th>IsBestScore</th>\n",
       "      <th>IsBestRevScore</th>\n",
       "    </tr>\n",
       "  </thead>\n",
       "  <tbody>\n",
       "    <tr>\n",
       "      <th>0</th>\n",
       "      <td>WB:WBGene00011502</td>\n",
       "      <td>vps-53</td>\n",
       "      <td>NCBITaxon:6239</td>\n",
       "      <td>Caenorhabditis elegans</td>\n",
       "      <td>SGD:S000003566</td>\n",
       "      <td>VPS53</td>\n",
       "      <td>NCBITaxon:559292</td>\n",
       "      <td>Saccharomyces cerevisiae</td>\n",
       "      <td>PhylomeDB|OrthoFinder|Hieranoid|OMA|Ensembl Co...</td>\n",
       "      <td>9</td>\n",
       "      <td>10</td>\n",
       "      <td>Yes</td>\n",
       "      <td>Yes</td>\n",
       "    </tr>\n",
       "    <tr>\n",
       "      <th>1</th>\n",
       "      <td>ZFIN:ZDB-GENE-041114-199</td>\n",
       "      <td>vps53</td>\n",
       "      <td>NCBITaxon:7955</td>\n",
       "      <td>Danio rerio</td>\n",
       "      <td>SGD:S000003566</td>\n",
       "      <td>VPS53</td>\n",
       "      <td>NCBITaxon:559292</td>\n",
       "      <td>Saccharomyces cerevisiae</td>\n",
       "      <td>OrthoFinder|Hieranoid|OMA|Ensembl Compara|Roun...</td>\n",
       "      <td>8</td>\n",
       "      <td>10</td>\n",
       "      <td>Yes</td>\n",
       "      <td>Yes</td>\n",
       "    </tr>\n",
       "    <tr>\n",
       "      <th>2</th>\n",
       "      <td>RGD:1311391</td>\n",
       "      <td>Vps53</td>\n",
       "      <td>NCBITaxon:10116</td>\n",
       "      <td>Rattus norvegicus</td>\n",
       "      <td>SGD:S000003566</td>\n",
       "      <td>VPS53</td>\n",
       "      <td>NCBITaxon:559292</td>\n",
       "      <td>Saccharomyces cerevisiae</td>\n",
       "      <td>OrthoFinder|Hieranoid|OMA|Ensembl Compara|InPa...</td>\n",
       "      <td>7</td>\n",
       "      <td>9</td>\n",
       "      <td>Yes</td>\n",
       "      <td>Yes</td>\n",
       "    </tr>\n",
       "    <tr>\n",
       "      <th>3</th>\n",
       "      <td>MGI:1915549</td>\n",
       "      <td>Vps53</td>\n",
       "      <td>NCBITaxon:10090</td>\n",
       "      <td>Mus musculus</td>\n",
       "      <td>SGD:S000003566</td>\n",
       "      <td>VPS53</td>\n",
       "      <td>NCBITaxon:559292</td>\n",
       "      <td>Saccharomyces cerevisiae</td>\n",
       "      <td>PhylomeDB|OrthoFinder|Hieranoid|OMA|Ensembl Co...</td>\n",
       "      <td>9</td>\n",
       "      <td>10</td>\n",
       "      <td>Yes</td>\n",
       "      <td>Yes</td>\n",
       "    </tr>\n",
       "    <tr>\n",
       "      <th>4</th>\n",
       "      <td>HGNC:25608</td>\n",
       "      <td>VPS53</td>\n",
       "      <td>NCBITaxon:9606</td>\n",
       "      <td>Homo sapiens</td>\n",
       "      <td>SGD:S000003566</td>\n",
       "      <td>VPS53</td>\n",
       "      <td>NCBITaxon:559292</td>\n",
       "      <td>Saccharomyces cerevisiae</td>\n",
       "      <td>PhylomeDB|OrthoFinder|Hieranoid|OMA|Ensembl Co...</td>\n",
       "      <td>9</td>\n",
       "      <td>10</td>\n",
       "      <td>Yes</td>\n",
       "      <td>Yes</td>\n",
       "    </tr>\n",
       "  </tbody>\n",
       "</table>\n",
       "</div>"
      ],
      "text/plain": [
       "                    Gene1ID Gene1Symbol Gene1SpeciesTaxonID  \\\n",
       "0         WB:WBGene00011502      vps-53      NCBITaxon:6239   \n",
       "1  ZFIN:ZDB-GENE-041114-199       vps53      NCBITaxon:7955   \n",
       "2               RGD:1311391       Vps53     NCBITaxon:10116   \n",
       "3               MGI:1915549       Vps53     NCBITaxon:10090   \n",
       "4                HGNC:25608       VPS53      NCBITaxon:9606   \n",
       "\n",
       "         Gene1SpeciesName         Gene2ID Gene2Symbol Gene2SpeciesTaxonID  \\\n",
       "0  Caenorhabditis elegans  SGD:S000003566       VPS53    NCBITaxon:559292   \n",
       "1             Danio rerio  SGD:S000003566       VPS53    NCBITaxon:559292   \n",
       "2       Rattus norvegicus  SGD:S000003566       VPS53    NCBITaxon:559292   \n",
       "3            Mus musculus  SGD:S000003566       VPS53    NCBITaxon:559292   \n",
       "4            Homo sapiens  SGD:S000003566       VPS53    NCBITaxon:559292   \n",
       "\n",
       "           Gene2SpeciesName  \\\n",
       "0  Saccharomyces cerevisiae   \n",
       "1  Saccharomyces cerevisiae   \n",
       "2  Saccharomyces cerevisiae   \n",
       "3  Saccharomyces cerevisiae   \n",
       "4  Saccharomyces cerevisiae   \n",
       "\n",
       "                                          Algorithms  AlgorithmsMatch  \\\n",
       "0  PhylomeDB|OrthoFinder|Hieranoid|OMA|Ensembl Co...                9   \n",
       "1  OrthoFinder|Hieranoid|OMA|Ensembl Compara|Roun...                8   \n",
       "2  OrthoFinder|Hieranoid|OMA|Ensembl Compara|InPa...                7   \n",
       "3  PhylomeDB|OrthoFinder|Hieranoid|OMA|Ensembl Co...                9   \n",
       "4  PhylomeDB|OrthoFinder|Hieranoid|OMA|Ensembl Co...                9   \n",
       "\n",
       "   OutOfAlgorithms IsBestScore IsBestRevScore  \n",
       "0               10         Yes            Yes  \n",
       "1               10         Yes            Yes  \n",
       "2                9         Yes            Yes  \n",
       "3               10         Yes            Yes  \n",
       "4               10         Yes            Yes  "
      ]
     },
     "metadata": {},
     "execution_count": 11
    }
   ],
   "metadata": {}
  },
  {
   "cell_type": "markdown",
   "source": [
    "---"
   ],
   "metadata": {}
  },
  {
   "cell_type": "markdown",
   "source": [
    "## Parse Data\r\n",
    "Now that we have loaded the data and correctly formatted it into records, we can loop through the new dictionary and access our data."
   ],
   "metadata": {}
  },
  {
   "cell_type": "code",
   "execution_count": 16,
   "source": [
    "# Test Example Parse\r\n",
    "#for rec in data2[:4]:\r\n",
    "    #label_ids = rec.pop(\"Label IDs\").split(\";\")\r\n",
    "    #label_names = rec.pop(\"Label Names\").split(\";\")\r\n",
    "    #assert len(label_ids) == len(label_names)\r\n",
    "    #labels = []\r\n",
    "    #for i,_ in enumerate(label_ids):\r\n",
    "        #labels.append({\"id\" : label_ids[i],\r\n",
    "         #               \"name\" : label_names[i]})\r\n",
    "   # _id = rec[\"Gene ID\"]\r\n",
    "    #rec = dict_convert(rec,keyfn=process_key)\r\n",
    "    #doc = {\"_id\" : _id, \"drug_labels\" : labels}\r\n",
    "\r\n",
    "#print(doc)"
   ],
   "outputs": [],
   "metadata": {}
  },
  {
   "cell_type": "code",
   "execution_count": 12,
   "source": [
    "data.head()"
   ],
   "outputs": [
    {
     "output_type": "execute_result",
     "data": {
      "text/html": [
       "<div>\n",
       "<style scoped>\n",
       "    .dataframe tbody tr th:only-of-type {\n",
       "        vertical-align: middle;\n",
       "    }\n",
       "\n",
       "    .dataframe tbody tr th {\n",
       "        vertical-align: top;\n",
       "    }\n",
       "\n",
       "    .dataframe thead th {\n",
       "        text-align: right;\n",
       "    }\n",
       "</style>\n",
       "<table border=\"1\" class=\"dataframe\">\n",
       "  <thead>\n",
       "    <tr style=\"text-align: right;\">\n",
       "      <th></th>\n",
       "      <th>Gene1ID</th>\n",
       "      <th>Gene1Symbol</th>\n",
       "      <th>Gene1SpeciesTaxonID</th>\n",
       "      <th>Gene1SpeciesName</th>\n",
       "      <th>Gene2ID</th>\n",
       "      <th>Gene2Symbol</th>\n",
       "      <th>Gene2SpeciesTaxonID</th>\n",
       "      <th>Gene2SpeciesName</th>\n",
       "      <th>Algorithms</th>\n",
       "      <th>AlgorithmsMatch</th>\n",
       "      <th>OutOfAlgorithms</th>\n",
       "      <th>IsBestScore</th>\n",
       "      <th>IsBestRevScore</th>\n",
       "    </tr>\n",
       "  </thead>\n",
       "  <tbody>\n",
       "    <tr>\n",
       "      <th>0</th>\n",
       "      <td>WB:WBGene00011502</td>\n",
       "      <td>vps-53</td>\n",
       "      <td>NCBITaxon:6239</td>\n",
       "      <td>Caenorhabditis elegans</td>\n",
       "      <td>SGD:S000003566</td>\n",
       "      <td>VPS53</td>\n",
       "      <td>NCBITaxon:559292</td>\n",
       "      <td>Saccharomyces cerevisiae</td>\n",
       "      <td>PhylomeDB|OrthoFinder|Hieranoid|OMA|Ensembl Co...</td>\n",
       "      <td>9</td>\n",
       "      <td>10</td>\n",
       "      <td>Yes</td>\n",
       "      <td>Yes</td>\n",
       "    </tr>\n",
       "    <tr>\n",
       "      <th>1</th>\n",
       "      <td>ZFIN:ZDB-GENE-041114-199</td>\n",
       "      <td>vps53</td>\n",
       "      <td>NCBITaxon:7955</td>\n",
       "      <td>Danio rerio</td>\n",
       "      <td>SGD:S000003566</td>\n",
       "      <td>VPS53</td>\n",
       "      <td>NCBITaxon:559292</td>\n",
       "      <td>Saccharomyces cerevisiae</td>\n",
       "      <td>OrthoFinder|Hieranoid|OMA|Ensembl Compara|Roun...</td>\n",
       "      <td>8</td>\n",
       "      <td>10</td>\n",
       "      <td>Yes</td>\n",
       "      <td>Yes</td>\n",
       "    </tr>\n",
       "    <tr>\n",
       "      <th>2</th>\n",
       "      <td>RGD:1311391</td>\n",
       "      <td>Vps53</td>\n",
       "      <td>NCBITaxon:10116</td>\n",
       "      <td>Rattus norvegicus</td>\n",
       "      <td>SGD:S000003566</td>\n",
       "      <td>VPS53</td>\n",
       "      <td>NCBITaxon:559292</td>\n",
       "      <td>Saccharomyces cerevisiae</td>\n",
       "      <td>OrthoFinder|Hieranoid|OMA|Ensembl Compara|InPa...</td>\n",
       "      <td>7</td>\n",
       "      <td>9</td>\n",
       "      <td>Yes</td>\n",
       "      <td>Yes</td>\n",
       "    </tr>\n",
       "    <tr>\n",
       "      <th>3</th>\n",
       "      <td>MGI:1915549</td>\n",
       "      <td>Vps53</td>\n",
       "      <td>NCBITaxon:10090</td>\n",
       "      <td>Mus musculus</td>\n",
       "      <td>SGD:S000003566</td>\n",
       "      <td>VPS53</td>\n",
       "      <td>NCBITaxon:559292</td>\n",
       "      <td>Saccharomyces cerevisiae</td>\n",
       "      <td>PhylomeDB|OrthoFinder|Hieranoid|OMA|Ensembl Co...</td>\n",
       "      <td>9</td>\n",
       "      <td>10</td>\n",
       "      <td>Yes</td>\n",
       "      <td>Yes</td>\n",
       "    </tr>\n",
       "    <tr>\n",
       "      <th>4</th>\n",
       "      <td>HGNC:25608</td>\n",
       "      <td>VPS53</td>\n",
       "      <td>NCBITaxon:9606</td>\n",
       "      <td>Homo sapiens</td>\n",
       "      <td>SGD:S000003566</td>\n",
       "      <td>VPS53</td>\n",
       "      <td>NCBITaxon:559292</td>\n",
       "      <td>Saccharomyces cerevisiae</td>\n",
       "      <td>PhylomeDB|OrthoFinder|Hieranoid|OMA|Ensembl Co...</td>\n",
       "      <td>9</td>\n",
       "      <td>10</td>\n",
       "      <td>Yes</td>\n",
       "      <td>Yes</td>\n",
       "    </tr>\n",
       "  </tbody>\n",
       "</table>\n",
       "</div>"
      ],
      "text/plain": [
       "                    Gene1ID Gene1Symbol Gene1SpeciesTaxonID  \\\n",
       "0         WB:WBGene00011502      vps-53      NCBITaxon:6239   \n",
       "1  ZFIN:ZDB-GENE-041114-199       vps53      NCBITaxon:7955   \n",
       "2               RGD:1311391       Vps53     NCBITaxon:10116   \n",
       "3               MGI:1915549       Vps53     NCBITaxon:10090   \n",
       "4                HGNC:25608       VPS53      NCBITaxon:9606   \n",
       "\n",
       "         Gene1SpeciesName         Gene2ID Gene2Symbol Gene2SpeciesTaxonID  \\\n",
       "0  Caenorhabditis elegans  SGD:S000003566       VPS53    NCBITaxon:559292   \n",
       "1             Danio rerio  SGD:S000003566       VPS53    NCBITaxon:559292   \n",
       "2       Rattus norvegicus  SGD:S000003566       VPS53    NCBITaxon:559292   \n",
       "3            Mus musculus  SGD:S000003566       VPS53    NCBITaxon:559292   \n",
       "4            Homo sapiens  SGD:S000003566       VPS53    NCBITaxon:559292   \n",
       "\n",
       "           Gene2SpeciesName  \\\n",
       "0  Saccharomyces cerevisiae   \n",
       "1  Saccharomyces cerevisiae   \n",
       "2  Saccharomyces cerevisiae   \n",
       "3  Saccharomyces cerevisiae   \n",
       "4  Saccharomyces cerevisiae   \n",
       "\n",
       "                                          Algorithms  AlgorithmsMatch  \\\n",
       "0  PhylomeDB|OrthoFinder|Hieranoid|OMA|Ensembl Co...                9   \n",
       "1  OrthoFinder|Hieranoid|OMA|Ensembl Compara|Roun...                8   \n",
       "2  OrthoFinder|Hieranoid|OMA|Ensembl Compara|InPa...                7   \n",
       "3  PhylomeDB|OrthoFinder|Hieranoid|OMA|Ensembl Co...                9   \n",
       "4  PhylomeDB|OrthoFinder|Hieranoid|OMA|Ensembl Co...                9   \n",
       "\n",
       "   OutOfAlgorithms IsBestScore IsBestRevScore  \n",
       "0               10         Yes            Yes  \n",
       "1               10         Yes            Yes  \n",
       "2                9         Yes            Yes  \n",
       "3               10         Yes            Yes  \n",
       "4               10         Yes            Yes  "
      ]
     },
     "metadata": {},
     "execution_count": 12
    }
   ],
   "metadata": {}
  },
  {
   "cell_type": "markdown",
   "source": [
    " \r\n",
    "Example record:   \r\n",
    "``` \r\n",
    "{'Gene1ID': 'WB:WBGene00011502',\r\n",
    "  'Gene1Symbol': 'vps-53',\r\n",
    "  'Gene1SpeciesTaxonID': 'NCBITaxon:6239',\r\n",
    "  'Gene1SpeciesName': 'Caenorhabditis elegans',\r\n",
    "  'Gene2ID': 'SGD:S000003566',\r\n",
    "  'Gene2Symbol': 'VPS53',\r\n",
    "  'Gene2SpeciesTaxonID': 'NCBITaxon:559292',\r\n",
    "  'Gene2SpeciesName': 'Saccharomyces cerevisiae',\r\n",
    "  'Algorithms': 'PhylomeDB|OrthoFinder|Hieranoid|OMA|Ensembl Compara|Roundup|InParanoid|PANTHER|OrthoInspector',\r\n",
    "  'AlgorithmsMatch': 9,\r\n",
    "  'OutOfAlgorithms': 10,\r\n",
    "  'IsBestScore': 'Yes',\r\n",
    "  'IsBestRevScore': 'Yes'} \r\n",
    "  \r\n",
    "```"
   ],
   "metadata": {}
  },
  {
   "cell_type": "code",
   "execution_count": 13,
   "source": [
    "data.columns.values"
   ],
   "outputs": [
    {
     "output_type": "execute_result",
     "data": {
      "text/plain": [
       "array(['Gene1ID', 'Gene1Symbol', 'Gene1SpeciesTaxonID',\n",
       "       'Gene1SpeciesName', 'Gene2ID', 'Gene2Symbol',\n",
       "       'Gene2SpeciesTaxonID', 'Gene2SpeciesName', 'Algorithms',\n",
       "       'AlgorithmsMatch', 'OutOfAlgorithms', 'IsBestScore',\n",
       "       'IsBestRevScore'], dtype=object)"
      ]
     },
     "metadata": {},
     "execution_count": 13
    }
   ],
   "metadata": {}
  },
  {
   "cell_type": "markdown",
   "source": [
    "### **Build Parser**  "
   ],
   "metadata": {}
  },
  {
   "cell_type": "code",
   "execution_count": 14,
   "source": [
    "import biothings\r\n",
    "#from biothings import config\r\n",
    "from biothings.utils.dataload import dict_convert, dict_sweep"
   ],
   "outputs": [],
   "metadata": {}
  },
  {
   "cell_type": "code",
   "execution_count": 17,
   "source": [
    "def load_orthology(data, data_list):\r\n",
    "\r\n",
    "    process_key = lambda k: k.replace(\" \",\"_\").lower()\r\n",
    "\r\n",
    "    gene1_ids=data['Gene1ID']\r\n",
    "    gene2_ids=data[\"Gene2ID\"]\r\n",
    "\r\n",
    "    assert len(gene1_ids) == len(gene2_ids)\r\n",
    "\r\n",
    "    results = {}\r\n",
    "\r\n",
    "    for rec in data_list:\r\n",
    "        _id = rec['Gene1ID']\r\n",
    "        rec = dict_convert(rec,keyfn=process_key)\r\n",
    "        # remove NaN values, not indexable\r\n",
    "        rec = dict_sweep(rec,vals=[np.nan])\r\n",
    "        results.setdefault(_id,[]).append(rec)\r\n",
    "        #print(rec)\r\n",
    "    for _id,docs in results.items():\r\n",
    "        doc = {\"_id\": _id, \"orthology_data\" : docs}\r\n",
    "        yield doc\r\n",
    "    \r\n",
    "    #return results;"
   ],
   "outputs": [],
   "metadata": {}
  },
  {
   "cell_type": "code",
   "execution_count": 18,
   "source": [
    "def load_testcase():\r\n",
    "    results=load_orthology(data, data_list)\r\n",
    "    #print(results)\r\n",
    "    print(next(results))\r\n",
    "load_testcase()"
   ],
   "outputs": [
    {
     "output_type": "stream",
     "name": "stdout",
     "text": [
      "{'_id': 'WB:WBGene00011502', 'orthology_data': [{'gene1id': 'WB:WBGene00011502', 'gene1symbol': 'vps-53', 'gene1speciestaxonid': 'NCBITaxon:6239', 'gene1speciesname': 'Caenorhabditis elegans', 'gene2id': 'SGD:S000003566', 'gene2symbol': 'VPS53', 'gene2speciestaxonid': 'NCBITaxon:559292', 'gene2speciesname': 'Saccharomyces cerevisiae', 'algorithms': 'PhylomeDB|OrthoFinder|Hieranoid|OMA|Ensembl Compara|Roundup|InParanoid|PANTHER|OrthoInspector', 'algorithmsmatch': 9, 'outofalgorithms': 10, 'isbestscore': 'Yes', 'isbestrevscore': 'Yes'}, {'gene1id': 'WB:WBGene00011502', 'gene1symbol': 'vps-53', 'gene1speciestaxonid': 'NCBITaxon:6239', 'gene1speciesname': 'Caenorhabditis elegans', 'gene2id': 'FB:FBgn0031598', 'gene2symbol': 'Vps53', 'gene2speciestaxonid': 'NCBITaxon:7227', 'gene2speciesname': 'Drosophila melanogaster', 'algorithms': 'PhylomeDB|OrthoFinder|Hieranoid|OMA|Ensembl Compara|Roundup|InParanoid|PANTHER|OrthoInspector', 'algorithmsmatch': 9, 'outofalgorithms': 10, 'isbestscore': 'Yes', 'isbestrevscore': 'Yes'}, {'gene1id': 'WB:WBGene00011502', 'gene1symbol': 'vps-53', 'gene1speciestaxonid': 'NCBITaxon:6239', 'gene1speciesname': 'Caenorhabditis elegans', 'gene2id': 'ZFIN:ZDB-GENE-041114-199', 'gene2symbol': 'vps53', 'gene2speciestaxonid': 'NCBITaxon:7955', 'gene2speciesname': 'Danio rerio', 'algorithms': 'OrthoFinder|Hieranoid|OMA|Ensembl Compara|Roundup|InParanoid|PANTHER|OrthoInspector', 'algorithmsmatch': 8, 'outofalgorithms': 10, 'isbestscore': 'Yes', 'isbestrevscore': 'Yes'}, {'gene1id': 'WB:WBGene00011502', 'gene1symbol': 'vps-53', 'gene1speciestaxonid': 'NCBITaxon:6239', 'gene1speciesname': 'Caenorhabditis elegans', 'gene2id': 'RGD:1311391', 'gene2symbol': 'Vps53', 'gene2speciestaxonid': 'NCBITaxon:10116', 'gene2speciesname': 'Rattus norvegicus', 'algorithms': 'OrthoFinder|Hieranoid|OMA|Ensembl Compara|InParanoid|PANTHER|OrthoInspector', 'algorithmsmatch': 7, 'outofalgorithms': 9, 'isbestscore': 'Yes', 'isbestrevscore': 'Yes'}, {'gene1id': 'WB:WBGene00011502', 'gene1symbol': 'vps-53', 'gene1speciestaxonid': 'NCBITaxon:6239', 'gene1speciesname': 'Caenorhabditis elegans', 'gene2id': 'HGNC:25608', 'gene2symbol': 'VPS53', 'gene2speciestaxonid': 'NCBITaxon:9606', 'gene2speciesname': 'Homo sapiens', 'algorithms': 'PhylomeDB|OrthoFinder|Hieranoid|OMA|Ensembl Compara|Roundup|InParanoid|PANTHER|OrthoInspector', 'algorithmsmatch': 9, 'outofalgorithms': 10, 'isbestscore': 'Yes', 'isbestrevscore': 'Yes'}, {'gene1id': 'WB:WBGene00011502', 'gene1symbol': 'vps-53', 'gene1speciestaxonid': 'NCBITaxon:6239', 'gene1speciesname': 'Caenorhabditis elegans', 'gene2id': 'MGI:1915549', 'gene2symbol': 'Vps53', 'gene2speciestaxonid': 'NCBITaxon:10090', 'gene2speciesname': 'Mus musculus', 'algorithms': 'PhylomeDB|OrthoFinder|Hieranoid|OMA|Ensembl Compara|Roundup|InParanoid|PANTHER|OrthoInspector', 'algorithmsmatch': 9, 'outofalgorithms': 10, 'isbestscore': 'Yes', 'isbestrevscore': 'Yes'}]}\n"
     ]
    }
   ],
   "metadata": {}
  },
  {
   "cell_type": "markdown",
   "source": [
    "Example from ```load_druglabels```"
   ],
   "metadata": {}
  },
  {
   "cell_type": "code",
   "execution_count": 69,
   "source": [
    "\r\n",
    "for rec in data2[:3]:\r\n",
    "    label_ids = rec.pop(\"Label IDs\").split(\";\")\r\n",
    "    label_names = rec.pop(\"Label Names\").split(\";\")\r\n",
    "    assert len(label_ids) == len(label_names)\r\n",
    "    labels = []\r\n",
    "    for i,_ in enumerate(label_ids):\r\n",
    "        labels.append({\"id\" : label_ids[i],\r\n",
    "                        \"name\" : label_names[i]})\r\n",
    "    _id = rec[\"Gene ID\"]\r\n",
    "    rec = dict_convert(rec,keyfn=process_key)\r\n",
    "    doc = {\"_id\" : _id, \"drug_labels\" : labels}\r\n",
    "    print(rec)\r\n",
    "    print(doc)\r\n"
   ],
   "outputs": [
    {
     "output_type": "stream",
     "name": "stdout",
     "text": [
      "{'gene_id': 'PA267', 'gene_symbol': 'ABCB1'}\n",
      "{'_id': 'PA267', 'drug_labels': [{'id': 'PA166123409', 'name': 'Annotation of EMA Label for aliskiren and ABCB1'}, {'id': 'PA166159586', 'name': 'Annotation of HCSC Label for aliskiren and ABCB1'}]}\n",
      "{'gene_id': 'PA390', 'gene_symbol': 'ABCG2'}\n",
      "{'_id': 'PA390', 'drug_labels': [{'id': 'PA166184427', 'name': 'Annotation of Swissmedic Label for ezetimibe / rosuvastatin and ABCG2, SLCO1B1'}, {'id': 'PA166184499', 'name': 'Annotation of Swissmedic Label for rosuvastatin and ABCG2, SLCO1B1'}]}\n",
      "{'gene_id': 'PA36144', 'gene_symbol': 'ABI1'}\n",
      "{'_id': 'PA36144', 'drug_labels': [{'id': 'PA166127660', 'name': 'Annotation of HCSC Label for dasatinib and ABI1, BCR'}, {'id': 'PA166127682', 'name': 'Annotation of HCSC Label for imatinib and ABI1, BCR, FIP1L1, KIT, PDGFRA, PDGFRB'}, {'id': 'PA166127693', 'name': 'Annotation of HCSC Label for nilotinib and ABI1, BCR'}, {'id': 'PA166129527', 'name': 'Annotation of HCSC Label for ponatinib and ABI1, BCR'}]}\n"
     ]
    }
   ],
   "metadata": {}
  },
  {
   "cell_type": "markdown",
   "source": [
    "---\r\n",
    "Draft extras - "
   ],
   "metadata": {}
  },
  {
   "cell_type": "code",
   "execution_count": null,
   "source": [
    "# Format Version 2\r\n",
    "# Each ID has a unique doc\r\n",
    "#info_list=[]\r\n",
    "#for i,_ in enumerate(g1_ids):\r\n",
    "#    info_list.append({\r\n",
    "#                \"id\": g1_ids[i],\r\n",
    "            #\"ortholog_data\": \r\n",
    "#   })\r\n",
    "\r\n",
    "\"\"\"\r\n",
    "# Format Version 1\r\n",
    "# Two IDs, gene1_id & gene2_id\r\n",
    "ids=[]\r\n",
    "\r\n",
    "\r\n",
    "for i,_ in enumerate(g1_ids):\r\n",
    "ids.append({\r\n",
    "            \"gene1_id\": g1_ids[i],\r\n",
    "            \"gene2_id\": g2_ids[i]\r\n",
    "})\r\n",
    "\"\"\"\r\n",
    "\r\n",
    "\"\"\"\r\n",
    "# cols with the gene IDS col 1 & 2 taken out \r\n",
    "data_cols=['Gene1Symbol', 'Gene1SpeciesTaxonID',\r\n",
    "    'Gene1SpeciesName', 'Gene2Symbol',\r\n",
    "    'Gene2SpeciesTaxonID', 'Gene2SpeciesName', 'Algorithms',\r\n",
    "    'AlgorithmsMatch', 'OutOfAlgorithms', 'IsBestScore',\r\n",
    "    'IsBestRevScore']\r\n",
    "\"\"\""
   ],
   "outputs": [],
   "metadata": {}
  },
  {
   "cell_type": "markdown",
   "source": [
    "---"
   ],
   "metadata": {}
  }
 ],
 "metadata": {
  "orig_nbformat": 4,
  "language_info": {
   "name": "python",
   "version": "3.8.10",
   "mimetype": "text/x-python",
   "codemirror_mode": {
    "name": "ipython",
    "version": 3
   },
   "pygments_lexer": "ipython3",
   "nbconvert_exporter": "python",
   "file_extension": ".py"
  },
  "kernelspec": {
   "name": "python3",
   "display_name": "Python 3.8.10 64-bit ('base': conda)"
  },
  "interpreter": {
   "hash": "e342038c98f7d4213227a89db7f796ea1c670485a252fec9cf20c3f8cd429f5d"
  }
 },
 "nbformat": 4,
 "nbformat_minor": 2
}
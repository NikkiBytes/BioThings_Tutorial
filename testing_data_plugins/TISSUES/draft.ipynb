{
 "cells": [
  {
   "cell_type": "markdown",
   "source": [
    "# Data Plugin Testing Draft for TISSUES  \n",
    "\n",
    "Data source: https://tissues.jensenlab.org/Downloads  \n",
    "Data plugin example: https://github.com/kevinxin90/DISEASES\n"
   ],
   "metadata": {}
  },
  {
   "cell_type": "markdown",
   "source": [
    "The files contain all links in the TISSUES database.   \n",
    "<u>All files start with the following four columns:</u> **gene identifier, gene name, tissue identifier, and tissue name**     \n",
    "The **knowledge files** further contain the source database, the evidence type, and the confidence score.  \n",
    "The **experiments files** instead contain the source dataset, the expression score, and the confidence score.   \n",
    "\n",
    "\n"
   ],
   "metadata": {}
  },
  {
   "cell_type": "code",
   "execution_count": 5,
   "source": [
    "import os, csv\n",
    "from biothings_client import get_client\n",
    "import requests\n",
    "import pandas as pd\n",
    "from IPython.display import display\n"
   ],
   "outputs": [],
   "metadata": {}
  },
  {
   "cell_type": "code",
   "execution_count": 6,
   "source": [
    "# set data paths\n",
    "tm_human_path=\"https://download.jensenlab.org/human_tissue_textmining_full.tsv\"\n",
    "tm_path=\"/Users/nacosta/Documents/human_tissue_textmining_full.tsv\"\n",
    "kn_human_path=\"https://download.jensenlab.org/human_tissue_knowledge_full.tsv\"\n",
    "ex_human_path=\"https://download.jensenlab.org/human_tissue_experiments_full.tsv\"\n"
   ],
   "outputs": [],
   "metadata": {}
  },
  {
   "cell_type": "code",
   "execution_count": null,
   "source": [
    "from biothings.utils.dataload import tab2dict\n"
   ],
   "outputs": [],
   "metadata": {}
  },
  {
   "cell_type": "markdown",
   "source": [
    "The **textmining files** contain the z-score, the confidence score, and a URL to a viewer of the underlying abstracts."
   ],
   "metadata": {}
  },
  {
   "cell_type": "code",
   "execution_count": 8,
   "source": [
    "m.head()"
   ],
   "outputs": [
    {
     "output_type": "execute_result",
     "data": {
      "text/html": [
       "<div>\n",
       "<style scoped>\n",
       "    .dataframe tbody tr th:only-of-type {\n",
       "        vertical-align: middle;\n",
       "    }\n",
       "\n",
       "    .dataframe tbody tr th {\n",
       "        vertical-align: top;\n",
       "    }\n",
       "\n",
       "    .dataframe thead th {\n",
       "        text-align: right;\n",
       "    }\n",
       "</style>\n",
       "<table border=\"1\" class=\"dataframe\">\n",
       "  <thead>\n",
       "    <tr style=\"text-align: right;\">\n",
       "      <th></th>\n",
       "      <th>0</th>\n",
       "      <th>1</th>\n",
       "      <th>2</th>\n",
       "      <th>3</th>\n",
       "      <th>4</th>\n",
       "      <th>5</th>\n",
       "      <th>6</th>\n",
       "    </tr>\n",
       "  </thead>\n",
       "  <tbody>\n",
       "    <tr>\n",
       "      <th>0</th>\n",
       "      <td>18S_rRNA</td>\n",
       "      <td>18S_rRNA</td>\n",
       "      <td>BTO:0000000</td>\n",
       "      <td>tissues, cell types and enzyme sources</td>\n",
       "      <td>6.111</td>\n",
       "      <td>3.055</td>\n",
       "      <td>https://tissues.jensenlab.org/Entity?documents...</td>\n",
       "    </tr>\n",
       "    <tr>\n",
       "      <th>1</th>\n",
       "      <td>18S_rRNA</td>\n",
       "      <td>18S_rRNA</td>\n",
       "      <td>BTO:0000042</td>\n",
       "      <td>BTO:0000042</td>\n",
       "      <td>5.997</td>\n",
       "      <td>2.999</td>\n",
       "      <td>https://tissues.jensenlab.org/Entity?documents...</td>\n",
       "    </tr>\n",
       "    <tr>\n",
       "      <th>2</th>\n",
       "      <td>18S_rRNA</td>\n",
       "      <td>18S_rRNA</td>\n",
       "      <td>BTO:0001489</td>\n",
       "      <td>Whole body</td>\n",
       "      <td>5.997</td>\n",
       "      <td>2.999</td>\n",
       "      <td>https://tissues.jensenlab.org/Entity?documents...</td>\n",
       "    </tr>\n",
       "    <tr>\n",
       "      <th>3</th>\n",
       "      <td>18S_rRNA</td>\n",
       "      <td>18S_rRNA</td>\n",
       "      <td>BTO:0001773</td>\n",
       "      <td>Oocyst</td>\n",
       "      <td>5.707</td>\n",
       "      <td>2.854</td>\n",
       "      <td>https://tissues.jensenlab.org/Entity?documents...</td>\n",
       "    </tr>\n",
       "    <tr>\n",
       "      <th>4</th>\n",
       "      <td>18S_rRNA</td>\n",
       "      <td>18S_rRNA</td>\n",
       "      <td>BTO:0000284</td>\n",
       "      <td>Organism form</td>\n",
       "      <td>5.641</td>\n",
       "      <td>2.820</td>\n",
       "      <td>https://tissues.jensenlab.org/Entity?documents...</td>\n",
       "    </tr>\n",
       "  </tbody>\n",
       "</table>\n",
       "</div>"
      ],
      "text/plain": [
       "          0         1            2                                       3  \\\n",
       "0  18S_rRNA  18S_rRNA  BTO:0000000  tissues, cell types and enzyme sources   \n",
       "1  18S_rRNA  18S_rRNA  BTO:0000042                             BTO:0000042   \n",
       "2  18S_rRNA  18S_rRNA  BTO:0001489                              Whole body   \n",
       "3  18S_rRNA  18S_rRNA  BTO:0001773                                  Oocyst   \n",
       "4  18S_rRNA  18S_rRNA  BTO:0000284                           Organism form   \n",
       "\n",
       "       4      5                                                  6  \n",
       "0  6.111  3.055  https://tissues.jensenlab.org/Entity?documents...  \n",
       "1  5.997  2.999  https://tissues.jensenlab.org/Entity?documents...  \n",
       "2  5.997  2.999  https://tissues.jensenlab.org/Entity?documents...  \n",
       "3  5.707  2.854  https://tissues.jensenlab.org/Entity?documents...  \n",
       "4  5.641  2.820  https://tissues.jensenlab.org/Entity?documents...  "
      ]
     },
     "metadata": {},
     "execution_count": 8
    }
   ],
   "metadata": {}
  },
  {
   "cell_type": "code",
   "execution_count": 7,
   "source": [
    "def load_tm_hu_data(filepath):\n",
    "    with open(tm_path) as file:\n",
    "        json_docs=[]\n",
    "        fieldnames = ['ensembl', 'symbol', 'doid',\n",
    "                        'name', 'zscore', 'confidence', 'url']\n",
    "        reader=csv.DictReader(file, fieldnames, delimiter='\\t')\n",
    "        for row in reader:\n",
    "                row.pop('url')\n",
    "                row['symbol'] = row['symbol']#fetch_symbol(row['symbol'])\n",
    "                if row['symbol'] == None:\n",
    "                    continue\n",
    "                # convert string to float\n",
    "                row['zscore'] = float(row['zscore'])\n",
    "                row['confidence'] = float(row['confidence'])\n",
    "                row['category'] = 'textmining'\n",
    "                json_docs.append(dict(row))\n",
    "    return json_docs"
   ],
   "outputs": [],
   "metadata": {}
  },
  {
   "cell_type": "code",
   "execution_count": 9,
   "source": [
    "json_docs=load_tm_hu_data(tm_path)"
   ],
   "outputs": [],
   "metadata": {}
  },
  {
   "cell_type": "code",
   "execution_count": 10,
   "source": [
    "json_docs[-1]"
   ],
   "outputs": [
    {
     "output_type": "execute_result",
     "data": {
      "text/plain": [
       "{'ensembl': 'snoZ196',\n",
       " 'symbol': 'snoZ196',\n",
       " 'doid': 'BTO:0001307',\n",
       " 'name': 'Stomach',\n",
       " 'zscore': 1.023,\n",
       " 'confidence': 0.512,\n",
       " 'category': 'textmining'}"
      ]
     },
     "metadata": {},
     "execution_count": 10
    }
   ],
   "metadata": {}
  },
  {
   "cell_type": "code",
   "execution_count": 11,
   "source": [
    "len(json_docs)"
   ],
   "outputs": [
    {
     "output_type": "execute_result",
     "data": {
      "text/plain": [
       "6024725"
      ]
     },
     "metadata": {},
     "execution_count": 11
    }
   ],
   "metadata": {}
  },
  {
   "cell_type": "markdown",
   "source": [
    "---"
   ],
   "metadata": {}
  }
 ],
 "metadata": {
  "orig_nbformat": 4,
  "language_info": {
   "name": "python",
   "version": "3.8.11",
   "mimetype": "text/x-python",
   "codemirror_mode": {
    "name": "ipython",
    "version": 3
   },
   "pygments_lexer": "ipython3",
   "nbconvert_exporter": "python",
   "file_extension": ".py"
  },
  "kernelspec": {
   "name": "python3",
   "display_name": "Python 3.8.11 64-bit ('su_lab': conda)"
  },
  "interpreter": {
   "hash": "ef05315d5f008dd046167e10c6ddffaed5c65a031bde4d25d7d1e2bf86440ab1"
  }
 },
 "nbformat": 4,
 "nbformat_minor": 2
}
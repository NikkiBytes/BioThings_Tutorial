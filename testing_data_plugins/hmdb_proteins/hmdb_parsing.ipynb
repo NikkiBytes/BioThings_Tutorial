{
 "cells": [
  {
   "cell_type": "code",
   "execution_count": 1,
   "source": [
    "import pandas as pd \n",
    "import json, os\n",
    "import xml.etree.ElementTree as ET\n",
    "#from bs4 import BeautifulSoup as bs\n",
    "#from IPython.display import display\n",
    "#from biothings.utils.dataload import dict_convert, dict_sweep\n",
    "\n",
    "#pd.set_option('display.max_columns', None)\n",
    "#pd.set_option('display.max_rows', None)"
   ],
   "outputs": [],
   "metadata": {}
  },
  {
   "cell_type": "markdown",
   "source": [
    "## Load `.xml` protein file"
   ],
   "metadata": {}
  },
  {
   "cell_type": "code",
   "execution_count": 2,
   "source": [
    "# -- Set file path ---\n",
    "protein_xml = os.path.join(\"/Users/nacosta/Documents/hmdb_proteins.xml\")\n",
    "meta_xml = os.path.join(\"/Users/nacosta/Documents/hmdb_metabolites.xml\")\n"
   ],
   "outputs": [],
   "metadata": {}
  },
  {
   "cell_type": "code",
   "execution_count": 3,
   "source": [
    "def get_file_size(file_name):\n",
    "    file_size=0\n",
    "    if os.path.isfile(file_name):\n",
    "        file_size = os.path.getsize(file_name)\n",
    "        file_size=round(file_size / (1024*1024), 2)\n",
    "    file_size='{:,.2f}'.format(file_size)\n",
    "    return str(file_size) + 'MB'\n"
   ],
   "outputs": [],
   "metadata": {}
  },
  {
   "cell_type": "code",
   "execution_count": 4,
   "source": [
    "get_file_size(meta_xml)"
   ],
   "outputs": [
    {
     "output_type": "execute_result",
     "data": {
      "text/plain": [
       "'3,889.45MB'"
      ]
     },
     "metadata": {},
     "execution_count": 4
    }
   ],
   "metadata": {}
  },
  {
   "cell_type": "code",
   "execution_count": 3,
   "source": [
    "from lxml import etree as etree_lxml\n",
    "\n",
    "def load_xml(opts):\n",
    "    \"\"\"Return the sample XML file as a string.\"\"\"\n",
    "    with open(meta_xml, opts) as xml:\n",
    "        return xml.read()\n",
    "\n",
    "\n",
    "xml_as_bytes = load_xml('rb')\n",
    "tree = etree_lxml.fromstring(xml_as_bytes)\n"
   ],
   "outputs": [],
   "metadata": {}
  },
  {
   "cell_type": "code",
   "execution_count": 4,
   "source": [
    "# --- Upload XML Data (workaround for pandas >1.3, need to upgrade Biothings) --- \n",
    "xml_data = open(protein_xml, 'r', encoding='UTF-8').read()  # Read file\n",
    "root = ET.XML(xml_data)  # Parse XML\n"
   ],
   "outputs": [],
   "metadata": {}
  },
  {
   "cell_type": "markdown",
   "source": [
    "---  \n",
    "## Parse `.xml` protein file  \n",
    "  \n",
    "- To be explicit see this example at [biothings github](https://github.com/biothings/pending.api/issues/30#issuecomment-904319224)    \n",
    "            \n",
    "- The data under `subject` should could from the `protein_properties` section,\n",
    "- the data under `object` should come from `metabolite_reference.metabolite`,\n",
    "- and the `pmid` should come from `metabolite_reference.reference` .  \n",
    "            \n",
    "            `    {\n",
    "                    \"_id\": \"10682982_1\",\n",
    "                    \"predicate\": \"PART_OF\",    \n",
    "                    \"predication_id\": 10682982,\n",
    "                    \"pmid\": 16530800,\n",
    "                    \"subject\": {\n",
    "                        \"ncbigene\": \"3346\",\n",
    "                        \"name\": \"HTN1\",\n",
    "                        \"semantic_type_abbreviation\": \"gngm\",\n",
    "                        \"semantic_type_name\": \"Gene or Genome\",    \n",
    "                        \"novelty\": 1    \n",
    "                    },\n",
    "                    \"object\": {\n",
    "                        \"umls\": \"C1481993\",\n",
    "                        \"name\": \"Haloviruses\",\n",
    "                        \"semantic_type_abbreviation\": \"virs\",\n",
    "                        \"semantic_type_name\": \"Virus\",    \n",
    "                        \"novelty\": 1\n",
    "                    }\n",
    "                },`\n",
    "\n",
    "    \n",
    "  ### *\"Since HMDB has already done mappings to other database identifiers (e.g., https://hmdb.ca/metabolites/HMDB0015122#links), you should include those in your object dict.  Doesn't look like those links are in in the proteins file, so probably you'll also need to get that info from another file...:\"*"
   ],
   "metadata": {}
  },
  {
   "cell_type": "code",
   "execution_count": 2,
   "source": [
    "# --- Helper Methods --- \n",
    "# --- Enter subject into document --\n",
    "def enter_subject(data, tags):\n",
    "    # setup subject info       \n",
    "    #uniprot_id, uniprot_name, genbank_protein_id, hgnc_id, genbank_gene_id, and gene_name.        \n",
    "    uniprot_id = tags.find(\"{http://www.hmdb.ca}uniprot_id\")\n",
    "    uniprot_id = uniprot_id.text\n",
    "    data[\"subject\"][\"uniprot_id\"]=uniprot_id\n",
    "\n",
    "    uniprot_name= tags.find(\"{http://www.hmdb.ca}uniprot_name\")\n",
    "    uniprot_name = uniprot_name.text\n",
    "    data[\"subject\"][\"uniprot_name\"]=uniprot_name\n",
    "\n",
    "    genbank_protein_id= tags.find(\"{http://www.hmdb.ca}genbank_protein_id\")\n",
    "    data[\"subject\"][\"genbank_protein_id\"]=genbank_protein_id.text\n",
    "\n",
    "    hgnc_id= tags.find(\"{http://www.hmdb.ca}hgnc_id\")\n",
    "    data[\"subject\"][\"hgnc_id\"]=hgnc_id.text\n",
    "\n",
    "    genbank_gene_id=tags.find(\"{http://www.hmdb.ca}genbank_gene_id\")\n",
    "    data[\"subject\"][\"genbank_gene_id\"]=genbank_gene_id.text\n",
    "\n",
    "    gene_name = tags.find(\"{http://www.hmdb.ca}gene_name\")\n",
    "    data[\"subject\"][\"gene_name\"]=gene_name.text\n",
    "\n",
    "    return data;\n",
    "    \n",
    "\n",
    "# --- Create a dictionary to hold our metabolite mapping values from the metabolite XML ---\n",
    "def make_metbolite_dict(meta_xml):\n",
    "        # --- Load in the metabolites XML --- \n",
    "    xml_as_bytes = open(meta_xml, 'rb').read()\n",
    "    metabolite_tree = etree_lxml.fromstring(xml_as_bytes)\n",
    "    metabolite = metabolite_tree.findall('{http://www.hmdb.ca}metabolite', {})\n",
    "    mapping_dict={}\n",
    "\n",
    "    for meta in metabolite:\n",
    "        accession=meta.find('{http://www.hmdb.ca}accession')\n",
    "        kegg=meta.find('{http://www.hmdb.ca}kegg_id')\n",
    "        chemspider=meta.find('{http://www.hmdb.ca}chemspider_id')\n",
    "        chebi=meta.find('{http://www.hmdb.ca}chebi_id')\n",
    "        pubchem=meta.find('{http://www.hmdb.ca}pubchem_compound_id')\n",
    "\n",
    "        mapping_dict.setdefault(accession.text, {\n",
    "                                                    \"kegg_id\":kegg.text,\n",
    "                                                    \"chemspider_id\": chemspider.text,\n",
    "                                                    \"chebi_id\": chebi.text,\n",
    "                                                    \"pubchem_compound_id\": pubchem.text\n",
    "\n",
    "    })\n",
    "\n",
    "    return mapping_dict;\n",
    "\n",
    "\n",
    "\n",
    "# --- Enter mapping IDs into the document --- \n",
    "def enter_mapping_ids(mapping_dict, text, data):\n",
    "    # get the extra IDs from the metabolite xml\n",
    "    # {'kegg_id': 'C01092', 'chemspider_id': '4578', 'chebi_id': '127029', 'pubchem_compound_id': '4740'}\n",
    "    data[\"object\"][\"kegg_id\"]=mapping_dict[text][\"kegg_id\"]\n",
    "    data[\"object\"][\"chemspider_id\"]=mapping_dict[text][\"chemspider_id\"]\n",
    "    data[\"object\"][\"chebi_id\"]=mapping_dict[text][\"chebi_id\"]\n",
    "    data[\"object\"][\"pubchem_compound_id\"]=mapping_dict[text][\"pubchem_compound_id\"]\n",
    "\n",
    "    return mapping_dict;\n",
    "\n",
    "\n",
    "# ------------------------------------------------- \n",
    "\n",
    "\n",
    "# Association Parser    \n",
    "def load_hmdb_data(data_folder):\n",
    "        \n",
    "    def construct_rec(tags, mapping_dict):\n",
    "        records=[]\n",
    "    \n",
    "        # we need the first accession number, this is main protein _id in our doc\n",
    "        _id = tags.find(\"{http://www.hmdb.ca}accession\")\n",
    "        _id = _id.text   \n",
    "        protein_type=tags.find(\"{http://www.hmdb.ca}protein_type\")\n",
    "        ct=1 # setup counter for the associations\n",
    "        \n",
    "        # ---------- Metabolite associations with references ------------  \n",
    "        for m in tags.findall(\"{http://www.hmdb.ca}metabolite_references\"):\n",
    "            for ref in m:\n",
    "                # set the main accession id \n",
    "                _id2=_id+\"_%s\"%ct\n",
    "                ct+=1 # update accession counter\n",
    "                # create dictionary document\n",
    "                data={}\n",
    "                data={ \"_id\": _id2, \"pmid\": None, \"subject\": { \"protein_type\": protein_type.text}, \"object\":{}}\n",
    "    \n",
    "                # pull out the reference tags and get the pubmed_id\n",
    "                for met_ref in ref.findall(\"{http://www.hmdb.ca}reference\"):\n",
    "                    for refs in met_ref:\n",
    "                        if \"pubmed_id\" in refs.tag:\n",
    "                            data['pmid']=refs.text\n",
    "\n",
    "                for met in ref.findall(\"{http://www.hmdb.ca}metabolite\"):\n",
    "                    for info in met:\n",
    "                        tag=info.tag.split(\"}\")[1]\n",
    "                        text=info.text\n",
    "                        data[\"object\"][tag]=text\n",
    "\n",
    "                        if \"accession\" in tag:\n",
    "                            enter_mapping_ids(mapping_dict, text, data)\n",
    "                        \n",
    "                # Call enter_subject method to fill in subject data \n",
    "                data=enter_subject(data,tags)  \n",
    "                #data=dict_convert(data,keyfn=process_key)\n",
    "                #data = dict_sweep(data,vals=[np.nan])\n",
    "                records.append(data)\n",
    "\n",
    "        # ---------- Metabolite associations without references ------------         \n",
    "        # find the metabolite_association tags and extract the information\n",
    "        for met_assc in tags.findall(\"{http://www.hmdb.ca}metabolite_associations\"):\n",
    "            for met_assc_ in met_assc.findall(\"{http://www.hmdb.ca}metabolite\"):\n",
    "                for met_assc_id in met_assc_.findall(\"{http://www.hmdb.ca}accession\"):\n",
    "                    \n",
    "                    # --- Check for duplicate ID, if found, skip making document --- \n",
    "                    # if the metabolite association was already present above (in metabolite_refereces)\n",
    "                    # we want to pass adding id to dict to avoid making a duplicate document \n",
    "                    pass_assc=False # set bool \n",
    "                    for elem in records:\n",
    "                        if met_assc_id.text == elem['object']['accession']:                            \n",
    "                            pass_assc = True\n",
    "                            \n",
    "                    # if bool is True pass making duplicate doc       \n",
    "                    if pass_assc==True: \n",
    "                        pass\n",
    "\n",
    "                    # else create the document \n",
    "                    else:\n",
    "                        # create data dict for association accession \n",
    "                        data={\"_id\": _id+\"_%s\"%ct, 'pmid': 'Unknown', 'subject':{}, 'object':{'accession': met_assc_id.text} }\n",
    "                        ct+=1 # update the id counter \n",
    "\n",
    "                        enter_mapping_ids(mapping_dict, met_assc_id.text, data) # add the mapping ids for this accession\n",
    "\n",
    "                        for met_assc_name in met_assc_.findall(\"{http://www.hmdb.ca}name\"):\n",
    "                            data[\"object\"]['name'] = met_assc_name.text\n",
    "\n",
    "                        # Call enter_subject method to fill in subject data \n",
    "                        data=enter_subject(data,tags)  \n",
    "                        #data=dict_convert(data,keyfn=process_key)\n",
    "                        #data = dict_sweep(data,vals=[np.nan])\n",
    "                        records.append(data)        \n",
    "\n",
    "        return records;\n",
    "\n",
    "    # -------------------- Execute Program --------------------\n",
    "\n",
    "    #process_key = lambda k: k.replace(\" \",\"_\").lower()\n",
    "\n",
    "    # --- Set input XML file path ---\n",
    "    protein_xml = os.path.join(data_folder, \"hmdb_proteins.xml\")\n",
    "    meta_xml = os.path.join(data_folder, \"hmdb_metabolites.xml\")\n",
    "\n",
    "    # --- Load Protein XML Data --- \n",
    "    xml_data=open(protein_xml, 'r', encoding='UTF-8').read()  # Read file\n",
    "    protein_tree = ET.XML(xml_data)  # Parse protein XML\n",
    "    mapping_dict=make_metbolite_dict(meta_xml) # load metabolite file and get the mapping ids \n",
    "    # --- Iterate over the root ---\n",
    "    for tags in protein_tree.findall(\"{http://www.hmdb.ca}protein\"):\n",
    "        records=construct_rec(tags, mapping_dict)\n",
    "        if(records):\n",
    "            for record in records:\n",
    "                return records;\n",
    "                #print(json.dumps(record, sort_keys=False, indent=4))\n",
    "                #yield record "
   ],
   "outputs": [],
   "metadata": {}
  },
  {
   "cell_type": "code",
   "execution_count": 7,
   "source": [
    "from lxml import etree as etree_lxml\n",
    "#load_hmdb_data(data_folder=\"/Users/nacosta/Documents\")\n",
    "#y=next(load_hmdb_data(data_folder=\"/Users/nacosta/Documents\"))\n",
    "y=load_hmdb_data(data_folder=\"/Users/nacosta/Documents\")\n",
    "print(y)"
   ],
   "outputs": [
    {
     "output_type": "stream",
     "name": "stdout",
     "text": [
      "[{'_id': 'HMDBP00001_1', 'pmid': '11752352', 'subject': {'protein_type': 'Unknown', 'uniprot_id': 'P21589', 'uniprot_name': '5NTD_HUMAN', 'genbank_protein_id': '23897', 'hgnc_id': 'HGNC:8021', 'genbank_gene_id': 'X55740', 'gene_name': 'NT5E'}, 'object': {'name': 'Pentoxifylline', 'accession': 'HMDB0014944', 'kegg_id': 'C07424', 'chemspider_id': '4578', 'chebi_id': '127029', 'pubchem_compound_id': '4740'}}, {'_id': 'HMDBP00001_2', 'pmid': '16426349', 'subject': {'protein_type': 'Unknown', 'uniprot_id': 'P21589', 'uniprot_name': '5NTD_HUMAN', 'genbank_protein_id': '23897', 'hgnc_id': 'HGNC:8021', 'genbank_gene_id': 'X55740', 'gene_name': 'NT5E'}, 'object': {'name': 'Pentoxifylline', 'accession': 'HMDB0014944', 'kegg_id': 'C07424', 'chemspider_id': '4578', 'chebi_id': '127029', 'pubchem_compound_id': '4740'}}, {'_id': 'HMDBP00001_3', 'pmid': '19842938', 'subject': {'protein_type': 'Unknown', 'uniprot_id': 'P21589', 'uniprot_name': '5NTD_HUMAN', 'genbank_protein_id': '23897', 'hgnc_id': 'HGNC:8021', 'genbank_gene_id': 'X55740', 'gene_name': 'NT5E'}, 'object': {'name': 'Cytarabine', 'accession': 'HMDB0015122', 'kegg_id': 'C02961', 'chemspider_id': '6017', 'chebi_id': '28680', 'pubchem_compound_id': '6253'}}, {'_id': 'HMDBP00001_4', 'pmid': 'Unknown', 'subject': {'uniprot_id': 'P21589', 'uniprot_name': '5NTD_HUMAN', 'genbank_protein_id': '23897', 'hgnc_id': 'HGNC:8021', 'genbank_gene_id': 'X55740', 'gene_name': 'NT5E'}, 'object': {'accession': 'HMDB0002111', 'kegg_id': 'C00001', 'chemspider_id': '937', 'chebi_id': '15377', 'pubchem_compound_id': '962', 'name': 'Water'}}, {'_id': 'HMDBP00001_5', 'pmid': 'Unknown', 'subject': {'uniprot_id': 'P21589', 'uniprot_name': '5NTD_HUMAN', 'genbank_protein_id': '23897', 'hgnc_id': 'HGNC:8021', 'genbank_gene_id': 'X55740', 'gene_name': 'NT5E'}, 'object': {'accession': 'HMDB0001429', 'kegg_id': 'C00009', 'chemspider_id': '979', 'chebi_id': '26078', 'pubchem_compound_id': '1004', 'name': 'Phosphate'}}, {'_id': 'HMDBP00001_6', 'pmid': 'Unknown', 'subject': {'uniprot_id': 'P21589', 'uniprot_name': '5NTD_HUMAN', 'genbank_protein_id': '23897', 'hgnc_id': 'HGNC:8021', 'genbank_gene_id': 'X55740', 'gene_name': 'NT5E'}, 'object': {'accession': 'HMDB0000045', 'kegg_id': 'C00020', 'chemspider_id': '5858', 'chebi_id': '16027', 'pubchem_compound_id': '6083', 'name': 'Adenosine monophosphate'}}, {'_id': 'HMDBP00001_7', 'pmid': 'Unknown', 'subject': {'uniprot_id': 'P21589', 'uniprot_name': '5NTD_HUMAN', 'genbank_protein_id': '23897', 'hgnc_id': 'HGNC:8021', 'genbank_gene_id': 'X55740', 'gene_name': 'NT5E'}, 'object': {'accession': 'HMDB0000050', 'kegg_id': 'C00212', 'chemspider_id': '54923', 'chebi_id': '16335', 'pubchem_compound_id': '60961', 'name': 'Adenosine'}}, {'_id': 'HMDBP00001_8', 'pmid': 'Unknown', 'subject': {'uniprot_id': 'P21589', 'uniprot_name': '5NTD_HUMAN', 'genbank_protein_id': '23897', 'hgnc_id': 'HGNC:8021', 'genbank_gene_id': 'X55740', 'gene_name': 'NT5E'}, 'object': {'accession': 'HMDB0000095', 'kegg_id': 'C00055', 'chemspider_id': '5901', 'chebi_id': '17361', 'pubchem_compound_id': '6131', 'name': 'Cytidine monophosphate'}}, {'_id': 'HMDBP00001_9', 'pmid': 'Unknown', 'subject': {'uniprot_id': 'P21589', 'uniprot_name': '5NTD_HUMAN', 'genbank_protein_id': '23897', 'hgnc_id': 'HGNC:8021', 'genbank_gene_id': 'X55740', 'gene_name': 'NT5E'}, 'object': {'accession': 'HMDB0000089', 'kegg_id': 'C00475', 'chemspider_id': '5940', 'chebi_id': '17562', 'pubchem_compound_id': '6175', 'name': 'Cytidine'}}, {'_id': 'HMDBP00001_10', 'pmid': 'Unknown', 'subject': {'uniprot_id': 'P21589', 'uniprot_name': '5NTD_HUMAN', 'genbank_protein_id': '23897', 'hgnc_id': 'HGNC:8021', 'genbank_gene_id': 'X55740', 'gene_name': 'NT5E'}, 'object': {'accession': 'HMDB0000288', 'kegg_id': 'C00105', 'chemspider_id': '5808', 'chebi_id': '16695', 'pubchem_compound_id': '6030', 'name': \"Uridine 5'-monophosphate\"}}, {'_id': 'HMDBP00001_11', 'pmid': 'Unknown', 'subject': {'uniprot_id': 'P21589', 'uniprot_name': '5NTD_HUMAN', 'genbank_protein_id': '23897', 'hgnc_id': 'HGNC:8021', 'genbank_gene_id': 'X55740', 'gene_name': 'NT5E'}, 'object': {'accession': 'HMDB0000296', 'kegg_id': 'C00299', 'chemspider_id': '5807', 'chebi_id': '16704', 'pubchem_compound_id': '6029', 'name': 'Uridine'}}, {'_id': 'HMDBP00001_12', 'pmid': 'Unknown', 'subject': {'uniprot_id': 'P21589', 'uniprot_name': '5NTD_HUMAN', 'genbank_protein_id': '23897', 'hgnc_id': 'HGNC:8021', 'genbank_gene_id': 'X55740', 'gene_name': 'NT5E'}, 'object': {'accession': 'HMDB0000175', 'kegg_id': 'C00130', 'chemspider_id': '8264', 'chebi_id': '17202', 'pubchem_compound_id': '8582', 'name': 'Inosinic acid'}}, {'_id': 'HMDBP00001_13', 'pmid': 'Unknown', 'subject': {'uniprot_id': 'P21589', 'uniprot_name': '5NTD_HUMAN', 'genbank_protein_id': '23897', 'hgnc_id': 'HGNC:8021', 'genbank_gene_id': 'X55740', 'gene_name': 'NT5E'}, 'object': {'accession': 'HMDB0000195', 'kegg_id': 'C00294', 'chemspider_id': '5799', 'chebi_id': '17596', 'pubchem_compound_id': '6021', 'name': 'Inosine'}}, {'_id': 'HMDBP00001_14', 'pmid': 'Unknown', 'subject': {'uniprot_id': 'P21589', 'uniprot_name': '5NTD_HUMAN', 'genbank_protein_id': '23897', 'hgnc_id': 'HGNC:8021', 'genbank_gene_id': 'X55740', 'gene_name': 'NT5E'}, 'object': {'accession': 'HMDB0001397', 'kegg_id': 'C00144', 'chemspider_id': '6545', 'chebi_id': '17345', 'pubchem_compound_id': '6804', 'name': 'Guanosine monophosphate'}}, {'_id': 'HMDBP00001_15', 'pmid': 'Unknown', 'subject': {'uniprot_id': 'P21589', 'uniprot_name': '5NTD_HUMAN', 'genbank_protein_id': '23897', 'hgnc_id': 'HGNC:8021', 'genbank_gene_id': 'X55740', 'gene_name': 'NT5E'}, 'object': {'accession': 'HMDB0000133', 'kegg_id': 'C00387', 'chemspider_id': '6544', 'chebi_id': '16750', 'pubchem_compound_id': '6802', 'name': 'Guanosine'}}, {'_id': 'HMDBP00001_16', 'pmid': 'Unknown', 'subject': {'uniprot_id': 'P21589', 'uniprot_name': '5NTD_HUMAN', 'genbank_protein_id': '23897', 'hgnc_id': 'HGNC:8021', 'genbank_gene_id': 'X55740', 'gene_name': 'NT5E'}, 'object': {'accession': 'HMDB0001227', 'kegg_id': 'C00364', 'chemspider_id': '9319', 'chebi_id': '17013', 'pubchem_compound_id': '9700', 'name': '5-Thymidylic acid'}}, {'_id': 'HMDBP00001_17', 'pmid': 'Unknown', 'subject': {'uniprot_id': 'P21589', 'uniprot_name': '5NTD_HUMAN', 'genbank_protein_id': '23897', 'hgnc_id': 'HGNC:8021', 'genbank_gene_id': 'X55740', 'gene_name': 'NT5E'}, 'object': {'accession': 'HMDB0000273', 'kegg_id': 'C00214', 'chemspider_id': '5585', 'chebi_id': '17748', 'pubchem_compound_id': '5789', 'name': 'Thymidine'}}, {'_id': 'HMDBP00001_18', 'pmid': 'Unknown', 'subject': {'uniprot_id': 'P21589', 'uniprot_name': '5NTD_HUMAN', 'genbank_protein_id': '23897', 'hgnc_id': 'HGNC:8021', 'genbank_gene_id': 'X55740', 'gene_name': 'NT5E'}, 'object': {'accession': 'HMDB0001202', 'kegg_id': 'C00239', 'chemspider_id': '13343', 'chebi_id': '15918', 'pubchem_compound_id': '13945', 'name': 'dCMP'}}, {'_id': 'HMDBP00001_19', 'pmid': 'Unknown', 'subject': {'uniprot_id': 'P21589', 'uniprot_name': '5NTD_HUMAN', 'genbank_protein_id': '23897', 'hgnc_id': 'HGNC:8021', 'genbank_gene_id': 'X55740', 'gene_name': 'NT5E'}, 'object': {'accession': 'HMDB0000014', 'kegg_id': 'C00881', 'chemspider_id': '13117', 'chebi_id': '15698', 'pubchem_compound_id': '13711', 'name': 'Deoxycytidine'}}, {'_id': 'HMDBP00001_20', 'pmid': 'Unknown', 'subject': {'uniprot_id': 'P21589', 'uniprot_name': '5NTD_HUMAN', 'genbank_protein_id': '23897', 'hgnc_id': 'HGNC:8021', 'genbank_gene_id': 'X55740', 'gene_name': 'NT5E'}, 'object': {'accession': 'HMDB0001044', 'kegg_id': 'C00362', 'chemspider_id': '58570', 'chebi_id': '16192', 'pubchem_compound_id': '65059', 'name': \"2'-Deoxyguanosine 5'-monophosphate\"}}, {'_id': 'HMDBP00001_21', 'pmid': 'Unknown', 'subject': {'uniprot_id': 'P21589', 'uniprot_name': '5NTD_HUMAN', 'genbank_protein_id': '23897', 'hgnc_id': 'HGNC:8021', 'genbank_gene_id': 'X55740', 'gene_name': 'NT5E'}, 'object': {'accession': 'HMDB0000085', 'kegg_id': 'C00330', 'chemspider_id': '163230', 'chebi_id': '17172', 'pubchem_compound_id': '187790', 'name': 'Deoxyguanosine'}}, {'_id': 'HMDBP00001_22', 'pmid': 'Unknown', 'subject': {'uniprot_id': 'P21589', 'uniprot_name': '5NTD_HUMAN', 'genbank_protein_id': '23897', 'hgnc_id': 'HGNC:8021', 'genbank_gene_id': 'X55740', 'gene_name': 'NT5E'}, 'object': {'accession': 'HMDB0000905', 'kegg_id': 'C00360', 'chemspider_id': '12079', 'chebi_id': '17713', 'pubchem_compound_id': '12599', 'name': 'Deoxyadenosine monophosphate'}}, {'_id': 'HMDBP00001_23', 'pmid': 'Unknown', 'subject': {'uniprot_id': 'P21589', 'uniprot_name': '5NTD_HUMAN', 'genbank_protein_id': '23897', 'hgnc_id': 'HGNC:8021', 'genbank_gene_id': 'X55740', 'gene_name': 'NT5E'}, 'object': {'accession': 'HMDB0000101', 'kegg_id': 'C00559', 'chemspider_id': '13135', 'chebi_id': '17256', 'pubchem_compound_id': '13730', 'name': 'Deoxyadenosine'}}, {'_id': 'HMDBP00001_24', 'pmid': 'Unknown', 'subject': {'uniprot_id': 'P21589', 'uniprot_name': '5NTD_HUMAN', 'genbank_protein_id': '23897', 'hgnc_id': 'HGNC:8021', 'genbank_gene_id': 'X55740', 'gene_name': 'NT5E'}, 'object': {'accession': 'HMDB0000229', 'kegg_id': 'C00455', 'chemspider_id': '13554', 'chebi_id': '14648', 'pubchem_compound_id': '14181', 'name': 'Nicotinamide ribotide'}}, {'_id': 'HMDBP00001_25', 'pmid': 'Unknown', 'subject': {'uniprot_id': 'P21589', 'uniprot_name': '5NTD_HUMAN', 'genbank_protein_id': '23897', 'hgnc_id': 'HGNC:8021', 'genbank_gene_id': 'X55740', 'gene_name': 'NT5E'}, 'object': {'accession': 'HMDB0000855', 'kegg_id': 'C03150', 'chemspider_id': '388956', 'chebi_id': '15927', 'pubchem_compound_id': '439924', 'name': 'Nicotinamide riboside'}}, {'_id': 'HMDBP00001_26', 'pmid': 'Unknown', 'subject': {'uniprot_id': 'P21589', 'uniprot_name': '5NTD_HUMAN', 'genbank_protein_id': '23897', 'hgnc_id': 'HGNC:8021', 'genbank_gene_id': 'X55740', 'gene_name': 'NT5E'}, 'object': {'accession': 'HMDB0001554', 'kegg_id': 'C00655', 'chemspider_id': '66054', 'chebi_id': '15652', 'pubchem_compound_id': '73323', 'name': 'Xanthylic acid'}}, {'_id': 'HMDBP00001_27', 'pmid': 'Unknown', 'subject': {'uniprot_id': 'P21589', 'uniprot_name': '5NTD_HUMAN', 'genbank_protein_id': '23897', 'hgnc_id': 'HGNC:8021', 'genbank_gene_id': 'X55740', 'gene_name': 'NT5E'}, 'object': {'accession': 'HMDB0000299', 'kegg_id': 'C01762', 'chemspider_id': '58484', 'chebi_id': '18107', 'pubchem_compound_id': '64959', 'name': 'Xanthosine'}}, {'_id': 'HMDBP00001_28', 'pmid': 'Unknown', 'subject': {'uniprot_id': 'P21589', 'uniprot_name': '5NTD_HUMAN', 'genbank_protein_id': '23897', 'hgnc_id': 'HGNC:8021', 'genbank_gene_id': 'X55740', 'gene_name': 'NT5E'}, 'object': {'accession': 'HMDB0001132', 'kegg_id': 'C01185', 'chemspider_id': '108822', 'chebi_id': '15763', 'pubchem_compound_id': '121992', 'name': 'Nicotinic acid mononucleotide'}}, {'_id': 'HMDBP00001_29', 'pmid': 'Unknown', 'subject': {'uniprot_id': 'P21589', 'uniprot_name': '5NTD_HUMAN', 'genbank_protein_id': '23897', 'hgnc_id': 'HGNC:8021', 'genbank_gene_id': 'X55740', 'gene_name': 'NT5E'}, 'object': {'accession': 'HMDB0006809', 'kegg_id': 'C05841', 'chemspider_id': '141636', 'chebi_id': '27748', 'pubchem_compound_id': '161234', 'name': 'Nicotinic acid ribonucleoside'}}]\n"
     ]
    }
   ],
   "metadata": {}
  },
  {
   "cell_type": "code",
   "execution_count": 5,
   "source": [
    "print(json.dumps(y, sort_keys=False, indent=4))"
   ],
   "outputs": [
    {
     "output_type": "stream",
     "name": "stdout",
     "text": [
      "{\n",
      "    \"_id\": \"HMDBP00001_1\",\n",
      "    \"pmid\": \"11752352\",\n",
      "    \"subject\": {\n",
      "        \"protein_type\": \"Unknown\",\n",
      "        \"uniprot_id\": \"P21589\",\n",
      "        \"uniprot_name\": \"5NTD_HUMAN\",\n",
      "        \"genbank_protein_id\": \"23897\",\n",
      "        \"hgnc_id\": \"HGNC:8021\",\n",
      "        \"genbank_gene_id\": \"X55740\",\n",
      "        \"gene_name\": \"NT5E\"\n",
      "    },\n",
      "    \"object\": {\n",
      "        \"name\": \"Pentoxifylline\",\n",
      "        \"accession\": \"HMDB0014944\",\n",
      "        \"kegg_id\": \"C07424\",\n",
      "        \"chemspider_id\": \"4578\",\n",
      "        \"chebi_id\": \"127029\",\n",
      "        \"pubchem_compound_id\": \"4740\"\n",
      "    }\n",
      "}\n"
     ]
    }
   ],
   "metadata": {}
  },
  {
   "cell_type": "markdown",
   "source": [
    "## References:\r\n",
    "\r\n",
    "[Biconductor in R metabolite ID mapping package](http://bioconductor.org/packages/release/data/annotation/vignettes/metaboliteIDmapping/inst/doc/metaboliteIDmapping.html)  \r\n",
    "[Bioconda](https://bioconda.github.io/recipes/bioconductor-metaboliteidmapping/README.html)"
   ],
   "metadata": {}
  },
  {
   "cell_type": "markdown",
   "source": [
    "---"
   ],
   "metadata": {}
  }
 ],
 "metadata": {
  "orig_nbformat": 4,
  "language_info": {
   "name": "python",
   "version": "3.8.11",
   "mimetype": "text/x-python",
   "codemirror_mode": {
    "name": "ipython",
    "version": 3
   },
   "pygments_lexer": "ipython3",
   "nbconvert_exporter": "python",
   "file_extension": ".py"
  },
  "kernelspec": {
   "name": "python3",
   "display_name": "Python 3.8.11 64-bit ('su_lab': conda)"
  },
  "interpreter": {
   "hash": "ef05315d5f008dd046167e10c6ddffaed5c65a031bde4d25d7d1e2bf86440ab1"
  }
 },
 "nbformat": 4,
 "nbformat_minor": 2
}
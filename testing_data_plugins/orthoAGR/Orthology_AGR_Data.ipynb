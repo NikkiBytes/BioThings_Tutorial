{
 "cells": [
  {
   "cell_type": "markdown",
   "source": [
    "# Exploring Orthology AGR data for BioThings Studio Parser"
   ],
   "metadata": {}
  },
  {
   "cell_type": "code",
   "execution_count": 1,
   "source": [
    "import pandas as pd\n",
    "import numpy as np\n",
    "import os, csv\n",
    "import gzip\n",
    "from biothings.utils.dataload import dict_convert, dict_sweep\n",
    "from biothings_client import get_client\n",
    "gene_client = get_client('gene') \n",
    "type(gene_client)"
   ],
   "outputs": [
    {
     "output_type": "execute_result",
     "data": {
      "text/plain": [
       "biothings_client.MyGeneInfo"
      ]
     },
     "metadata": {},
     "execution_count": 1
    }
   ],
   "metadata": {}
  },
  {
   "cell_type": "markdown",
   "source": [
    "## Example Data : Drug Labels\r\n"
   ],
   "metadata": {}
  },
  {
   "cell_type": "code",
   "execution_count": 7,
   "source": [
    "infile = os.path.join(\"c:\\\\Users\\\\19802\\\\Documents\\\\dev\\scripps\\\\BioThings_SuLab\\\\data\\\\drugLabels.byGene.tsv\")\n",
    "assert os.path.exists(infile)"
   ],
   "outputs": [],
   "metadata": {}
  },
  {
   "cell_type": "code",
   "execution_count": 8,
   "source": [
    "example_data=pd.read_csv(infile, sep=\"\\t\",squeeze=True,quoting=csv.QUOTE_NONE).to_dict(orient='records') "
   ],
   "outputs": [],
   "metadata": {}
  },
  {
   "cell_type": "markdown",
   "source": [
    "View the first record of the `example_data`. \r\n"
   ],
   "metadata": {}
  },
  {
   "cell_type": "code",
   "execution_count": 9,
   "source": [
    "example_data[0]"
   ],
   "outputs": [
    {
     "output_type": "execute_result",
     "data": {
      "text/plain": [
       "{'Gene ID': 'PA267',\n",
       " 'Gene Symbol': 'ABCB1',\n",
       " 'Label IDs': 'PA166123409;PA166159586',\n",
       " 'Label Names': 'Annotation of EMA Label for aliskiren and ABCB1;Annotation of HCSC Label for aliskiren and ABCB1'}"
      ]
     },
     "metadata": {},
     "execution_count": 9
    }
   ],
   "metadata": {}
  },
  {
   "cell_type": "code",
   "execution_count": 10,
   "source": [
    "# we'll remove space in keys to make queries easier. Also, lowercase is preferred\n",
    "# for a BioThings API. We'll an helper function from BioThings SDK\n",
    "process_key = lambda k: k.replace(\" \",\"_\").lower()"
   ],
   "outputs": [],
   "metadata": {}
  },
  {
   "cell_type": "code",
   "execution_count": 44,
   "source": [
    "# Test Example Parse\n",
    "for rec in example_data[:2]:\n",
    "    label_ids = rec.pop(\"Label IDs\").split(\";\")\n",
    "    label_names = rec.pop(\"Label Names\").split(\";\")\n",
    "    assert len(label_ids) == len(label_names)\n",
    "    labels = []\n",
    "    for i,_ in enumerate(label_ids):\n",
    "        #print(label_ids[i])\n",
    "        labels.append({\"id\" : label_ids[i],\n",
    "                        \"name\" : label_names[i]})\n",
    "    _id = rec[\"Gene ID\"]\n",
    "    rec = dict_convert(rec,keyfn=process_key)\n",
    "    doc = {\"_id\" : _id, \"drug_labels\" : labels}\n",
    "\n",
    "print(doc)"
   ],
   "outputs": [
    {
     "output_type": "stream",
     "name": "stdout",
     "text": [
      "{'_id': 'PA390', 'drug_labels': [{'id': 'PA166184427', 'name': 'Annotation of Swissmedic Label for ezetimibe / rosuvastatin and ABCG2, SLCO1B1'}, {'id': 'PA166184499', 'name': 'Annotation of Swissmedic Label for rosuvastatin and ABCG2, SLCO1B1'}]}\n"
     ]
    }
   ],
   "metadata": {}
  },
  {
   "cell_type": "code",
   "execution_count": 45,
   "source": [
    "example_data[0]"
   ],
   "outputs": [
    {
     "output_type": "execute_result",
     "data": {
      "text/plain": [
       "{'Gene ID': 'PA267', 'Gene Symbol': 'ABCB1'}"
      ]
     },
     "metadata": {},
     "execution_count": 45
    }
   ],
   "metadata": {}
  },
  {
   "cell_type": "markdown",
   "source": [
    "---"
   ],
   "metadata": {}
  },
  {
   "cell_type": "markdown",
   "source": [
    "## Ortholog AGR Data  \r\n"
   ],
   "metadata": {}
  },
  {
   "cell_type": "markdown",
   "source": [
    "\r\n",
    "### Load input data   \r\n",
    "\r\n",
    "Datasource: ```https://fms.alliancegenome.org/download/ORTHOLOGY-ALLIANCE_COMBINED.tsv.gz```     \r\n",
    "  \r\n",
    "  \r\n",
    "*The first lines (0-14) are summary information and are disregarded when formatting the dataframe.*"
   ],
   "metadata": {}
  },
  {
   "cell_type": "code",
   "execution_count": 11,
   "source": [
    "ortho_infile = os.path.join(\"c:\\\\Users\\\\19802\\\\Documents\\\\dev\\scripps\\\\BioThings_SuLab\\\\data\\\\ORTHOLOGY-ALLIANCE_COMBINED.tsv.gz\")\n",
    "assert os.path.exists(ortho_infile)"
   ],
   "outputs": [],
   "metadata": {}
  },
  {
   "cell_type": "code",
   "execution_count": 13,
   "source": [
    "# open and print the summary key at top of file\n",
    "with gzip.open(ortho_infile, 'rb') as f_in:\n",
    "    for line in f_in.readlines()[:15]:\n",
    "        print(line)\n",
    "    print(\"\\n\")\n",
    "    \n",
    "# open and load tsv into dataframe\n",
    "with gzip.open(ortho_infile, 'rb') as f_in:\n",
    "    orthoAGR=pd.read_csv(f_in, header=15, sep=\"\\\\t\", engine=\"python\")\n",
    "\n",
    "data_ortho_agr=orthoAGR.to_dict(orient='records')\n",
    "\n",
    "print(\"[INFO] completed loading data.\")\n"
   ],
   "outputs": [
    {
     "output_type": "stream",
     "name": "stdout",
     "text": [
      "b'##########################################################################\\n'\n",
      "b'#\\n'\n",
      "b'# Data type: Orthology\\n'\n",
      "b'# Data format: tsv\\n'\n",
      "b'# README: \\n'\n",
      "b'# Source: Alliance of Genome Resources (Alliance)\\n'\n",
      "b'# Source URL: http://alliancegenome.org/downloads\\n'\n",
      "b'# Help Desk: help@alliancegenome.org\\n'\n",
      "b'# Orthology Filter: Stringent\\n'\n",
      "b'# Taxon IDs: NCBITaxon:9606, NCBITaxon:10116, NCBITaxon:10090, NCBITaxon:7955, NCBITaxon:7227, NCBITaxon:6239, NCBITaxon:559292\\n'\n",
      "b'# Species: Homo sapiens, Rattus norvegicus, Mus musculus, Danio rerio, Drosophila melanogaster, Caenorhabditis elegans, Saccharomyces cerevisiae\\n'\n",
      "b'# Alliance Database Version: 4.1.0\\n'\n",
      "b'# Date file generated (UTC): 2021-08-10 17:59\\n'\n",
      "b'#\\n'\n",
      "b'##########################################################################\\n'\n",
      "\n",
      "\n",
      "[INFO] completed loading data.\n"
     ]
    }
   ],
   "metadata": {}
  },
  {
   "cell_type": "markdown",
   "source": [
    "### Explore Data\r\n",
    "\r\n",
    "For each column in the dataframe `orthoAGR` list out the name and the unique value count. *If the count is low, list the values.* "
   ],
   "metadata": {}
  },
  {
   "cell_type": "code",
   "execution_count": 14,
   "source": [
    "# view orthology data columns available\n",
    "orthoAGR.columns.values"
   ],
   "outputs": [
    {
     "output_type": "execute_result",
     "data": {
      "text/plain": [
       "array(['Gene1ID', 'Gene1Symbol', 'Gene1SpeciesTaxonID',\n",
       "       'Gene1SpeciesName', 'Gene2ID', 'Gene2Symbol',\n",
       "       'Gene2SpeciesTaxonID', 'Gene2SpeciesName', 'Algorithms',\n",
       "       'AlgorithmsMatch', 'OutOfAlgorithms', 'IsBestScore',\n",
       "       'IsBestRevScore'], dtype=object)"
      ]
     },
     "metadata": {},
     "execution_count": 14
    }
   ],
   "metadata": {}
  },
  {
   "cell_type": "code",
   "execution_count": 15,
   "source": [
    "# Count unique values found in columns, if under a certain threshold view the unique list of values\n",
    "for col in orthoAGR.columns.values:\n",
    "    list_len=len(orthoAGR[col].unique().tolist())\n",
    "    print(\"column: %s length: %s\"%(col, list_len))\n",
    "    if list_len < 20:\n",
    "        print(\"unique values: \", orthoAGR[col].unique().tolist())\n"
   ],
   "outputs": [
    {
     "output_type": "stream",
     "name": "stdout",
     "text": [
      "column: Gene1ID length: 100430\n",
      "column: Gene1Symbol length: 81990\n",
      "column: Gene1SpeciesTaxonID length: 7\n",
      "unique values:  ['NCBITaxon:6239', 'NCBITaxon:7955', 'NCBITaxon:10116', 'NCBITaxon:10090', 'NCBITaxon:9606', 'NCBITaxon:7227', 'NCBITaxon:559292']\n",
      "column: Gene1SpeciesName length: 7\n",
      "unique values:  ['Caenorhabditis elegans', 'Danio rerio', 'Rattus norvegicus', 'Mus musculus', 'Homo sapiens', 'Drosophila melanogaster', 'Saccharomyces cerevisiae']\n",
      "column: Gene2ID length: 100430\n",
      "column: Gene2Symbol length: 81990\n",
      "column: Gene2SpeciesTaxonID length: 7\n",
      "unique values:  ['NCBITaxon:559292', 'NCBITaxon:7227', 'NCBITaxon:7955', 'NCBITaxon:10116', 'NCBITaxon:9606', 'NCBITaxon:6239', 'NCBITaxon:10090']\n",
      "column: Gene2SpeciesName length: 7\n",
      "unique values:  ['Saccharomyces cerevisiae', 'Drosophila melanogaster', 'Danio rerio', 'Rattus norvegicus', 'Homo sapiens', 'Caenorhabditis elegans', 'Mus musculus']\n",
      "column: Algorithms length: 2529\n",
      "column: AlgorithmsMatch length: 11\n",
      "unique values:  [9, 8, 7, 10, 6, 5, 3, 4, 2, 11, 1]\n",
      "column: OutOfAlgorithms length: 3\n",
      "unique values:  [10, 9, 11]\n",
      "column: IsBestScore length: 3\n",
      "unique values:  ['Yes', 'No', 'Yes_Adjusted']\n",
      "column: IsBestRevScore length: 2\n",
      "unique values:  ['Yes', 'No']\n"
     ]
    }
   ],
   "metadata": {}
  },
  {
   "cell_type": "code",
   "execution_count": 16,
   "source": [
    "orthoAGR.head()"
   ],
   "outputs": [
    {
     "output_type": "execute_result",
     "data": {
      "text/html": [
       "<div>\n",
       "<style scoped>\n",
       "    .dataframe tbody tr th:only-of-type {\n",
       "        vertical-align: middle;\n",
       "    }\n",
       "\n",
       "    .dataframe tbody tr th {\n",
       "        vertical-align: top;\n",
       "    }\n",
       "\n",
       "    .dataframe thead th {\n",
       "        text-align: right;\n",
       "    }\n",
       "</style>\n",
       "<table border=\"1\" class=\"dataframe\">\n",
       "  <thead>\n",
       "    <tr style=\"text-align: right;\">\n",
       "      <th></th>\n",
       "      <th>Gene1ID</th>\n",
       "      <th>Gene1Symbol</th>\n",
       "      <th>Gene1SpeciesTaxonID</th>\n",
       "      <th>Gene1SpeciesName</th>\n",
       "      <th>Gene2ID</th>\n",
       "      <th>Gene2Symbol</th>\n",
       "      <th>Gene2SpeciesTaxonID</th>\n",
       "      <th>Gene2SpeciesName</th>\n",
       "      <th>Algorithms</th>\n",
       "      <th>AlgorithmsMatch</th>\n",
       "      <th>OutOfAlgorithms</th>\n",
       "      <th>IsBestScore</th>\n",
       "      <th>IsBestRevScore</th>\n",
       "    </tr>\n",
       "  </thead>\n",
       "  <tbody>\n",
       "    <tr>\n",
       "      <th>0</th>\n",
       "      <td>WB:WBGene00011502</td>\n",
       "      <td>vps-53</td>\n",
       "      <td>NCBITaxon:6239</td>\n",
       "      <td>Caenorhabditis elegans</td>\n",
       "      <td>SGD:S000003566</td>\n",
       "      <td>VPS53</td>\n",
       "      <td>NCBITaxon:559292</td>\n",
       "      <td>Saccharomyces cerevisiae</td>\n",
       "      <td>PhylomeDB|OrthoFinder|Hieranoid|OMA|Ensembl Co...</td>\n",
       "      <td>9</td>\n",
       "      <td>10</td>\n",
       "      <td>Yes</td>\n",
       "      <td>Yes</td>\n",
       "    </tr>\n",
       "    <tr>\n",
       "      <th>1</th>\n",
       "      <td>ZFIN:ZDB-GENE-041114-199</td>\n",
       "      <td>vps53</td>\n",
       "      <td>NCBITaxon:7955</td>\n",
       "      <td>Danio rerio</td>\n",
       "      <td>SGD:S000003566</td>\n",
       "      <td>VPS53</td>\n",
       "      <td>NCBITaxon:559292</td>\n",
       "      <td>Saccharomyces cerevisiae</td>\n",
       "      <td>OrthoFinder|Hieranoid|OMA|Ensembl Compara|Roun...</td>\n",
       "      <td>8</td>\n",
       "      <td>10</td>\n",
       "      <td>Yes</td>\n",
       "      <td>Yes</td>\n",
       "    </tr>\n",
       "    <tr>\n",
       "      <th>2</th>\n",
       "      <td>RGD:1311391</td>\n",
       "      <td>Vps53</td>\n",
       "      <td>NCBITaxon:10116</td>\n",
       "      <td>Rattus norvegicus</td>\n",
       "      <td>SGD:S000003566</td>\n",
       "      <td>VPS53</td>\n",
       "      <td>NCBITaxon:559292</td>\n",
       "      <td>Saccharomyces cerevisiae</td>\n",
       "      <td>OrthoFinder|Hieranoid|OMA|Ensembl Compara|InPa...</td>\n",
       "      <td>7</td>\n",
       "      <td>9</td>\n",
       "      <td>Yes</td>\n",
       "      <td>Yes</td>\n",
       "    </tr>\n",
       "    <tr>\n",
       "      <th>3</th>\n",
       "      <td>MGI:1915549</td>\n",
       "      <td>Vps53</td>\n",
       "      <td>NCBITaxon:10090</td>\n",
       "      <td>Mus musculus</td>\n",
       "      <td>SGD:S000003566</td>\n",
       "      <td>VPS53</td>\n",
       "      <td>NCBITaxon:559292</td>\n",
       "      <td>Saccharomyces cerevisiae</td>\n",
       "      <td>PhylomeDB|OrthoFinder|Hieranoid|OMA|Ensembl Co...</td>\n",
       "      <td>9</td>\n",
       "      <td>10</td>\n",
       "      <td>Yes</td>\n",
       "      <td>Yes</td>\n",
       "    </tr>\n",
       "    <tr>\n",
       "      <th>4</th>\n",
       "      <td>HGNC:25608</td>\n",
       "      <td>VPS53</td>\n",
       "      <td>NCBITaxon:9606</td>\n",
       "      <td>Homo sapiens</td>\n",
       "      <td>SGD:S000003566</td>\n",
       "      <td>VPS53</td>\n",
       "      <td>NCBITaxon:559292</td>\n",
       "      <td>Saccharomyces cerevisiae</td>\n",
       "      <td>PhylomeDB|OrthoFinder|Hieranoid|OMA|Ensembl Co...</td>\n",
       "      <td>9</td>\n",
       "      <td>10</td>\n",
       "      <td>Yes</td>\n",
       "      <td>Yes</td>\n",
       "    </tr>\n",
       "  </tbody>\n",
       "</table>\n",
       "</div>"
      ],
      "text/plain": [
       "                    Gene1ID Gene1Symbol Gene1SpeciesTaxonID  \\\n",
       "0         WB:WBGene00011502      vps-53      NCBITaxon:6239   \n",
       "1  ZFIN:ZDB-GENE-041114-199       vps53      NCBITaxon:7955   \n",
       "2               RGD:1311391       Vps53     NCBITaxon:10116   \n",
       "3               MGI:1915549       Vps53     NCBITaxon:10090   \n",
       "4                HGNC:25608       VPS53      NCBITaxon:9606   \n",
       "\n",
       "         Gene1SpeciesName         Gene2ID Gene2Symbol Gene2SpeciesTaxonID  \\\n",
       "0  Caenorhabditis elegans  SGD:S000003566       VPS53    NCBITaxon:559292   \n",
       "1             Danio rerio  SGD:S000003566       VPS53    NCBITaxon:559292   \n",
       "2       Rattus norvegicus  SGD:S000003566       VPS53    NCBITaxon:559292   \n",
       "3            Mus musculus  SGD:S000003566       VPS53    NCBITaxon:559292   \n",
       "4            Homo sapiens  SGD:S000003566       VPS53    NCBITaxon:559292   \n",
       "\n",
       "           Gene2SpeciesName  \\\n",
       "0  Saccharomyces cerevisiae   \n",
       "1  Saccharomyces cerevisiae   \n",
       "2  Saccharomyces cerevisiae   \n",
       "3  Saccharomyces cerevisiae   \n",
       "4  Saccharomyces cerevisiae   \n",
       "\n",
       "                                          Algorithms  AlgorithmsMatch  \\\n",
       "0  PhylomeDB|OrthoFinder|Hieranoid|OMA|Ensembl Co...                9   \n",
       "1  OrthoFinder|Hieranoid|OMA|Ensembl Compara|Roun...                8   \n",
       "2  OrthoFinder|Hieranoid|OMA|Ensembl Compara|InPa...                7   \n",
       "3  PhylomeDB|OrthoFinder|Hieranoid|OMA|Ensembl Co...                9   \n",
       "4  PhylomeDB|OrthoFinder|Hieranoid|OMA|Ensembl Co...                9   \n",
       "\n",
       "   OutOfAlgorithms IsBestScore IsBestRevScore  \n",
       "0               10         Yes            Yes  \n",
       "1               10         Yes            Yes  \n",
       "2                9         Yes            Yes  \n",
       "3               10         Yes            Yes  \n",
       "4               10         Yes            Yes  "
      ]
     },
     "metadata": {},
     "execution_count": 16
    }
   ],
   "metadata": {}
  },
  {
   "cell_type": "code",
   "execution_count": 17,
   "source": [
    "orthoAGR.info()"
   ],
   "outputs": [
    {
     "output_type": "stream",
     "name": "stdout",
     "text": [
      "<class 'pandas.core.frame.DataFrame'>\n",
      "RangeIndex: 558386 entries, 0 to 558385\n",
      "Data columns (total 13 columns):\n",
      " #   Column               Non-Null Count   Dtype \n",
      "---  ------               --------------   ----- \n",
      " 0   Gene1ID              558386 non-null  object\n",
      " 1   Gene1Symbol          558361 non-null  object\n",
      " 2   Gene1SpeciesTaxonID  558386 non-null  object\n",
      " 3   Gene1SpeciesName     558386 non-null  object\n",
      " 4   Gene2ID              558386 non-null  object\n",
      " 5   Gene2Symbol          558361 non-null  object\n",
      " 6   Gene2SpeciesTaxonID  558386 non-null  object\n",
      " 7   Gene2SpeciesName     558386 non-null  object\n",
      " 8   Algorithms           558386 non-null  object\n",
      " 9   AlgorithmsMatch      558386 non-null  int64 \n",
      " 10  OutOfAlgorithms      558386 non-null  int64 \n",
      " 11  IsBestScore          558386 non-null  object\n",
      " 12  IsBestRevScore       558386 non-null  object\n",
      "dtypes: int64(2), object(11)\n",
      "memory usage: 55.4+ MB\n"
     ]
    }
   ],
   "metadata": {}
  },
  {
   "cell_type": "code",
   "execution_count": 33,
   "source": [
    "# view first record\n",
    "data_ortho_agr[0]"
   ],
   "outputs": [
    {
     "output_type": "execute_result",
     "data": {
      "text/plain": [
       "{'Gene1ID': 'WB:WBGene00011502',\n",
       " 'Gene1Symbol': 'vps-53',\n",
       " 'Gene1SpeciesTaxonID': 'NCBITaxon:6239',\n",
       " 'Gene1SpeciesName': 'Caenorhabditis elegans',\n",
       " 'Gene2ID': 'SGD:S000003566',\n",
       " 'Gene2Symbol': 'VPS53',\n",
       " 'Gene2SpeciesTaxonID': 'NCBITaxon:559292',\n",
       " 'Gene2SpeciesName': 'Saccharomyces cerevisiae',\n",
       " 'Algorithms': 'PhylomeDB|OrthoFinder|Hieranoid|OMA|Ensembl Compara|Roundup|InParanoid|PANTHER|OrthoInspector',\n",
       " 'AlgorithmsMatch': 9,\n",
       " 'OutOfAlgorithms': 10,\n",
       " 'IsBestScore': 'Yes',\n",
       " 'IsBestRevScore': 'Yes'}"
      ]
     },
     "metadata": {},
     "execution_count": 33
    }
   ],
   "metadata": {}
  },
  {
   "cell_type": "code",
   "execution_count": 65,
   "source": [
    "# Lets view a chunk of IDs to see the formatting\n",
    "orthoAGR['Gene1ID'][:10].to_list()"
   ],
   "outputs": [
    {
     "output_type": "execute_result",
     "data": {
      "text/plain": [
       "['WB:WBGene00011502',\n",
       " 'ZFIN:ZDB-GENE-041114-199',\n",
       " 'RGD:1311391',\n",
       " 'MGI:1915549',\n",
       " 'HGNC:25608',\n",
       " 'FB:FBgn0031598',\n",
       " 'ZFIN:ZDB-GENE-070112-1002',\n",
       " 'RGD:1586427',\n",
       " 'MGI:2444430',\n",
       " 'HGNC:19743']"
      ]
     },
     "metadata": {},
     "execution_count": 65
    }
   ],
   "metadata": {}
  },
  {
   "cell_type": "code",
   "execution_count": 75,
   "source": [
    "#len(orthoAGR[\"Gene1ID\"].value_counts().to_list())\n",
    "#len(orthoAGR[\"Gene1ID\"].unique())\n",
    "orthoAGR[\"Gene1ID\"].value_counts()#.to_list()\n"
   ],
   "outputs": [
    {
     "output_type": "execute_result",
     "data": {
      "text/plain": [
       "ZFIN:ZDB-GENE-990415-190    356\n",
       "ZFIN:ZDB-GENE-050510-2      245\n",
       "WB:WBGene00021931           206\n",
       "ZFIN:ZDB-GENE-070806-57     173\n",
       "ZFIN:ZDB-GENE-070806-56     173\n",
       "                           ... \n",
       "RGD:2325594                   1\n",
       "MGI:3619266                   1\n",
       "MGI:2676900                   1\n",
       "RGD:2325337                   1\n",
       "SGD:S000004300                1\n",
       "Name: Gene1ID, Length: 100430, dtype: int64"
      ]
     },
     "metadata": {},
     "execution_count": 75
    }
   ],
   "metadata": {}
  },
  {
   "cell_type": "code",
   "execution_count": 10,
   "source": [
    "orthoAGR['Gene2ID'][:10].to_list()"
   ],
   "outputs": [
    {
     "output_type": "execute_result",
     "data": {
      "text/plain": [
       "['SGD:S000003566',\n",
       " 'SGD:S000003566',\n",
       " 'SGD:S000003566',\n",
       " 'SGD:S000003566',\n",
       " 'SGD:S000003566',\n",
       " 'SGD:S000003566',\n",
       " 'SGD:S000000021',\n",
       " 'SGD:S000000021',\n",
       " 'SGD:S000000021',\n",
       " 'SGD:S000000021']"
      ]
     },
     "metadata": {},
     "execution_count": 10
    }
   ],
   "metadata": {}
  },
  {
   "cell_type": "markdown",
   "source": [
    "### Parse Data\r\n",
    "Now that we have loaded the data and correctly formatted it into records, we can loop through the new dictionary and access our data.  \r\n",
    "\r\n",
    "The id variables are using a \"compact uri\" , or [curie](https://en.wikipedia.org/wiki/CURIE).  \r\n",
    "*\"The left part is called the \"prefix\".  I think the prefixes should be stripped to match what's in mygene.info.  but you should probably do some spotchecking of other prefixes just to be sure.\"*"
   ],
   "metadata": {}
  },
  {
   "cell_type": "code",
   "execution_count": 34,
   "source": [
    "\n",
    "# Build Parser \n",
    "def load_orthology(data, data_list):\n",
    "    results = {}\n",
    "\n",
    "    for rec in data_ortho_agr[:4]:\n",
    "        orig_id1= rec[\"Gene1ID\"].split(':')\n",
    "        id1_tag2=orig_id1[1]\n",
    "        _id = id1_tag2\n",
    "        rec = dict_convert(rec,keyfn=process_key)\n",
    "        # remove NaN values, not indexable\n",
    "        rec = dict_sweep(rec,vals=[np.nan])\n",
    "        results.setdefault(_id,[]).append(rec)\n",
    "        #print(rec)\n",
    "    for _id,docs in results.items():\n",
    "        doc = {\"_id\": _id, \"orthology_data\" : docs}\n",
    "        yield doc\n",
    "    \n",
    "    #return results;"
   ],
   "outputs": [],
   "metadata": {}
  },
  {
   "cell_type": "code",
   "execution_count": 35,
   "source": [
    "def load_testcase():\n",
    "    results=load_orthology(orthoAGR, data_ortho_agr)\n",
    "    #print(results)\n",
    "    print(next(results))\n",
    "load_testcase()"
   ],
   "outputs": [
    {
     "output_type": "stream",
     "name": "stdout",
     "text": [
      "{'_id': 'WBGene00011502', 'orthology_data': [{'gene1id': 'WB:WBGene00011502', 'gene1symbol': 'vps-53', 'gene1speciestaxonid': 'NCBITaxon:6239', 'gene1speciesname': 'Caenorhabditis elegans', 'gene2id': 'SGD:S000003566', 'gene2symbol': 'VPS53', 'gene2speciestaxonid': 'NCBITaxon:559292', 'gene2speciesname': 'Saccharomyces cerevisiae', 'algorithms': 'PhylomeDB|OrthoFinder|Hieranoid|OMA|Ensembl Compara|Roundup|InParanoid|PANTHER|OrthoInspector', 'algorithmsmatch': 9, 'outofalgorithms': 10, 'isbestscore': 'Yes', 'isbestrevscore': 'Yes'}]}\n"
     ]
    }
   ],
   "metadata": {}
  },
  {
   "cell_type": "markdown",
   "source": [
    "### Testing the API"
   ],
   "metadata": {}
  },
  {
   "cell_type": "code",
   "execution_count": 77,
   "source": [
    "!curl localhost:8000/metadata "
   ],
   "outputs": [
    {
     "output_type": "stream",
     "name": "stdout",
     "text": [
      "{\"biothing_type\": \"gene\", \"build_date\": \"2021-09-15T16:11:48.091144\", \"build_version\": \"20210915\", \"src\": {\"orthologyAGR\": {\"stats\": {\"orthologyAGR\": 99452}, \"version\": \"2021-09\"}}, \"stats\": {\"total\": 99452}}\n"
     ]
    },
    {
     "output_type": "stream",
     "name": "stderr",
     "text": [
      "  % Total    % Received % Xferd  Average Speed   Time    Time     Time  Current\n",
      "                                 Dload  Upload   Total   Spent    Left  Speed\n",
      "\n",
      "  0     0    0     0    0     0      0      0 --:--:-- --:--:-- --:--:--     0\n",
      "100   208  100   208    0     0    208      0  0:00:01 --:--:--  0:00:01  4425\n"
     ]
    }
   ],
   "metadata": {}
  },
  {
   "cell_type": "code",
   "execution_count": 24,
   "source": [
    "import requests"
   ],
   "outputs": [],
   "metadata": {}
  },
  {
   "cell_type": "code",
   "execution_count": 25,
   "source": [
    "r=requests.get(\"http://localhost:8000/metadata\")\n",
    "print(r.content)"
   ],
   "outputs": [
    {
     "output_type": "stream",
     "name": "stdout",
     "text": [
      "b'{\"biothing_type\": \"gene\", \"build_date\": \"2021-09-15T16:11:48.091144\", \"build_version\": \"20210915\", \"src\": {\"orthologyAGR\": {\"stats\": {\"orthologyAGR\": 99452}, \"version\": \"2021-09\"}}, \"stats\": {\"total\": 99452}}'\n"
     ]
    }
   ],
   "metadata": {}
  },
  {
   "cell_type": "code",
   "execution_count": 27,
   "source": [
    "# method to search Biothings API  \n",
    "def test_query(query_input):\n",
    "    # run user query\n",
    "    query=\"http://localhost:8000/query?q=%s\"%query_input\n",
    "    r=requests.get(query)\n",
    "    print(\"\\n[INFO] query for %s: \\n\"%query_input, r.content)"
   ],
   "outputs": [],
   "metadata": {}
  },
  {
   "cell_type": "code",
   "execution_count": 39,
   "source": [
    "# Lets view a chunk of IDs to see the formatting\n",
    "orthoAGR['Gene1ID'][:30].to_list()"
   ],
   "outputs": [
    {
     "output_type": "execute_result",
     "data": {
      "text/plain": [
       "['WB:WBGene00011502',\n",
       " 'ZFIN:ZDB-GENE-041114-199',\n",
       " 'RGD:1311391',\n",
       " 'MGI:1915549',\n",
       " 'HGNC:25608',\n",
       " 'FB:FBgn0031598',\n",
       " 'ZFIN:ZDB-GENE-070112-1002',\n",
       " 'RGD:1586427',\n",
       " 'MGI:2444430',\n",
       " 'HGNC:19743',\n",
       " 'FB:FBgn0086368',\n",
       " 'WB:WBGene00015055',\n",
       " 'WB:WBGene00012285',\n",
       " 'WB:WBGene00016739',\n",
       " 'WB:WBGene00015054',\n",
       " 'WB:WBGene00017312',\n",
       " 'WB:WBGene00007141',\n",
       " 'ZFIN:ZDB-GENE-030131-260',\n",
       " 'ZFIN:ZDB-GENE-060929-828',\n",
       " 'ZFIN:ZDB-GENE-040426-2217',\n",
       " 'RGD:3699',\n",
       " 'RGD:621079',\n",
       " 'MGI:97851',\n",
       " 'MGI:108392',\n",
       " 'HGNC:10946',\n",
       " 'HGNC:10947',\n",
       " 'FB:FBgn0260795',\n",
       " 'WB:WBGene00013687',\n",
       " 'RGD:620245',\n",
       " 'MGI:2142527']"
      ]
     },
     "metadata": {},
     "execution_count": 39
    }
   ],
   "metadata": {}
  },
  {
   "cell_type": "code",
   "execution_count": 1,
   "source": [
    "#\"ZDB-GENE-041114-199\", \"1311391\", \"WBGene00011502\", \"FBgn0260795\"\n",
    "test_query(\"FB*\")\n"
   ],
   "outputs": [
    {
     "output_type": "error",
     "ename": "NameError",
     "evalue": "name 'test_query' is not defined",
     "traceback": [
      "\u001b[1;31m---------------------------------------------------------------------------\u001b[0m",
      "\u001b[1;31mNameError\u001b[0m                                 Traceback (most recent call last)",
      "\u001b[1;32m<ipython-input-1-d07d6680d436>\u001b[0m in \u001b[0;36m<module>\u001b[1;34m\u001b[0m\n\u001b[0;32m      1\u001b[0m \u001b[1;31m#\"ZDB-GENE-041114-199\", \"1311391\", \"WBGene00011502\", \"FBgn0260795\"\u001b[0m\u001b[1;33m\u001b[0m\u001b[1;33m\u001b[0m\u001b[1;33m\u001b[0m\u001b[0m\n\u001b[1;32m----> 2\u001b[1;33m \u001b[0mtest_query\u001b[0m\u001b[1;33m(\u001b[0m\u001b[1;34m\"FB*\"\u001b[0m\u001b[1;33m)\u001b[0m\u001b[1;33m\u001b[0m\u001b[1;33m\u001b[0m\u001b[0m\n\u001b[0m",
      "\u001b[1;31mNameError\u001b[0m: name 'test_query' is not defined"
     ]
    }
   ],
   "metadata": {}
  },
  {
   "cell_type": "markdown",
   "source": [
    "---"
   ],
   "metadata": {}
  },
  {
   "cell_type": "markdown",
   "source": [
    "\r\n",
    "  \r\n",
    ">**Notes/Questsions**    \r\n",
    "> - Ways to test BioThings/ES mapping?  \r\n",
    "> - geneID search on mygene.info comparison to parsed mapping, *concerns over inconsistency*  \r\n",
    "> - remove any columns/variables?  \r\n",
    "> - only searchable index is `gene1id` (it is saved as a text vs. keyword)\r\n",
    "\r\n",
    "\r\n",
    " \r\n",
    "Gene1ID: \r\n",
    "- left hand symbol into column, count unique \r\n",
    "- determine error cases/ isolate out \r\n",
    "\r\n",
    "## <u>References</u>  \r\n",
    "  \r\n",
    "https://en.wikipedia.org/wiki/CURIE  \r\n",
    "http://mygene.info/  \r\n",
    "http://mygene.info/v3/gene/WB:WBGene00011502    \r\n",
    "https://github.com/sirloon/pharmgkb/tree/pharmgkb_v1  \r\n",
    "\r\n"
   ],
   "metadata": {}
  },
  {
   "cell_type": "markdown",
   "source": [
    "---"
   ],
   "metadata": {}
  }
 ],
 "metadata": {
  "orig_nbformat": 4,
  "language_info": {
   "name": "python",
   "version": "3.8.11",
   "mimetype": "text/x-python",
   "codemirror_mode": {
    "name": "ipython",
    "version": 3
   },
   "pygments_lexer": "ipython3",
   "nbconvert_exporter": "python",
   "file_extension": ".py"
  },
  "kernelspec": {
   "name": "python3",
   "display_name": "Python 3.8.11 64-bit ('su_lab': conda)"
  },
  "interpreter": {
   "hash": "ef05315d5f008dd046167e10c6ddffaed5c65a031bde4d25d7d1e2bf86440ab1"
  }
 },
 "nbformat": 4,
 "nbformat_minor": 2
}
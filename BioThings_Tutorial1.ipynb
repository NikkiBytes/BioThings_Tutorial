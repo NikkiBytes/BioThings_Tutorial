{
 "cells": [
  {
   "cell_type": "markdown",
   "source": [
    "# BioThings \n",
    "My personal tutorial for learning and followingt the tutorial documentation for the Biothings API for contribution to the Su and Wu labs of Scripps Research.   \n",
    "  \n",
    "    \n",
    "**Input Data:** https://www.pharmgkb.org/\n",
    "      \n",
    "**Links**     \n",
    "[biothings_tutorial](https://docs.biothings.io/en/latest/doc/studio_tutorial.html)  \n"
   ],
   "metadata": {}
  },
  {
   "cell_type": "markdown",
   "source": [
    "## Parser  \n",
    "In order to ingest this data and make it available as an API, we first need to write a parser. Data is pretty simple, tab-separated files, and we’ll make it even simpler by using pandas python library. The first version of this parser is available in branch pharmgkb_v1 at https://github.com/sirloon/pharmgkb/blob/pharmgkb_v1/parser.py. After some boilerplate code at the beginning for dependencies and initialization, the main logic is the following:"
   ],
   "metadata": {}
  },
  {
   "cell_type": "code",
   "execution_count": null,
   "source": [
    "  \r\n",
    "import os, pandas, csv, re\r\n",
    "import math\r\n",
    "\r\n",
    "from biothings import config\r\n",
    "from biothings.utils.dataload import dict_convert\r\n",
    "logging = config.logger\r\n",
    "\r\n",
    "\r\n",
    "\"\"\"\r\n",
    "Parsing function - load_annotations \r\n",
    "\"\"\"\r\n",
    "def load_annotations(data_folder):\r\n",
    "    \r\n",
    "    \"\"\"\r\n",
    "    Our parsing function is named ```load_annotations```, it could be named anything else,\r\n",
    "    but it has to take a folder path ```data_folder``` containing the downloaded data. This path is\r\n",
    "    automatically set by the Hub and points to the latest version available. More on this later.  \r\n",
    "    \r\n",
    "    It is the responsibility of the parser to select, within that folder, the **file(s) of interest**.\r\n",
    "    *Here we need data from a file named var_drug_ann.tsv.* Following the moto “don’t assume it, prove it”,\r\n",
    "    we make that file exists.\r\n",
    "    \"\"\"\r\n",
    "    infile = os.path.join(data_folder,\"var_drug_ann.tsv\")\r\n",
    "    assert os.path.exists(infile)\r\n",
    "    dat = pandas.read_csv(infile,sep=\"\\t\",squeeze=True,quoting=csv.QUOTE_NONE).to_dict(orient='records')\r\n",
    "    results = {}\r\n",
    "    \r\n",
    "    \"\"\"\r\n",
    "    We then open and read the TSV file using pandas.read_csv() function. At this point,\r\n",
    "    a record rec looks like the following:\r\n",
    "    \"\"\"\r\n",
    "    for rec in dat:\r\n",
    "\r\n",
    "        if not rec[\"Gene\"] or pandas.isna(rec[\"Gene\"]):\r\n",
    "            logging.warning(\"No gene information for annotation ID '%s'\", rec[\"Annotation ID\"])\r\n",
    "            continue\r\n",
    "        _id = re.match(\".* \\((.*?)\\)\",rec[\"Gene\"]).groups()[0]\r\n",
    "        # we'll remove space in keys to make queries easier. Also, lowercase is preferred\r\n",
    "        # for a BioThings API. We'll an helper function from BioThings SDK\r\n",
    "        process_key = lambda k: k.replace(\" \",\"_\").lower()\r\n",
    "        rec = dict_convert(rec,keyfn=process_key)\r\n",
    "        results.setdefault(_id,[]).append(rec)\r\n",
    "        \r\n",
    "    for _id,docs in results.items():\r\n",
    "        doc = {\"_id\": _id, \"annotations\" : docs}\r\n",
    "        yield doc"
   ],
   "outputs": [],
   "metadata": {}
  },
  {
   "cell_type": "markdown",
   "source": [
    "---"
   ],
   "metadata": {}
  }
 ],
 "metadata": {
  "kernelspec": {
   "name": "python3",
   "display_name": "Python 3.8.10 64-bit ('base': conda)"
  },
  "language_info": {
   "codemirror_mode": {
    "name": "ipython",
    "version": 3
   },
   "file_extension": ".py",
   "mimetype": "text/x-python",
   "name": "python",
   "nbconvert_exporter": "python",
   "pygments_lexer": "ipython3",
   "version": "3.8.10"
  },
  "interpreter": {
   "hash": "e342038c98f7d4213227a89db7f796ea1c670485a252fec9cf20c3f8cd429f5d"
  }
 },
 "nbformat": 4,
 "nbformat_minor": 5
}
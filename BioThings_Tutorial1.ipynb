{
 "cells": [
  {
   "cell_type": "markdown",
   "id": "b471ef86",
   "metadata": {},
   "source": [
    "# BioThings \n",
    "My personal tutorial for learning and followingt the tutorial documentation for the Biothings API for contribution to the Su and Wu labs of Scripps Research.   \n",
    "  \n",
    "    \n",
    "**Input Data:** https://www.pharmgkb.org/\n",
    "      \n",
    "**Links**     \n",
    "[biothings_tutorial](https://docs.biothings.io/en/latest/doc/studio_tutorial.html)  \n"
   ]
  },
  {
   "cell_type": "markdown",
   "id": "18de1e88-9f74-4a3f-bd5a-41cbaf9ce8d0",
   "metadata": {},
   "source": [
    "## Parser  \n",
    "In order to ingest this data and make it available as an API, we first need to write a parser. Data is pretty simple, tab-separated files, and we’ll make it even simpler by using pandas python library. The first version of this parser is available in branch pharmgkb_v1 at https://github.com/sirloon/pharmgkb/blob/pharmgkb_v1/parser.py. After some boilerplate code at the beginning for dependencies and initialization, the main logic is the following:"
   ]
  },
  {
   "cell_type": "code",
   "execution_count": null,
   "id": "8d458a5c",
   "metadata": {},
   "outputs": [],
   "source": [
    "  \n",
    "import os, pandas, csv, re\n",
    "import math\n",
    "\n",
    "from biothings import config\n",
    "from biothings.utils.dataload import dict_convert\n",
    "logging = config.logger\n",
    "\n",
    "\n",
    "\"\"\"\n",
    "Parsing function - load_annotations \n",
    "\"\"\"\n",
    "def load_annotations(data_folder):\n",
    "    \n",
    "    \"\"\"\n",
    "    Our parsing function is named ```load_annotations```, it could be named anything else,\n",
    "    but it has to take a folder path ```data_folder``` containing the downloaded data. This path is\n",
    "    automatically set by the Hub and points to the latest version available. More on this later.  \n",
    "    \n",
    "    It is the responsibility of the parser to select, within that folder, the **file(s) of interest**.\n",
    "    *Here we need data from a file named var_drug_ann.tsv.* Following the moto “don’t assume it, prove it”,\n",
    "    we make that file exists.\n",
    "    \"\"\"\n",
    "    infile = os.path.join(data_folder,\"var_drug_ann.tsv\")\n",
    "    assert os.path.exists(infile)\n",
    "    dat = pandas.read_csv(infile,sep=\"\\t\",squeeze=True,quoting=csv.QUOTE_NONE).to_dict(orient='records')\n",
    "    results = {}\n",
    "    \n",
    "    \"\"\"\n",
    "    We then open and read the TSV file using pandas.read_csv() function. At this point,\n",
    "    a record rec looks like the following:\n",
    "    \"\"\"\n",
    "    for rec in dat:\n",
    "\n",
    "        if not rec[\"Gene\"] or pandas.isna(rec[\"Gene\"]):\n",
    "            logging.warning(\"No gene information for annotation ID '%s'\", rec[\"Annotation ID\"])\n",
    "            continue\n",
    "        _id = re.match(\".* \\((.*?)\\)\",rec[\"Gene\"]).groups()[0]\n",
    "        # we'll remove space in keys to make queries easier. Also, lowercase is preferred\n",
    "        # for a BioThings API. We'll an helper function from BioThings SDK\n",
    "        process_key = lambda k: k.replace(\" \",\"_\").lower()\n",
    "        rec = dict_convert(rec,keyfn=process_key)\n",
    "        results.setdefault(_id,[]).append(rec)\n",
    "        \n",
    "    for _id,docs in results.items():\n",
    "        doc = {\"_id\": _id, \"annotations\" : docs}\n",
    "        yield doc"
   ]
  },
  {
   "cell_type": "code",
   "execution_count": null,
   "id": "53a29a6d-5a2e-4f9c-9700-6b928c26905c",
   "metadata": {},
   "outputs": [],
   "source": []
  },
  {
   "cell_type": "code",
   "execution_count": null,
   "id": "aad52349-1d8a-475c-81c2-b22e52e3997d",
   "metadata": {},
   "outputs": [],
   "source": []
  },
  {
   "cell_type": "code",
   "execution_count": null,
   "id": "fd1e1b3b-d2d2-4c6e-9155-9208a77020d2",
   "metadata": {},
   "outputs": [],
   "source": []
  },
  {
   "cell_type": "markdown",
   "id": "bdbe7567-7055-47c6-b3cc-1843530c720f",
   "metadata": {},
   "source": [
    "---"
   ]
  }
 ],
 "metadata": {
  "kernelspec": {
   "display_name": "Python 3",
   "language": "python",
   "name": "python3"
  },
  "language_info": {
   "codemirror_mode": {
    "name": "ipython",
    "version": 3
   },
   "file_extension": ".py",
   "mimetype": "text/x-python",
   "name": "python",
   "nbconvert_exporter": "python",
   "pygments_lexer": "ipython3",
   "version": "3.9.6"
  }
 },
 "nbformat": 4,
 "nbformat_minor": 5
}

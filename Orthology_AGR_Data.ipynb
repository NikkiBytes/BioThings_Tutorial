{
 "cells": [
  {
   "cell_type": "markdown",
   "source": [
    "# Exploring Orthology AGR data for BioThings Studio Parser"
   ],
   "metadata": {}
  },
  {
   "cell_type": "code",
   "execution_count": 76,
   "source": [
    "import pandas as pd\r\n",
    "import numpy as np\r\n",
    "import os, csv\r\n",
    "import gzip\r\n",
    "from biothings.utils.dataload import dict_convert, dict_sweep\r\n"
   ],
   "outputs": [],
   "metadata": {}
  },
  {
   "cell_type": "markdown",
   "source": [
    "## Example Data : Drug Labels\r\n"
   ],
   "metadata": {}
  },
  {
   "cell_type": "code",
   "execution_count": 35,
   "source": [
    "infile = os.path.join(\"c:\\\\Users\\\\19802\\\\Documents\\\\dev\\scripps\\\\BioThings_SuLab\\\\data\\\\drugLabels.byGene.tsv\")\r\n",
    "assert os.path.exists(infile2)"
   ],
   "outputs": [],
   "metadata": {}
  },
  {
   "cell_type": "code",
   "execution_count": 42,
   "source": [
    "example_data=pd.read_csv(infile2, sep=\"\\t\",squeeze=True,quoting=csv.QUOTE_NONE).to_dict(orient='records') "
   ],
   "outputs": [],
   "metadata": {}
  },
  {
   "cell_type": "markdown",
   "source": [
    "View the first record of the `example_data`. \r\n"
   ],
   "metadata": {}
  },
  {
   "cell_type": "code",
   "execution_count": 43,
   "source": [
    "example_data[0]"
   ],
   "outputs": [
    {
     "output_type": "execute_result",
     "data": {
      "text/plain": [
       "{'Gene ID': 'PA267',\n",
       " 'Gene Symbol': 'ABCB1',\n",
       " 'Label IDs': 'PA166123409;PA166159586',\n",
       " 'Label Names': 'Annotation of EMA Label for aliskiren and ABCB1;Annotation of HCSC Label for aliskiren and ABCB1'}"
      ]
     },
     "metadata": {},
     "execution_count": 43
    }
   ],
   "metadata": {}
  },
  {
   "cell_type": "code",
   "execution_count": 37,
   "source": [
    "# we'll remove space in keys to make queries easier. Also, lowercase is preferred\r\n",
    "# for a BioThings API. We'll an helper function from BioThings SDK\r\n",
    "process_key = lambda k: k.replace(\" \",\"_\").lower()"
   ],
   "outputs": [],
   "metadata": {}
  },
  {
   "cell_type": "code",
   "execution_count": 44,
   "source": [
    "# Test Example Parse\r\n",
    "for rec in example_data[:2]:\r\n",
    "    label_ids = rec.pop(\"Label IDs\").split(\";\")\r\n",
    "    label_names = rec.pop(\"Label Names\").split(\";\")\r\n",
    "    assert len(label_ids) == len(label_names)\r\n",
    "    labels = []\r\n",
    "    for i,_ in enumerate(label_ids):\r\n",
    "        #print(label_ids[i])\r\n",
    "        labels.append({\"id\" : label_ids[i],\r\n",
    "                        \"name\" : label_names[i]})\r\n",
    "    _id = rec[\"Gene ID\"]\r\n",
    "    rec = dict_convert(rec,keyfn=process_key)\r\n",
    "    doc = {\"_id\" : _id, \"drug_labels\" : labels}\r\n",
    "\r\n",
    "print(doc)"
   ],
   "outputs": [
    {
     "output_type": "stream",
     "name": "stdout",
     "text": [
      "{'_id': 'PA390', 'drug_labels': [{'id': 'PA166184427', 'name': 'Annotation of Swissmedic Label for ezetimibe / rosuvastatin and ABCG2, SLCO1B1'}, {'id': 'PA166184499', 'name': 'Annotation of Swissmedic Label for rosuvastatin and ABCG2, SLCO1B1'}]}\n"
     ]
    }
   ],
   "metadata": {}
  },
  {
   "cell_type": "markdown",
   "source": [
    ">**Notes/Questsions**    \r\n",
    "> - Ways to test BioThings/ES mapping?  \r\n",
    "> - geneID search on mygene.info comparison to parsed mapping, *concerns over inconsistency*  \r\n",
    "> - remove any columns/variables?  \r\n",
    "> - only searchable index is `gene1id` (it is saved as a text vs. keyword)\r\n",
    "\r\n",
    "\r\n"
   ],
   "metadata": {}
  },
  {
   "cell_type": "code",
   "execution_count": 45,
   "source": [
    "example_data[0]"
   ],
   "outputs": [
    {
     "output_type": "execute_result",
     "data": {
      "text/plain": [
       "{'Gene ID': 'PA267', 'Gene Symbol': 'ABCB1'}"
      ]
     },
     "metadata": {},
     "execution_count": 45
    }
   ],
   "metadata": {}
  },
  {
   "cell_type": "markdown",
   "source": [
    "---"
   ],
   "metadata": {}
  },
  {
   "cell_type": "markdown",
   "source": [
    "## Ortholog AGR Data  \r\n"
   ],
   "metadata": {}
  },
  {
   "cell_type": "markdown",
   "source": [
    "\r\n",
    "### Load input data   \r\n",
    "\r\n",
    "Datasource: ```https://fms.alliancegenome.org/download/ORTHOLOGY-ALLIANCE_COMBINED.tsv.gz```     \r\n",
    "  \r\n",
    "  \r\n",
    "*The first lines (0-14) are summary information and are disregarded when formatting the dataframe.*"
   ],
   "metadata": {}
  },
  {
   "cell_type": "code",
   "execution_count": 22,
   "source": [
    "ortho_infile = os.path.join(\"c:\\\\Users\\\\19802\\\\Documents\\\\dev\\scripps\\\\BioThings_SuLab\\\\data\\\\ORTHOLOGY-ALLIANCE_COMBINED.tsv.gz\")\r\n",
    "assert os.path.exists(ortho_infile)"
   ],
   "outputs": [],
   "metadata": {}
  },
  {
   "cell_type": "code",
   "execution_count": 26,
   "source": [
    "# open and print the summary key at top of file\r\n",
    "# open and load tsv into dataframe\r\n",
    "with gzip.open(ortho_infile, 'rb') as f_in:\r\n",
    "    orthoAGR=pd.read_csv(f_in, header=15, sep=\"\\\\t\", engine=\"python\")\r\n",
    "    for line in f_in.readlines()[:15]:\r\n",
    "        print(line)\r\n",
    "    print(\"\\n\")\r\n",
    "data_ortho_agr=orthoAGR.to_dict(orient='records')\r\n",
    "\r\n",
    "print(\"[INFO] completed loading data.\")\r\n"
   ],
   "outputs": [
    {
     "output_type": "stream",
     "name": "stdout",
     "text": [
      "b'##########################################################################\\n'\n",
      "b'#\\n'\n",
      "b'# Data type: Orthology\\n'\n",
      "b'# Data format: tsv\\n'\n",
      "b'# README: \\n'\n",
      "b'# Source: Alliance of Genome Resources (Alliance)\\n'\n",
      "b'# Source URL: http://alliancegenome.org/downloads\\n'\n",
      "b'# Help Desk: help@alliancegenome.org\\n'\n",
      "b'# Orthology Filter: Stringent\\n'\n",
      "b'# Taxon IDs: NCBITaxon:9606, NCBITaxon:10116, NCBITaxon:10090, NCBITaxon:7955, NCBITaxon:7227, NCBITaxon:6239, NCBITaxon:559292\\n'\n",
      "b'# Species: Homo sapiens, Rattus norvegicus, Mus musculus, Danio rerio, Drosophila melanogaster, Caenorhabditis elegans, Saccharomyces cerevisiae\\n'\n",
      "b'# Alliance Database Version: 4.1.0\\n'\n",
      "b'# Date file generated (UTC): 2021-08-10 17:59\\n'\n",
      "b'#\\n'\n",
      "b'##########################################################################\\n'\n",
      "\n",
      "\n",
      "[INFO] completed loading data.\n"
     ]
    }
   ],
   "metadata": {}
  },
  {
   "cell_type": "markdown",
   "source": [
    "### Explore Data\r\n",
    "\r\n",
    "For each column in the dataframe `orthoAGR` list out the name and the unique value count. *If the count is low, list the values.* "
   ],
   "metadata": {}
  },
  {
   "cell_type": "code",
   "execution_count": 29,
   "source": [
    "# view orthology data columns available\r\n",
    "orthoAGR.columns.values"
   ],
   "outputs": [
    {
     "output_type": "execute_result",
     "data": {
      "text/plain": [
       "array(['Gene1ID', 'Gene1Symbol', 'Gene1SpeciesTaxonID',\n",
       "       'Gene1SpeciesName', 'Gene2ID', 'Gene2Symbol',\n",
       "       'Gene2SpeciesTaxonID', 'Gene2SpeciesName', 'Algorithms',\n",
       "       'AlgorithmsMatch', 'OutOfAlgorithms', 'IsBestScore',\n",
       "       'IsBestRevScore'], dtype=object)"
      ]
     },
     "metadata": {},
     "execution_count": 29
    }
   ],
   "metadata": {}
  },
  {
   "cell_type": "code",
   "execution_count": 11,
   "source": [
    "# Count unique values found in columns, if under a certain threshold view the unique list of values\r\n",
    "for col in orthoAGR.columns.values:\r\n",
    "    list_len=len(orthoAGR[col].unique().tolist())\r\n",
    "    print(\"column: %s length: %s\"%(col, list_len))\r\n",
    "    if list_len < 20:\r\n",
    "        print(\"unique values: \", orthoAGR[col].unique().tolist())\r\n"
   ],
   "outputs": [
    {
     "output_type": "stream",
     "name": "stdout",
     "text": [
      "column: Gene1ID length: 100430\n",
      "column: Gene1Symbol length: 81990\n",
      "column: Gene1SpeciesTaxonID length: 7\n",
      "unique values:  ['NCBITaxon:6239', 'NCBITaxon:7955', 'NCBITaxon:10116', 'NCBITaxon:10090', 'NCBITaxon:9606', 'NCBITaxon:7227', 'NCBITaxon:559292']\n",
      "column: Gene1SpeciesName length: 7\n",
      "unique values:  ['Caenorhabditis elegans', 'Danio rerio', 'Rattus norvegicus', 'Mus musculus', 'Homo sapiens', 'Drosophila melanogaster', 'Saccharomyces cerevisiae']\n",
      "column: Gene2ID length: 100430\n",
      "column: Gene2Symbol length: 81990\n",
      "column: Gene2SpeciesTaxonID length: 7\n",
      "unique values:  ['NCBITaxon:559292', 'NCBITaxon:7227', 'NCBITaxon:7955', 'NCBITaxon:10116', 'NCBITaxon:9606', 'NCBITaxon:6239', 'NCBITaxon:10090']\n",
      "column: Gene2SpeciesName length: 7\n",
      "unique values:  ['Saccharomyces cerevisiae', 'Drosophila melanogaster', 'Danio rerio', 'Rattus norvegicus', 'Homo sapiens', 'Caenorhabditis elegans', 'Mus musculus']\n",
      "column: Algorithms length: 2529\n",
      "column: AlgorithmsMatch length: 11\n",
      "unique values:  [9, 8, 7, 10, 6, 5, 3, 4, 2, 11, 1]\n",
      "column: OutOfAlgorithms length: 3\n",
      "unique values:  [10, 9, 11]\n",
      "column: IsBestScore length: 3\n",
      "unique values:  ['Yes', 'No', 'Yes_Adjusted']\n",
      "column: IsBestRevScore length: 2\n",
      "unique values:  ['Yes', 'No']\n"
     ]
    }
   ],
   "metadata": {}
  },
  {
   "cell_type": "code",
   "execution_count": 61,
   "source": [
    "orthoAGR.head()"
   ],
   "outputs": [
    {
     "output_type": "execute_result",
     "data": {
      "text/html": [
       "<div>\n",
       "<style scoped>\n",
       "    .dataframe tbody tr th:only-of-type {\n",
       "        vertical-align: middle;\n",
       "    }\n",
       "\n",
       "    .dataframe tbody tr th {\n",
       "        vertical-align: top;\n",
       "    }\n",
       "\n",
       "    .dataframe thead th {\n",
       "        text-align: right;\n",
       "    }\n",
       "</style>\n",
       "<table border=\"1\" class=\"dataframe\">\n",
       "  <thead>\n",
       "    <tr style=\"text-align: right;\">\n",
       "      <th></th>\n",
       "      <th>Gene1ID</th>\n",
       "      <th>Gene1Symbol</th>\n",
       "      <th>Gene1SpeciesTaxonID</th>\n",
       "      <th>Gene1SpeciesName</th>\n",
       "      <th>Gene2ID</th>\n",
       "      <th>Gene2Symbol</th>\n",
       "      <th>Gene2SpeciesTaxonID</th>\n",
       "      <th>Gene2SpeciesName</th>\n",
       "      <th>Algorithms</th>\n",
       "      <th>AlgorithmsMatch</th>\n",
       "      <th>OutOfAlgorithms</th>\n",
       "      <th>IsBestScore</th>\n",
       "      <th>IsBestRevScore</th>\n",
       "    </tr>\n",
       "  </thead>\n",
       "  <tbody>\n",
       "    <tr>\n",
       "      <th>0</th>\n",
       "      <td>WB:WBGene00011502</td>\n",
       "      <td>vps-53</td>\n",
       "      <td>NCBITaxon:6239</td>\n",
       "      <td>Caenorhabditis elegans</td>\n",
       "      <td>SGD:S000003566</td>\n",
       "      <td>VPS53</td>\n",
       "      <td>NCBITaxon:559292</td>\n",
       "      <td>Saccharomyces cerevisiae</td>\n",
       "      <td>PhylomeDB|OrthoFinder|Hieranoid|OMA|Ensembl Co...</td>\n",
       "      <td>9</td>\n",
       "      <td>10</td>\n",
       "      <td>Yes</td>\n",
       "      <td>Yes</td>\n",
       "    </tr>\n",
       "    <tr>\n",
       "      <th>1</th>\n",
       "      <td>ZFIN:ZDB-GENE-041114-199</td>\n",
       "      <td>vps53</td>\n",
       "      <td>NCBITaxon:7955</td>\n",
       "      <td>Danio rerio</td>\n",
       "      <td>SGD:S000003566</td>\n",
       "      <td>VPS53</td>\n",
       "      <td>NCBITaxon:559292</td>\n",
       "      <td>Saccharomyces cerevisiae</td>\n",
       "      <td>OrthoFinder|Hieranoid|OMA|Ensembl Compara|Roun...</td>\n",
       "      <td>8</td>\n",
       "      <td>10</td>\n",
       "      <td>Yes</td>\n",
       "      <td>Yes</td>\n",
       "    </tr>\n",
       "    <tr>\n",
       "      <th>2</th>\n",
       "      <td>RGD:1311391</td>\n",
       "      <td>Vps53</td>\n",
       "      <td>NCBITaxon:10116</td>\n",
       "      <td>Rattus norvegicus</td>\n",
       "      <td>SGD:S000003566</td>\n",
       "      <td>VPS53</td>\n",
       "      <td>NCBITaxon:559292</td>\n",
       "      <td>Saccharomyces cerevisiae</td>\n",
       "      <td>OrthoFinder|Hieranoid|OMA|Ensembl Compara|InPa...</td>\n",
       "      <td>7</td>\n",
       "      <td>9</td>\n",
       "      <td>Yes</td>\n",
       "      <td>Yes</td>\n",
       "    </tr>\n",
       "    <tr>\n",
       "      <th>3</th>\n",
       "      <td>MGI:1915549</td>\n",
       "      <td>Vps53</td>\n",
       "      <td>NCBITaxon:10090</td>\n",
       "      <td>Mus musculus</td>\n",
       "      <td>SGD:S000003566</td>\n",
       "      <td>VPS53</td>\n",
       "      <td>NCBITaxon:559292</td>\n",
       "      <td>Saccharomyces cerevisiae</td>\n",
       "      <td>PhylomeDB|OrthoFinder|Hieranoid|OMA|Ensembl Co...</td>\n",
       "      <td>9</td>\n",
       "      <td>10</td>\n",
       "      <td>Yes</td>\n",
       "      <td>Yes</td>\n",
       "    </tr>\n",
       "    <tr>\n",
       "      <th>4</th>\n",
       "      <td>HGNC:25608</td>\n",
       "      <td>VPS53</td>\n",
       "      <td>NCBITaxon:9606</td>\n",
       "      <td>Homo sapiens</td>\n",
       "      <td>SGD:S000003566</td>\n",
       "      <td>VPS53</td>\n",
       "      <td>NCBITaxon:559292</td>\n",
       "      <td>Saccharomyces cerevisiae</td>\n",
       "      <td>PhylomeDB|OrthoFinder|Hieranoid|OMA|Ensembl Co...</td>\n",
       "      <td>9</td>\n",
       "      <td>10</td>\n",
       "      <td>Yes</td>\n",
       "      <td>Yes</td>\n",
       "    </tr>\n",
       "  </tbody>\n",
       "</table>\n",
       "</div>"
      ],
      "text/plain": [
       "                    Gene1ID Gene1Symbol Gene1SpeciesTaxonID  \\\n",
       "0         WB:WBGene00011502      vps-53      NCBITaxon:6239   \n",
       "1  ZFIN:ZDB-GENE-041114-199       vps53      NCBITaxon:7955   \n",
       "2               RGD:1311391       Vps53     NCBITaxon:10116   \n",
       "3               MGI:1915549       Vps53     NCBITaxon:10090   \n",
       "4                HGNC:25608       VPS53      NCBITaxon:9606   \n",
       "\n",
       "         Gene1SpeciesName         Gene2ID Gene2Symbol Gene2SpeciesTaxonID  \\\n",
       "0  Caenorhabditis elegans  SGD:S000003566       VPS53    NCBITaxon:559292   \n",
       "1             Danio rerio  SGD:S000003566       VPS53    NCBITaxon:559292   \n",
       "2       Rattus norvegicus  SGD:S000003566       VPS53    NCBITaxon:559292   \n",
       "3            Mus musculus  SGD:S000003566       VPS53    NCBITaxon:559292   \n",
       "4            Homo sapiens  SGD:S000003566       VPS53    NCBITaxon:559292   \n",
       "\n",
       "           Gene2SpeciesName  \\\n",
       "0  Saccharomyces cerevisiae   \n",
       "1  Saccharomyces cerevisiae   \n",
       "2  Saccharomyces cerevisiae   \n",
       "3  Saccharomyces cerevisiae   \n",
       "4  Saccharomyces cerevisiae   \n",
       "\n",
       "                                          Algorithms  AlgorithmsMatch  \\\n",
       "0  PhylomeDB|OrthoFinder|Hieranoid|OMA|Ensembl Co...                9   \n",
       "1  OrthoFinder|Hieranoid|OMA|Ensembl Compara|Roun...                8   \n",
       "2  OrthoFinder|Hieranoid|OMA|Ensembl Compara|InPa...                7   \n",
       "3  PhylomeDB|OrthoFinder|Hieranoid|OMA|Ensembl Co...                9   \n",
       "4  PhylomeDB|OrthoFinder|Hieranoid|OMA|Ensembl Co...                9   \n",
       "\n",
       "   OutOfAlgorithms IsBestScore IsBestRevScore  \n",
       "0               10         Yes            Yes  \n",
       "1               10         Yes            Yes  \n",
       "2                9         Yes            Yes  \n",
       "3               10         Yes            Yes  \n",
       "4               10         Yes            Yes  "
      ]
     },
     "metadata": {},
     "execution_count": 61
    }
   ],
   "metadata": {}
  },
  {
   "cell_type": "markdown",
   "source": [],
   "metadata": {}
  },
  {
   "cell_type": "code",
   "execution_count": 62,
   "source": [
    "orthoAGR.info()"
   ],
   "outputs": [
    {
     "output_type": "stream",
     "name": "stdout",
     "text": [
      "<class 'pandas.core.frame.DataFrame'>\n",
      "RangeIndex: 558386 entries, 0 to 558385\n",
      "Data columns (total 13 columns):\n",
      " #   Column               Non-Null Count   Dtype \n",
      "---  ------               --------------   ----- \n",
      " 0   Gene1ID              558386 non-null  object\n",
      " 1   Gene1Symbol          558361 non-null  object\n",
      " 2   Gene1SpeciesTaxonID  558386 non-null  object\n",
      " 3   Gene1SpeciesName     558386 non-null  object\n",
      " 4   Gene2ID              558386 non-null  object\n",
      " 5   Gene2Symbol          558361 non-null  object\n",
      " 6   Gene2SpeciesTaxonID  558386 non-null  object\n",
      " 7   Gene2SpeciesName     558386 non-null  object\n",
      " 8   Algorithms           558386 non-null  object\n",
      " 9   AlgorithmsMatch      558386 non-null  int64 \n",
      " 10  OutOfAlgorithms      558386 non-null  int64 \n",
      " 11  IsBestScore          558386 non-null  object\n",
      " 12  IsBestRevScore       558386 non-null  object\n",
      "dtypes: int64(2), object(11)\n",
      "memory usage: 55.4+ MB\n"
     ]
    }
   ],
   "metadata": {}
  },
  {
   "cell_type": "code",
   "execution_count": 33,
   "source": [
    "# view first record\r\n",
    "data_ortho_agr[0]"
   ],
   "outputs": [
    {
     "output_type": "execute_result",
     "data": {
      "text/plain": [
       "{'Gene1ID': 'WB:WBGene00011502',\n",
       " 'Gene1Symbol': 'vps-53',\n",
       " 'Gene1SpeciesTaxonID': 'NCBITaxon:6239',\n",
       " 'Gene1SpeciesName': 'Caenorhabditis elegans',\n",
       " 'Gene2ID': 'SGD:S000003566',\n",
       " 'Gene2Symbol': 'VPS53',\n",
       " 'Gene2SpeciesTaxonID': 'NCBITaxon:559292',\n",
       " 'Gene2SpeciesName': 'Saccharomyces cerevisiae',\n",
       " 'Algorithms': 'PhylomeDB|OrthoFinder|Hieranoid|OMA|Ensembl Compara|Roundup|InParanoid|PANTHER|OrthoInspector',\n",
       " 'AlgorithmsMatch': 9,\n",
       " 'OutOfAlgorithms': 10,\n",
       " 'IsBestScore': 'Yes',\n",
       " 'IsBestRevScore': 'Yes'}"
      ]
     },
     "metadata": {},
     "execution_count": 33
    }
   ],
   "metadata": {}
  },
  {
   "cell_type": "code",
   "execution_count": 65,
   "source": [
    "# Lets view a chunk of IDs to see the formatting\r\n",
    "orthoAGR['Gene1ID'][:10].to_list()"
   ],
   "outputs": [
    {
     "output_type": "execute_result",
     "data": {
      "text/plain": [
       "['WB:WBGene00011502',\n",
       " 'ZFIN:ZDB-GENE-041114-199',\n",
       " 'RGD:1311391',\n",
       " 'MGI:1915549',\n",
       " 'HGNC:25608',\n",
       " 'FB:FBgn0031598',\n",
       " 'ZFIN:ZDB-GENE-070112-1002',\n",
       " 'RGD:1586427',\n",
       " 'MGI:2444430',\n",
       " 'HGNC:19743']"
      ]
     },
     "metadata": {},
     "execution_count": 65
    }
   ],
   "metadata": {}
  },
  {
   "cell_type": "code",
   "execution_count": 75,
   "source": [
    "#len(orthoAGR[\"Gene1ID\"].value_counts().to_list())\r\n",
    "#len(orthoAGR[\"Gene1ID\"].unique())\r\n",
    "orthoAGR[\"Gene1ID\"].value_counts()#.to_list()\r\n"
   ],
   "outputs": [
    {
     "output_type": "execute_result",
     "data": {
      "text/plain": [
       "ZFIN:ZDB-GENE-990415-190    356\n",
       "ZFIN:ZDB-GENE-050510-2      245\n",
       "WB:WBGene00021931           206\n",
       "ZFIN:ZDB-GENE-070806-57     173\n",
       "ZFIN:ZDB-GENE-070806-56     173\n",
       "                           ... \n",
       "RGD:2325594                   1\n",
       "MGI:3619266                   1\n",
       "MGI:2676900                   1\n",
       "RGD:2325337                   1\n",
       "SGD:S000004300                1\n",
       "Name: Gene1ID, Length: 100430, dtype: int64"
      ]
     },
     "metadata": {},
     "execution_count": 75
    }
   ],
   "metadata": {}
  },
  {
   "cell_type": "code",
   "execution_count": 10,
   "source": [
    "orthoAGR['Gene2ID'][:10].to_list()"
   ],
   "outputs": [
    {
     "output_type": "execute_result",
     "data": {
      "text/plain": [
       "['SGD:S000003566',\n",
       " 'SGD:S000003566',\n",
       " 'SGD:S000003566',\n",
       " 'SGD:S000003566',\n",
       " 'SGD:S000003566',\n",
       " 'SGD:S000003566',\n",
       " 'SGD:S000000021',\n",
       " 'SGD:S000000021',\n",
       " 'SGD:S000000021',\n",
       " 'SGD:S000000021']"
      ]
     },
     "metadata": {},
     "execution_count": 10
    }
   ],
   "metadata": {}
  },
  {
   "cell_type": "markdown",
   "source": [
    "### Parse Data\r\n",
    "Now that we have loaded the data and correctly formatted it into records, we can loop through the new dictionary and access our data.  \r\n",
    "\r\n",
    "The id variables are using a \"compact uri\" , or [curie](https://en.wikipedia.org/wiki/CURIE).  \r\n",
    "*\"The left part is called the \"prefix\".  I think the prefixes should be stripped to match what's in mygene.info.  but you should probably do some spotchecking of other prefixes just to be sure.\"*"
   ],
   "metadata": {}
  },
  {
   "cell_type": "code",
   "execution_count": 34,
   "source": [
    "\r\n",
    "# Build Parser \r\n",
    "def load_orthology(data, data_list):\r\n",
    "    results = {}\r\n",
    "\r\n",
    "    for rec in data_ortho_agr[:4]:\r\n",
    "        orig_id1= rec[\"Gene1ID\"].split(':')\r\n",
    "        id1_tag2=orig_id1[1]\r\n",
    "        _id = id1_tag2\r\n",
    "        rec = dict_convert(rec,keyfn=process_key)\r\n",
    "        # remove NaN values, not indexable\r\n",
    "        rec = dict_sweep(rec,vals=[np.nan])\r\n",
    "        results.setdefault(_id,[]).append(rec)\r\n",
    "        #print(rec)\r\n",
    "    for _id,docs in results.items():\r\n",
    "        doc = {\"_id\": _id, \"orthology_data\" : docs}\r\n",
    "        yield doc\r\n",
    "    \r\n",
    "    #return results;"
   ],
   "outputs": [],
   "metadata": {}
  },
  {
   "cell_type": "code",
   "execution_count": 35,
   "source": [
    "def load_testcase():\r\n",
    "    results=load_orthology(orthoAGR, data_ortho_agr)\r\n",
    "    #print(results)\r\n",
    "    print(next(results))\r\n",
    "load_testcase()"
   ],
   "outputs": [
    {
     "output_type": "stream",
     "name": "stdout",
     "text": [
      "{'_id': 'WBGene00011502', 'orthology_data': [{'gene1id': 'WB:WBGene00011502', 'gene1symbol': 'vps-53', 'gene1speciestaxonid': 'NCBITaxon:6239', 'gene1speciesname': 'Caenorhabditis elegans', 'gene2id': 'SGD:S000003566', 'gene2symbol': 'VPS53', 'gene2speciestaxonid': 'NCBITaxon:559292', 'gene2speciesname': 'Saccharomyces cerevisiae', 'algorithms': 'PhylomeDB|OrthoFinder|Hieranoid|OMA|Ensembl Compara|Roundup|InParanoid|PANTHER|OrthoInspector', 'algorithmsmatch': 9, 'outofalgorithms': 10, 'isbestscore': 'Yes', 'isbestrevscore': 'Yes'}]}\n"
     ]
    }
   ],
   "metadata": {}
  },
  {
   "cell_type": "markdown",
   "source": [
    "### Testing the API"
   ],
   "metadata": {}
  },
  {
   "cell_type": "code",
   "execution_count": 77,
   "source": [
    "!curl localhost:8000/metadata "
   ],
   "outputs": [
    {
     "output_type": "stream",
     "name": "stdout",
     "text": [
      "{\"biothing_type\": \"gene\", \"build_date\": \"2021-09-15T16:11:48.091144\", \"build_version\": \"20210915\", \"src\": {\"orthologyAGR\": {\"stats\": {\"orthologyAGR\": 99452}, \"version\": \"2021-09\"}}, \"stats\": {\"total\": 99452}}\n"
     ]
    },
    {
     "output_type": "stream",
     "name": "stderr",
     "text": [
      "  % Total    % Received % Xferd  Average Speed   Time    Time     Time  Current\n",
      "                                 Dload  Upload   Total   Spent    Left  Speed\n",
      "\n",
      "  0     0    0     0    0     0      0      0 --:--:-- --:--:-- --:--:--     0\n",
      "100   208  100   208    0     0    208      0  0:00:01 --:--:--  0:00:01  4425\n"
     ]
    }
   ],
   "metadata": {}
  },
  {
   "cell_type": "code",
   "execution_count": 78,
   "source": [
    "import requests"
   ],
   "outputs": [],
   "metadata": {}
  },
  {
   "cell_type": "code",
   "execution_count": 44,
   "source": [
    "r=requests.get(\"http://localhost:8000/metadata\")\r\n",
    "print(r.content)"
   ],
   "outputs": [
    {
     "output_type": "stream",
     "name": "stdout",
     "text": [
      "b'{\"biothing_type\": \"gene\", \"build_date\": \"2021-09-15T16:11:48.091144\", \"build_version\": \"20210915\", \"src\": {\"orthologyAGR\": {\"stats\": {\"orthologyAGR\": 99452}, \"version\": \"2021-09\"}}, \"stats\": {\"total\": 99452}}'\n"
     ]
    }
   ],
   "metadata": {}
  },
  {
   "cell_type": "code",
   "execution_count": 51,
   "source": [
    "# method to search Biothings API  \r\n",
    "def test_query(query_input, basecase=True):\r\n",
    "    # run basecase first -- search metadata\r\n",
    "    if basecase==True:\r\n",
    "        query=\"http://localhost:8000/metadata\"\r\n",
    "        r=requests.get(query)\r\n",
    "        print(\"\\n[INFO] metadata query: \\n\", r.content)\r\n",
    "        \r\n",
    "    # run user query\r\n",
    "    query=\"http://localhost:8000/query?q=%s\"%query_input\r\n",
    "    r=requests.get(query)\r\n",
    "    print(\"\\n[INFO] query for %s: \\n\"%query_input, r.content)"
   ],
   "outputs": [],
   "metadata": {}
  },
  {
   "cell_type": "code",
   "execution_count": null,
   "source": [
    "#\"ZDB-GENE-041114-199\", \"1311391\", \"WBGene00011502\""
   ],
   "outputs": [],
   "metadata": {}
  },
  {
   "cell_type": "code",
   "execution_count": 90,
   "source": [
    "test_query(\"ZDB-GENE-041114-199\", basecase=False)\r\n"
   ],
   "outputs": [
    {
     "output_type": "stream",
     "name": "stdout",
     "text": [
      "\n",
      "[INFO] query for ZDB-GENE-041114-199: \n",
      " b'{\"took\": 8, \"total\": 18614, \"max_score\": 26.043224, \"hits\": [{\"_id\": \"ZDB-GENE-041114-199\", \"_score\": 26.043224, \"ortholog_info\": [{\"algorithms\": \"OrthoFinder|Hieranoid|OMA|Ensembl Compara|Roundup|InParanoid|PANTHER|OrthoInspector\", \"algorithmsmatch\": 8, \"gene1id\": \"ZFIN:ZDB-GENE-041114-199\", \"gene1speciesname\": \"Danio rerio\", \"gene1speciestaxonid\": \"NCBITaxon:7955\", \"gene1symbol\": \"vps53\", \"gene2id\": \"SGD:S000003566\", \"gene2speciesname\": \"Saccharomyces cerevisiae\", \"gene2speciestaxonid\": \"NCBITaxon:559292\", \"gene2symbol\": \"VPS53\", \"isbestrevscore\": \"Yes\", \"isbestscore\": \"Yes\", \"outofalgorithms\": 10}, {\"algorithms\": \"OrthoFinder|Hieranoid|OMA|Ensembl Compara|Roundup|InParanoid|PANTHER|TreeFam|OrthoInspector\", \"algorithmsmatch\": 9, \"gene1id\": \"ZFIN:ZDB-GENE-041114-199\", \"gene1speciesname\": \"Danio rerio\", \"gene1speciestaxonid\": \"NCBITaxon:7955\", \"gene1symbol\": \"vps53\", \"gene2id\": \"FB:FBgn0031598\", \"gene2speciesname\": \"Drosophila melanogaster\", \"gene2speciestaxonid\": \"NCBITaxon:7227\", \"gene2symbol\": \"Vps53\", \"isbestrevscore\": \"Yes\", \"isbestscore\": \"Yes\", \"outofalgorithms\": 11}, {\"algorithms\": \"OrthoFinder|Hieranoid|OMA|Ensembl Compara|InParanoid|PANTHER|TreeFam|OrthoInspector\", \"algorithmsmatch\": 8, \"gene1id\": \"ZFIN:ZDB-GENE-041114-199\", \"gene1speciesname\": \"Danio rerio\", \"gene1speciestaxonid\": \"NCBITaxon:7955\", \"gene1symbol\": \"vps53\", \"gene2id\": \"RGD:1311391\", \"gene2speciesname\": \"Rattus norvegicus\", \"gene2speciestaxonid\": \"NCBITaxon:10116\", \"gene2symbol\": \"Vps53\", \"isbestrevscore\": \"Yes\", \"isbestscore\": \"Yes\", \"outofalgorithms\": 9}, {\"algorithms\": \"OrthoFinder|ZFIN|Hieranoid|OMA|Ensembl Compara|Roundup|InParanoid|PANTHER|TreeFam|OrthoInspector\", \"algorithmsmatch\": 10, \"gene1id\": \"ZFIN:ZDB-GENE-041114-199\", \"gene1speciesname\": \"Danio rerio\", \"gene1speciestaxonid\": \"NCBITaxon:7955\", \"gene1symbol\": \"vps53\", \"gene2id\": \"HGNC:25608\", \"gene2speciesname\": \"Homo sapiens\", \"gene2speciestaxonid\": \"NCBITaxon:9606\", \"gene2symbol\": \"VPS53\", \"isbestrevscore\": \"Yes\", \"isbestscore\": \"Yes\", \"outofalgorithms\": 11}, {\"algorithms\": \"OrthoFinder|Hieranoid|OMA|Ensembl Compara|Roundup|InParanoid|PANTHER|OrthoInspector\", \"algorithmsmatch\": 8, \"gene1id\": \"ZFIN:ZDB-GENE-041114-199\", \"gene1speciesname\": \"Danio rerio\", \"gene1speciestaxonid\": \"NCBITaxon:7955\", \"gene1symbol\": \"vps53\", \"gene2id\": \"WB:WBGene00011502\", \"gene2speciesname\": \"Caenorhabditis elegans\", \"gene2speciestaxonid\": \"NCBITaxon:6239\", \"gene2symbol\": \"vps-53\", \"isbestrevscore\": \"Yes\", \"isbestscore\": \"Yes\", \"outofalgorithms\": 10}, {\"algorithms\": \"OrthoFinder|ZFIN|Hieranoid|OMA|Ensembl Compara|Roundup|InParanoid|PANTHER|TreeFam|OrthoInspector\", \"algorithmsmatch\": 10, \"gene1id\": \"ZFIN:ZDB-GENE-041114-199\", \"gene1speciesname\": \"Danio rerio\", \"gene1speciestaxonid\": \"NCBITaxon:7955\", \"gene1symbol\": \"vps53\", \"gene2id\": \"MGI:1915549\", \"gene2speciesname\": \"Mus musculus\", \"gene2speciestaxonid\": \"NCBITaxon:10090\", \"gene2symbol\": \"Vps53\", \"isbestrevscore\": \"Yes\", \"isbestscore\": \"Yes\", \"outofalgorithms\": 11}]}, {\"_id\": \"ZDB-GENE-050417-199\", \"_score\": 16.897535, \"ortholog_info\": [{\"algorithms\": \"PhylomeDB|OrthoFinder|Hieranoid|OMA|Ensembl Compara|InParanoid|PANTHER|TreeFam|OrthoInspector\", \"algorithmsmatch\": 9, \"gene1id\": \"ZFIN:ZDB-GENE-050417-199\", \"gene1speciesname\": \"Danio rerio\", \"gene1speciestaxonid\": \"NCBITaxon:7955\", \"gene1symbol\": \"srd5a2a\", \"gene2id\": \"RGD:621480\", \"gene2speciesname\": \"Rattus norvegicus\", \"gene2speciestaxonid\": \"NCBITaxon:10116\", \"gene2symbol\": \"Srd5a2\", \"isbestrevscore\": \"Yes\", \"isbestscore\": \"Yes\", \"outofalgorithms\": 9}, {\"algorithms\": \"PhylomeDB|OrthoFinder|ZFIN|Hieranoid|OMA|Ensembl Compara|Roundup|InParanoid|PANTHER|OrthoInspector\", \"algorithmsmatch\": 10, \"gene1id\": \"ZFIN:ZDB-GENE-050417-199\", \"gene1speciesname\": \"Danio rerio\", \"gene1speciestaxonid\": \"NCBITaxon:7955\", \"gene1symbol\": \"srd5a2a\", \"gene2id\": \"HGNC:11285\", \"gene2speciesname\": \"Homo sapiens\", \"gene2speciestaxonid\": \"NCBITaxon:9606\", \"gene2symbol\": \"SRD5A2\", \"isbestrevscore\": \"Yes\", \"isbestscore\": \"Yes\", \"outofalgorithms\": 11}, {\"algorithms\": \"PhylomeDB|OrthoFinder|Hieranoid|OMA|Ensembl Compara|Roundup|InParanoid|PANTHER|TreeFam|OrthoInspector\", \"algorithmsmatch\": 10, \"gene1id\": \"ZFIN:ZDB-GENE-050417-199\", \"gene1speciesname\": \"Danio rerio\", \"gene1speciestaxonid\": \"NCBITaxon:7955\", \"gene1symbol\": \"srd5a2a\", \"gene2id\": \"WB:WBGene00008959\", \"gene2speciesname\": \"Caenorhabditis elegans\", \"gene2speciestaxonid\": \"NCBITaxon:6239\", \"gene2symbol\": \"F19H6.4\", \"isbestrevscore\": \"Yes\", \"isbestscore\": \"Yes\", \"outofalgorithms\": 10}, {\"algorithms\": \"PhylomeDB|OrthoFinder|Hieranoid|OMA|Ensembl Compara|Roundup|InParanoid|PANTHER|TreeFam|OrthoInspector\", \"algorithmsmatch\": 10, \"gene1id\": \"ZFIN:ZDB-GENE-050417-199\", \"gene1speciesname\": \"Danio rerio\", \"gene1speciestaxonid\": \"NCBITaxon:7955\", \"gene1symbol\": \"srd5a2a\", \"gene2id\": \"WB:WBGene00009635\", \"gene2speciesname\": \"Caenorhabditis elegans\", \"gene2speciestaxonid\": \"NCBITaxon:6239\", \"gene2symbol\": \"F42F12.3\", \"isbestrevscore\": \"Yes\", \"isbestscore\": \"Yes\", \"outofalgorithms\": 10}, {\"algorithms\": \"PhylomeDB|OrthoFinder|OMA|PANTHER|TreeFam|OrthoInspector\", \"algorithmsmatch\": 6, \"gene1id\": \"ZFIN:ZDB-GENE-050417-199\", \"gene1speciesname\": \"Danio rerio\", \"gene1speciestaxonid\": \"NCBITaxon:7955\", \"gene1symbol\": \"srd5a2a\", \"gene2id\": \"WB:WBGene00014241\", \"gene2speciesname\": \"Caenorhabditis elegans\", \"gene2speciestaxonid\": \"NCBITaxon:6239\", \"gene2symbol\": \"ZK1251.3\", \"isbestrevscore\": \"Yes\", \"isbestscore\": \"No\", \"outofalgorithms\": 10}, {\"algorithms\": \"PhylomeDB|OrthoFinder|ZFIN|Hieranoid|OMA|Ensembl Compara|Roundup|InParanoid|PANTHER|TreeFam|OrthoInspector\", \"algorithmsmatch\": 11, \"gene1id\": \"ZFIN:ZDB-GENE-050417-199\", \"gene1speciesname\": \"Danio rerio\", \"gene1speciestaxonid\": \"NCBITaxon:7955\", \"gene1symbol\": \"srd5a2a\", \"gene2id\": \"MGI:2150380\", \"gene2speciesname\": \"Mus musculus\", \"gene2speciestaxonid\": \"NCBITaxon:10090\", \"gene2symbol\": \"Srd5a2\", \"isbestrevscore\": \"Yes\", \"isbestscore\": \"Yes\", \"outofalgorithms\": 11}]}, {\"_id\": \"ZDB-GENE-081104-199\", \"_score\": 16.241058, \"ortholog_info\": [{\"algorithms\": \"OrthoFinder|Hieranoid|OMA|Ensembl Compara|InParanoid|PANTHER|TreeFam|OrthoInspector\", \"algorithmsmatch\": 8, \"gene1id\": \"ZFIN:ZDB-GENE-081104-199\", \"gene1speciesname\": \"Danio rerio\", \"gene1speciestaxonid\": \"NCBITaxon:7955\", \"gene1symbol\": \"rnf216\", \"gene2id\": \"RGD:1565135\", \"gene2speciesname\": \"Rattus norvegicus\", \"gene2speciestaxonid\": \"NCBITaxon:10116\", \"gene2symbol\": \"Rnf216\", \"isbestrevscore\": \"Yes\", \"isbestscore\": \"Yes\", \"outofalgorithms\": 9}, {\"algorithms\": \"PhylomeDB|OrthoFinder|ZFIN|Hieranoid|OMA|Ensembl Compara|Roundup|InParanoid|PANTHER|TreeFam|OrthoInspector\", \"algorithmsmatch\": 11, \"gene1id\": \"ZFIN:ZDB-GENE-081104-199\", \"gene1speciesname\": \"Danio rerio\", \"gene1speciestaxonid\": \"NCBITaxon:7955\", \"gene1symbol\": \"rnf216\", \"gene2id\": \"HGNC:21698\", \"gene2speciesname\": \"Homo sapiens\", \"gene2speciestaxonid\": \"NCBITaxon:9606\", \"gene2symbol\": \"RNF216\", \"isbestrevscore\": \"Yes\", \"isbestscore\": \"Yes\", \"outofalgorithms\": 11}, {\"algorithms\": \"PhylomeDB|OrthoFinder|ZFIN|Hieranoid|OMA|Ensembl Compara|Roundup|InParanoid|PANTHER|TreeFam|OrthoInspector\", \"algorithmsmatch\": 11, \"gene1id\": \"ZFIN:ZDB-GENE-081104-199\", \"gene1speciesname\": \"Danio rerio\", \"gene1speciestaxonid\": \"NCBITaxon:7955\", \"gene1symbol\": \"rnf216\", \"gene2id\": \"MGI:1344349\", \"gene2speciesname\": \"Mus musculus\", \"gene2speciestaxonid\": \"NCBITaxon:10090\", \"gene2symbol\": \"Rnf216\", \"isbestrevscore\": \"Yes\", \"isbestscore\": \"Yes\", \"outofalgorithms\": 11}]}, {\"_id\": \"ZDB-GENE-040718-199\", \"_score\": 16.181412, \"ortholog_info\": [{\"algorithms\": \"PhylomeDB|OrthoFinder|Hieranoid|Ensembl Compara|Roundup|PANTHER|TreeFam\", \"algorithmsmatch\": 7, \"gene1id\": \"ZFIN:ZDB-GENE-040718-199\", \"gene1speciesname\": \"Danio rerio\", \"gene1speciestaxonid\": \"NCBITaxon:7955\", \"gene1symbol\": \"uqcrq\", \"gene2id\": \"SGD:S000003702\", \"gene2speciesname\": \"Saccharomyces cerevisiae\", \"gene2speciestaxonid\": \"NCBITaxon:559292\", \"gene2symbol\": \"QCR8\", \"isbestrevscore\": \"Yes\", \"isbestscore\": \"Yes\", \"outofalgorithms\": 10}, {\"algorithms\": \"PhylomeDB|OrthoFinder|Hieranoid|OMA|Ensembl Compara|Roundup|InParanoid|PANTHER|TreeFam|OrthoInspector\", \"algorithmsmatch\": 10, \"gene1id\": \"ZFIN:ZDB-GENE-040718-199\", \"gene1speciesname\": \"Danio rerio\", \"gene1speciestaxonid\": \"NCBITaxon:7955\", \"gene1symbol\": \"uqcrq\", \"gene2id\": \"FB:FBgn0036728\", \"gene2speciesname\": \"Drosophila melanogaster\", \"gene2speciestaxonid\": \"NCBITaxon:7227\", \"gene2symbol\": \"UQCR-Q\", \"isbestrevscore\": \"Yes\", \"isbestscore\": \"Yes\", \"outofalgorithms\": 11}, {\"algorithms\": \"PhylomeDB|OrthoFinder|Hieranoid|OMA|Ensembl Compara|InParanoid|PANTHER|OrthoInspector\", \"algorithmsmatch\": 8, \"gene1id\": \"ZFIN:ZDB-GENE-040718-199\", \"gene1speciesname\": \"Danio rerio\", \"gene1speciestaxonid\": \"NCBITaxon:7955\", \"gene1symbol\": \"uqcrq\", \"gene2id\": \"RGD:1562350\", \"gene2speciesname\": \"Rattus norvegicus\", \"gene2speciestaxonid\": \"NCBITaxon:10116\", \"gene2symbol\": \"Uqcrq\", \"isbestrevscore\": \"Yes\", \"isbestscore\": \"Yes\", \"outofalgorithms\": 9}, {\"algorithms\": \"PhylomeDB|OrthoFinder|ZFIN|Hieranoid|OMA|Ensembl Compara|Roundup|InParanoid|PANTHER|TreeFam|OrthoInspector\", \"algorithmsmatch\": 11, \"gene1id\": \"ZFIN:ZDB-GENE-040718-199\", \"gene1speciesname\": \"Danio rerio\", \"gene1speciestaxonid\": \"NCBITaxon:7955\", \"gene1symbol\": \"uqcrq\", \"gene2id\": \"HGNC:29594\", \"gene2speciesname\": \"Homo sapiens\", \"gene2speciestaxonid\": \"NCBITaxon:9606\", \"gene2symbol\": \"UQCRQ\", \"isbestrevscore\": \"Yes\", \"isbestscore\": \"Yes\", \"outofalgorithms\": 11}, {\"algorithms\": \"PhylomeDB|OrthoFinder|Hieranoid|OMA|Ensembl Compara|Roundup|InParanoid|PANTHER|OrthoInspector\", \"algorithmsmatch\": 9, \"gene1id\": \"ZFIN:ZDB-GENE-040718-199\", \"gene1speciesname\": \"Danio rerio\", \"gene1speciestaxonid\": \"NCBITaxon:7955\", \"gene1symbol\": \"uqcrq\", \"gene2id\": \"WB:WBGene00009739\", \"gene2speciesname\": \"Caenorhabditis elegans\", \"gene2speciestaxonid\": \"NCBITaxon:6239\", \"gene2symbol\": \"F45H10.2\", \"isbestrevscore\": \"Yes\", \"isbestscore\": \"No\", \"outofalgorithms\": 10}, {\"algorithms\": \"PhylomeDB|OrthoFinder|Hieranoid|OMA|Ensembl Compara|Roundup|InParanoid|PANTHER|TreeFam|OrthoInspector\", \"algorithmsmatch\": 10, \"gene1id\": \"ZFIN:ZDB-GENE-040718-199\", \"gene1speciesname\": \"Danio rerio\", \"gene1speciestaxonid\": \"NCBITaxon:7955\", \"gene1symbol\": \"uqcrq\", \"gene2id\": \"WB:WBGene00019937\", \"gene2speciesname\": \"Caenorhabditis elegans\", \"gene2speciestaxonid\": \"NCBITaxon:6239\", \"gene2symbol\": \"R07E4.3\", \"isbestrevscore\": \"Yes\", \"isbestscore\": \"Yes\", \"outofalgorithms\": 10}, {\"algorithms\": \"PhylomeDB|OrthoFinder|Hieranoid|OMA|Ensembl Compara|Roundup|InParanoid|PANTHER|TreeFam|OrthoInspector\", \"algorithmsmatch\": 10, \"gene1id\": \"ZFIN:ZDB-GENE-040718-199\", \"gene1speciesname\": \"Danio rerio\", \"gene1speciestaxonid\": \"NCBITaxon:7955\", \"gene1symbol\": \"uqcrq\", \"gene2id\": \"MGI:107807\", \"gene2speciesname\": \"Mus musculus\", \"gene2speciestaxonid\": \"NCBITaxon:10090\", \"gene2symbol\": \"Uqcrq\", \"isbestrevscore\": \"Yes\", \"isbestscore\": \"Yes\", \"outofalgorithms\": 11}]}, {\"_id\": \"ZDB-GENE-090312-199\", \"_score\": 16.087263, \"ortholog_info\": [{\"algorithms\": \"OrthoFinder|Hieranoid|OMA|Ensembl Compara|Roundup|InParanoid|PANTHER|TreeFam|OrthoInspector\", \"algorithmsmatch\": 9, \"gene1id\": \"ZFIN:ZDB-GENE-090312-199\", \"gene1speciesname\": \"Danio rerio\", \"gene1speciestaxonid\": \"NCBITaxon:7955\", \"gene1symbol\": \"ndst3\", \"gene2id\": \"FB:FBgn0020251\", \"gene2speciesname\": \"Drosophila melanogaster\", \"gene2speciestaxonid\": \"NCBITaxon:7227\", \"gene2symbol\": \"sfl\", \"isbestrevscore\": \"No\", \"isbestscore\": \"Yes\", \"outofalgorithms\": 11}, {\"algorithms\": \"OrthoFinder|OMA|InParanoid|PANTHER|TreeFam|OrthoInspector\", \"algorithmsmatch\": 6, \"gene1id\": \"ZFIN:ZDB-GENE-090312-199\", \"gene1speciesname\": \"Danio rerio\", \"gene1speciestaxonid\": \"NCBITaxon:7955\", \"gene1symbol\": \"ndst3\", \"gene2id\": \"RGD:1310960\", \"gene2speciesname\": \"Rattus norvegicus\", \"gene2speciestaxonid\": \"NCBITaxon:10116\", \"gene2symbol\": \"Ndst3\", \"isbestrevscore\": \"Yes\", \"isbestscore\": \"No\", \"outofalgorithms\": 9}, {\"algorithms\": \"OrthoFinder|Hieranoid|OMA|Ensembl Compara|InParanoid|PANTHER|TreeFam|OrthoInspector\", \"algorithmsmatch\": 8, \"gene1id\": \"ZFIN:ZDB-GENE-090312-199\", \"gene1speciesname\": \"Danio rerio\", \"gene1speciestaxonid\": \"NCBITaxon:7955\", \"gene1symbol\": \"ndst3\", \"gene2id\": \"RGD:1306531\", \"gene2speciesname\": \"Rattus norvegicus\", \"gene2speciestaxonid\": \"NCBITaxon:10116\", \"gene2symbol\": \"Ndst4\", \"isbestrevscore\": \"Yes\", \"isbestscore\": \"Yes\", \"outofalgorithms\": 9}, {\"algorithms\": \"OrthoFinder|ZFIN|OMA|InParanoid|PANTHER|TreeFam|OrthoInspector\", \"algorithmsmatch\": 7, \"gene1id\": \"ZFIN:ZDB-GENE-090312-199\", \"gene1speciesname\": \"Danio rerio\", \"gene1speciestaxonid\": \"NCBITaxon:7955\", \"gene1symbol\": \"ndst3\", \"gene2id\": \"HGNC:7682\", \"gene2speciesname\": \"Homo sapiens\", \"gene2speciestaxonid\": \"NCBITaxon:9606\", \"gene2symbol\": \"NDST3\", \"isbestrevscore\": \"Yes\", \"isbestscore\": \"No\", \"outofalgorithms\": 11}, {\"algorithms\": \"OrthoFinder|Hieranoid|OMA|Ensembl Compara|Roundup|InParanoid|PANTHER|TreeFam|OrthoInspector\", \"algorithmsmatch\": 9, \"gene1id\": \"ZFIN:ZDB-GENE-090312-199\", \"gene1speciesname\": \"Danio rerio\", \"gene1speciestaxonid\": \"NCBITaxon:7955\", \"gene1symbol\": \"ndst3\", \"gene2id\": \"HGNC:20779\", \"gene2speciesname\": \"Homo sapiens\", \"gene2speciestaxonid\": \"NCBITaxon:9606\", \"gene2symbol\": \"NDST4\", \"isbestrevscore\": \"Yes\", \"isbestscore\": \"Yes\", \"outofalgorithms\": 11}, {\"algorithms\": \"OrthoFinder|Hieranoid|OMA|Ensembl Compara|Roundup|InParanoid|PANTHER|TreeFam|OrthoInspector\", \"algorithmsmatch\": 9, \"gene1id\": \"ZFIN:ZDB-GENE-090312-199\", \"gene1speciesname\": \"Danio rerio\", \"gene1speciestaxonid\": \"NCBITaxon:7955\", \"gene1symbol\": \"ndst3\", \"gene2id\": \"WB:WBGene00002028\", \"gene2speciesname\": \"Caenorhabditis elegans\", \"gene2speciestaxonid\": \"NCBITaxon:6239\", \"gene2symbol\": \"hst-1\", \"isbestrevscore\": \"No\", \"isbestscore\": \"Yes\", \"outofalgorithms\": 10}, {\"algorithms\": \"OrthoFinder|ZFIN|OMA|InParanoid|PANTHER|TreeFam|OrthoInspector\", \"algorithmsmatch\": 7, \"gene1id\": \"ZFIN:ZDB-GENE-090312-199\", \"gene1speciesname\": \"Danio rerio\", \"gene1speciestaxonid\": \"NCBITaxon:7955\", \"gene1symbol\": \"ndst3\", \"gene2id\": \"MGI:1932544\", \"gene2speciesname\": \"Mus musculus\", \"gene2speciestaxonid\": \"NCBITaxon:10090\", \"gene2symbol\": \"Ndst3\", \"isbestrevscore\": \"Yes\", \"isbestscore\": \"No\", \"outofalgorithms\": 11}, {\"algorithms\": \"OrthoFinder|Hieranoid|OMA|Ensembl Compara|Roundup|InParanoid|PANTHER|TreeFam|OrthoInspector\", \"algorithmsmatch\": 9, \"gene1id\": \"ZFIN:ZDB-GENE-090312-199\", \"gene1speciesname\": \"Danio rerio\", \"gene1speciestaxonid\": \"NCBITaxon:7955\", \"gene1symbol\": \"ndst3\", \"gene2id\": \"MGI:1932545\", \"gene2speciesname\": \"Mus musculus\", \"gene2speciestaxonid\": \"NCBITaxon:10090\", \"gene2symbol\": \"Ndst4\", \"isbestrevscore\": \"Yes\", \"isbestscore\": \"Yes\", \"outofalgorithms\": 11}]}, {\"_id\": \"ZDB-GENE-990415-199\", \"_score\": 16.056421, \"ortholog_info\": [{\"algorithms\": \"Hieranoid|PANTHER|OrthoFinder\", \"algorithmsmatch\": 3, \"gene1id\": \"ZFIN:ZDB-GENE-990415-199\", \"gene1speciesname\": \"Danio rerio\", \"gene1speciestaxonid\": \"NCBITaxon:7955\", \"gene1symbol\": \"oprd1a\", \"gene2id\": \"FB:FBgn0036789\", \"gene2speciesname\": \"Drosophila melanogaster\", \"gene2speciestaxonid\": \"NCBITaxon:7227\", \"gene2symbol\": \"AstC-R2\", \"isbestrevscore\": \"No\", \"isbestscore\": \"Yes\", \"outofalgorithms\": 11}, {\"algorithms\": \"Hieranoid|PANTHER|OrthoFinder\", \"algorithmsmatch\": 3, \"gene1id\": \"ZFIN:ZDB-GENE-990415-199\", \"gene1speciesname\": \"Danio rerio\", \"gene1speciestaxonid\": \"NCBITaxon:7955\", \"gene1symbol\": \"oprd1a\", \"gene2id\": \"FB:FBgn0036790\", \"gene2speciesname\": \"Drosophila melanogaster\", \"gene2speciestaxonid\": \"NCBITaxon:7227\", \"gene2symbol\": \"AstC-R1\", \"isbestrevscore\": \"No\", \"isbestscore\": \"Yes\", \"outofalgorithms\": 11}, {\"algorithms\": \"PhylomeDB|OrthoFinder|Hieranoid|OMA|Ensembl Compara|InParanoid|PANTHER|TreeFam|OrthoInspector\", \"algorithmsmatch\": 9, \"gene1id\": \"ZFIN:ZDB-GENE-990415-199\", \"gene1speciesname\": \"Danio rerio\", \"gene1speciestaxonid\": \"NCBITaxon:7955\", \"gene1symbol\": \"oprd1a\", \"gene2id\": \"RGD:3233\", \"gene2speciesname\": \"Rattus norvegicus\", \"gene2speciestaxonid\": \"NCBITaxon:10116\", \"gene2symbol\": \"Oprd1\", \"isbestrevscore\": \"Yes\", \"isbestscore\": \"Yes\", \"outofalgorithms\": 9}, {\"algorithms\": \"PhylomeDB|OrthoFinder|ZFIN|Hieranoid|OMA|Ensembl Compara|Roundup|InParanoid|PANTHER|TreeFam|OrthoInspector\", \"algorithmsmatch\": 11, \"gene1id\": \"ZFIN:ZDB-GENE-990415-199\", \"gene1speciesname\": \"Danio rerio\", \"gene1speciestaxonid\": \"NCBITaxon:7955\", \"gene1symbol\": \"oprd1a\", \"gene2id\": \"HGNC:8153\", \"gene2speciesname\": \"Homo sapiens\", \"gene2speciestaxonid\": \"NCBITaxon:9606\", \"gene2symbol\": \"OPRD1\", \"isbestrevscore\": \"Yes\", \"isbestscore\": \"Yes\", \"outofalgorithms\": 11}, {\"algorithms\": \"PANTHER|InParanoid|Hieranoid|PhylomeDB\", \"algorithmsmatch\": 4, \"gene1id\": \"ZFIN:ZDB-GENE-990415-199\", \"gene1speciesname\": \"Danio rerio\", \"gene1speciestaxonid\": \"NCBITaxon:7955\", \"gene1symbol\": \"oprd1a\", \"gene2id\": \"WB:WBGene00020086\", \"gene2speciesname\": \"Caenorhabditis elegans\", \"gene2speciestaxonid\": \"NCBITaxon:6239\", \"gene2symbol\": \"npr-24\", \"isbestrevscore\": \"No\", \"isbestscore\": \"Yes\", \"outofalgorithms\": 10}, {\"algorithms\": \"PhylomeDB|OrthoFinder|ZFIN|Hieranoid|OMA|Ensembl Compara|Roundup|InParanoid|PANTHER|TreeFam|OrthoInspector\", \"algorithmsmatch\": 11, \"gene1id\": \"ZFIN:ZDB-GENE-990415-199\", \"gene1speciesname\": \"Danio rerio\", \"gene1speciestaxonid\": \"NCBITaxon:7955\", \"gene1symbol\": \"oprd1a\", \"gene2id\": \"MGI:97438\", \"gene2speciesname\": \"Mus musculus\", \"gene2speciestaxonid\": \"NCBITaxon:10090\", \"gene2symbol\": \"Oprd1\", \"isbestrevscore\": \"Yes\", \"isbestscore\": \"Yes\", \"outofalgorithms\": 11}]}, {\"_id\": \"ZDB-GENE-061013-199\", \"_score\": 15.869488, \"ortholog_info\": [{\"algorithms\": \"PhylomeDB|OrthoFinder|Hieranoid|Ensembl Compara|Roundup|InParanoid|PANTHER|TreeFam|OrthoInspector\", \"algorithmsmatch\": 9, \"gene1id\": \"ZFIN:ZDB-GENE-061013-199\", \"gene1speciesname\": \"Danio rerio\", \"gene1speciestaxonid\": \"NCBITaxon:7955\", \"gene1symbol\": \"zgc:153119\", \"gene2id\": \"FB:FBgn0053108\", \"gene2speciesname\": \"Drosophila melanogaster\", \"gene2speciestaxonid\": \"NCBITaxon:7227\", \"gene2symbol\": \"CG33108\", \"isbestrevscore\": \"Yes\", \"isbestscore\": \"Yes\", \"outofalgorithms\": 11}, {\"algorithms\": \"OrthoFinder|Hieranoid|OMA|Ensembl Compara|InParanoid|PANTHER|OrthoInspector\", \"algorithmsmatch\": 7, \"gene1id\": \"ZFIN:ZDB-GENE-061013-199\", \"gene1speciesname\": \"Danio rerio\", \"gene1speciestaxonid\": \"NCBITaxon:7955\", \"gene1symbol\": \"zgc:153119\", \"gene2id\": \"RGD:1560854\", \"gene2speciesname\": \"Rattus norvegicus\", \"gene2speciestaxonid\": \"NCBITaxon:10116\", \"gene2symbol\": \"RGD1560854\", \"isbestrevscore\": \"Yes\", \"isbestscore\": \"Yes\", \"outofalgorithms\": 9}, {\"algorithms\": \"PhylomeDB|OrthoFinder|ZFIN|Hieranoid|OMA|Ensembl Compara|Roundup|InParanoid|PANTHER|TreeFam|OrthoInspector\", \"algorithmsmatch\": 11, \"gene1id\": \"ZFIN:ZDB-GENE-061013-199\", \"gene1speciesname\": \"Danio rerio\", \"gene1speciestaxonid\": \"NCBITaxon:7955\", \"gene1symbol\": \"zgc:153119\", \"gene2id\": \"HGNC:24758\", \"gene2speciesname\": \"Homo sapiens\", \"gene2speciestaxonid\": \"NCBITaxon:9606\", \"gene2symbol\": \"C19orf54\", \"isbestrevscore\": \"Yes\", \"isbestscore\": \"Yes\", \"outofalgorithms\": 11}, {\"algorithms\": \"PhylomeDB|OrthoFinder|Hieranoid|Ensembl Compara|Roundup|InParanoid|PANTHER|TreeFam|OrthoInspector\", \"algorithmsmatch\": 9, \"gene1id\": \"ZFIN:ZDB-GENE-061013-199\", \"gene1speciesname\": \"Danio rerio\", \"gene1speciestaxonid\": \"NCBITaxon:7955\", \"gene1symbol\": \"zgc:153119\", \"gene2id\": \"WB:WBGene00010610\", \"gene2speciesname\": \"Caenorhabditis elegans\", \"gene2speciestaxonid\": \"NCBITaxon:6239\", \"gene2symbol\": \"K07A1.3\", \"isbestrevscore\": \"Yes\", \"isbestscore\": \"Yes\", \"outofalgorithms\": 10}, {\"algorithms\": \"OrthoFinder|ZFIN|Hieranoid|OMA|Ensembl Compara|Roundup|InParanoid|PANTHER|TreeFam|OrthoInspector\", \"algorithmsmatch\": 10, \"gene1id\": \"ZFIN:ZDB-GENE-061013-199\", \"gene1speciesname\": \"Danio rerio\", \"gene1speciestaxonid\": \"NCBITaxon:7955\", \"gene1symbol\": \"zgc:153119\", \"gene2id\": \"MGI:3041247\", \"gene2speciesname\": \"Mus musculus\", \"gene2speciestaxonid\": \"NCBITaxon:10090\", \"gene2symbol\": \"BC024978\", \"isbestrevscore\": \"Yes\", \"isbestscore\": \"Yes\", \"outofalgorithms\": 11}]}, {\"_id\": \"ZDB-GENE-041001-199\", \"_score\": 15.806537, \"ortholog_info\": [{\"algorithms\": \"Roundup|PhylomeDB|TreeFam\", \"algorithmsmatch\": 3, \"gene1id\": \"ZFIN:ZDB-GENE-041001-199\", \"gene1speciesname\": \"Danio rerio\", \"gene1speciestaxonid\": \"NCBITaxon:7955\", \"gene1symbol\": \"adam17b\", \"gene2id\": \"FB:FBgn0039734\", \"gene2speciesname\": \"Drosophila melanogaster\", \"gene2speciestaxonid\": \"NCBITaxon:7227\", \"gene2symbol\": \"Tace\", \"isbestrevscore\": \"No\", \"isbestscore\": \"Yes\", \"outofalgorithms\": 11}, {\"algorithms\": \"ZFIN|Roundup|PhylomeDB|TreeFam\", \"algorithmsmatch\": 4, \"gene1id\": \"ZFIN:ZDB-GENE-041001-199\", \"gene1speciesname\": \"Danio rerio\", \"gene1speciestaxonid\": \"NCBITaxon:7955\", \"gene1symbol\": \"adam17b\", \"gene2id\": \"HGNC:195\", \"gene2speciesname\": \"Homo sapiens\", \"gene2speciestaxonid\": \"NCBITaxon:9606\", \"gene2symbol\": \"ADAM17\", \"isbestrevscore\": \"No\", \"isbestscore\": \"Yes\", \"outofalgorithms\": 11}, {\"algorithms\": \"Roundup|PhylomeDB|TreeFam\", \"algorithmsmatch\": 3, \"gene1id\": \"ZFIN:ZDB-GENE-041001-199\", \"gene1speciesname\": \"Danio rerio\", \"gene1speciestaxonid\": \"NCBITaxon:7955\", \"gene1symbol\": \"adam17b\", \"gene2id\": \"WB:WBGene00000075\", \"gene2speciesname\": \"Caenorhabditis elegans\", \"gene2speciestaxonid\": \"NCBITaxon:6239\", \"gene2symbol\": \"adm-4\", \"isbestrevscore\": \"No\", \"isbestscore\": \"Yes\", \"outofalgorithms\": 10}, {\"algorithms\": \"ZFIN|Roundup|PhylomeDB|TreeFam\", \"algorithmsmatch\": 4, \"gene1id\": \"ZFIN:ZDB-GENE-041001-199\", \"gene1speciesname\": \"Danio rerio\", \"gene1speciestaxonid\": \"NCBITaxon:7955\", \"gene1symbol\": \"adam17b\", \"gene2id\": \"MGI:1096335\", \"gene2speciesname\": \"Mus musculus\", \"gene2speciestaxonid\": \"NCBITaxon:10090\", \"gene2symbol\": \"Adam17\", \"isbestrevscore\": \"No\", \"isbestscore\": \"Yes\", \"outofalgorithms\": 11}]}, {\"_id\": \"ZDB-GENE-060526-199\", \"_score\": 15.489105, \"ortholog_info\": [{\"algorithms\": \"PhylomeDB|OrthoFinder|Hieranoid|OMA|Ensembl Compara|InParanoid|PANTHER|OrthoInspector\", \"algorithmsmatch\": 8, \"gene1id\": \"ZFIN:ZDB-GENE-060526-199\", \"gene1speciesname\": \"Danio rerio\", \"gene1speciestaxonid\": \"NCBITaxon:7955\", \"gene1symbol\": \"tpcn1\", \"gene2id\": \"RGD:708494\", \"gene2speciesname\": \"Rattus norvegicus\", \"gene2speciestaxonid\": \"NCBITaxon:10116\", \"gene2symbol\": \"Tpcn1\", \"isbestrevscore\": \"Yes\", \"isbestscore\": \"Yes\", \"outofalgorithms\": 9}, {\"algorithms\": \"PhylomeDB|OrthoFinder|ZFIN|Hieranoid|OMA|Ensembl Compara|InParanoid|PANTHER|TreeFam|OrthoInspector\", \"algorithmsmatch\": 10, \"gene1id\": \"ZFIN:ZDB-GENE-060526-199\", \"gene1speciesname\": \"Danio rerio\", \"gene1speciestaxonid\": \"NCBITaxon:7955\", \"gene1symbol\": \"tpcn1\", \"gene2id\": \"HGNC:18182\", \"gene2speciesname\": \"Homo sapiens\", \"gene2speciestaxonid\": \"NCBITaxon:9606\", \"gene2symbol\": \"TPCN1\", \"isbestrevscore\": \"Yes\", \"isbestscore\": \"Yes\", \"outofalgorithms\": 11}, {\"algorithms\": \"PhylomeDB|OrthoFinder|ZFIN|Hieranoid|OMA|Ensembl Compara|InParanoid|PANTHER|TreeFam|OrthoInspector\", \"algorithmsmatch\": 10, \"gene1id\": \"ZFIN:ZDB-GENE-060526-199\", \"gene1speciesname\": \"Danio rerio\", \"gene1speciestaxonid\": \"NCBITaxon:7955\", \"gene1symbol\": \"tpcn1\", \"gene2id\": \"MGI:2182472\", \"gene2speciesname\": \"Mus musculus\", \"gene2speciestaxonid\": \"NCBITaxon:10090\", \"gene2symbol\": \"Tpcn1\", \"isbestrevscore\": \"Yes\", \"isbestscore\": \"Yes\", \"outofalgorithms\": 11}]}, {\"_id\": \"199\", \"_score\": 15.162391, \"ortholog_info\": [{\"algorithms\": \"InParanoid|PANTHER|OMA\", \"algorithmsmatch\": 3, \"gene1id\": \"HGNC:199\", \"gene1speciesname\": \"Homo sapiens\", \"gene1speciestaxonid\": \"NCBITaxon:9606\", \"gene1symbol\": \"ADAM20\", \"gene2id\": \"RGD:1309066\", \"gene2speciesname\": \"Rattus norvegicus\", \"gene2speciestaxonid\": \"NCBITaxon:10116\", \"gene2symbol\": \"Adam24\", \"isbestrevscore\": \"Yes\", \"isbestscore\": \"No\", \"outofalgorithms\": 10}, {\"algorithms\": \"Ensembl Compara|InParanoid|PANTHER|OMA\", \"algorithmsmatch\": 4, \"gene1id\": \"HGNC:199\", \"gene1speciesname\": \"Homo sapiens\", \"gene1speciestaxonid\": \"NCBITaxon:9606\", \"gene1symbol\": \"ADAM20\", \"gene2id\": \"RGD:6495615\", \"gene2speciesname\": \"Rattus norvegicus\", \"gene2speciestaxonid\": \"NCBITaxon:10116\", \"gene2symbol\": \"LOC100910977\", \"isbestrevscore\": \"Yes\", \"isbestscore\": \"Yes\", \"outofalgorithms\": 10}, {\"algorithms\": \"PANTHER|PhylomeDB|OrthoInspector\", \"algorithmsmatch\": 3, \"gene1id\": \"HGNC:199\", \"gene1speciesname\": \"Homo sapiens\", \"gene1speciestaxonid\": \"NCBITaxon:9606\", \"gene1symbol\": \"ADAM20\", \"gene2id\": \"WB:WBGene00000074\", \"gene2speciesname\": \"Caenorhabditis elegans\", \"gene2speciestaxonid\": \"NCBITaxon:6239\", \"gene2symbol\": \"adm-2\", \"isbestrevscore\": \"No\", \"isbestscore\": \"Yes\", \"outofalgorithms\": 10}, {\"algorithms\": \"Ensembl Compara|PANTHER|OrthoInspector\", \"algorithmsmatch\": 3, \"gene1id\": \"HGNC:199\", \"gene1speciesname\": \"Homo sapiens\", \"gene1speciestaxonid\": \"NCBITaxon:9606\", \"gene1symbol\": \"ADAM20\", \"gene2id\": \"WB:WBGene00006804\", \"gene2speciesname\": \"Caenorhabditis elegans\", \"gene2speciestaxonid\": \"NCBITaxon:6239\", \"gene2symbol\": \"unc-71\", \"isbestrevscore\": \"No\", \"isbestscore\": \"Yes\", \"outofalgorithms\": 10}, {\"algorithms\": \"Ensembl Compara|PANTHER|OMA\", \"algorithmsmatch\": 3, \"gene1id\": \"HGNC:199\", \"gene1speciesname\": \"Homo sapiens\", \"gene1speciestaxonid\": \"NCBITaxon:9606\", \"gene1symbol\": \"ADAM20\", \"gene2id\": \"MGI:1345157\", \"gene2speciesname\": \"Mus musculus\", \"gene2speciestaxonid\": \"NCBITaxon:10090\", \"gene2symbol\": \"Adam25\", \"isbestrevscore\": \"Yes\", \"isbestscore\": \"Yes\", \"outofalgorithms\": 11}, {\"algorithms\": \"Ensembl Compara|PANTHER|OMA\", \"algorithmsmatch\": 3, \"gene1id\": \"HGNC:199\", \"gene1speciesname\": \"Homo sapiens\", \"gene1speciestaxonid\": \"NCBITaxon:9606\", \"gene1symbol\": \"ADAM20\", \"gene2id\": \"MGI:2152342\", \"gene2speciesname\": \"Mus musculus\", \"gene2speciestaxonid\": \"NCBITaxon:10090\", \"gene2symbol\": \"Adam20\", \"isbestrevscore\": \"Yes\", \"isbestscore\": \"Yes\", \"outofalgorithms\": 11}, {\"algorithms\": \"Ensembl Compara|PANTHER|OMA\", \"algorithmsmatch\": 3, \"gene1id\": \"HGNC:199\", \"gene1speciesname\": \"Homo sapiens\", \"gene1speciestaxonid\": \"NCBITaxon:9606\", \"gene1symbol\": \"ADAM20\", \"gene2id\": \"MGI:3045694\", \"gene2speciesname\": \"Mus musculus\", \"gene2speciestaxonid\": \"NCBITaxon:10090\", \"gene2symbol\": \"Adam39\", \"isbestrevscore\": \"Yes\", \"isbestscore\": \"Yes\", \"outofalgorithms\": 11}]}]}'\n"
     ]
    }
   ],
   "metadata": {}
  },
  {
   "cell_type": "markdown",
   "source": [
    "---"
   ],
   "metadata": {}
  },
  {
   "cell_type": "markdown",
   "source": [
    "  Gene1ID: \r\n",
    "- left hand symbol into column, count unique \r\n",
    "- determine error cases/ isolate out \r\n",
    "  \r\n",
    "  \r\n",
    "  \r\n",
    "## <u>References</u>  \r\n",
    "  \r\n",
    "https://en.wikipedia.org/wiki/CURIE  \r\n",
    "http://mygene.info/  \r\n",
    "http://mygene.info/v3/gene/WB:WBGene00011502    \r\n",
    "https://github.com/sirloon/pharmgkb/tree/pharmgkb_v1  \r\n",
    "\r\n"
   ],
   "metadata": {}
  },
  {
   "cell_type": "markdown",
   "source": [
    "---"
   ],
   "metadata": {}
  }
 ],
 "metadata": {
  "orig_nbformat": 4,
  "language_info": {
   "name": "python",
   "version": "3.7.10",
   "mimetype": "text/x-python",
   "codemirror_mode": {
    "name": "ipython",
    "version": 3
   },
   "pygments_lexer": "ipython3",
   "nbconvert_exporter": "python",
   "file_extension": ".py"
  },
  "kernelspec": {
   "name": "python3",
   "display_name": "Python 3.7.10 64-bit ('coding-challenge-sulab': conda)"
  },
  "interpreter": {
   "hash": "03fe218bf58a537a1f1499062a1497ca5cb770a5a4e96e3385dc47bb9fffb678"
  }
 },
 "nbformat": 4,
 "nbformat_minor": 2
}
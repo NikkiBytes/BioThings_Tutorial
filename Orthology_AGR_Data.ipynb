{
 "cells": [
  {
   "cell_type": "markdown",
   "source": [
    "# Exploring Orthology AGR data for BioThings Studio Parser"
   ],
   "metadata": {}
  },
  {
   "cell_type": "code",
   "execution_count": 1,
   "source": [
    "import pandas as pd\r\n",
    "import numpy as np\r\n",
    "import os, csv\r\n",
    "import gzip\r\n",
    "from biothings.utils.dataload import dict_convert, dict_sweep\r\n",
    "from biothings_client import get_client\r\n",
    "gene_client = get_client('gene') \r\n",
    "type(gene_client)"
   ],
   "outputs": [
    {
     "output_type": "execute_result",
     "data": {
      "text/plain": [
       "biothings_client.MyGeneInfo"
      ]
     },
     "metadata": {},
     "execution_count": 1
    }
   ],
   "metadata": {}
  },
  {
   "cell_type": "markdown",
   "source": [
    "## Example Data : Drug Labels\r\n"
   ],
   "metadata": {}
  },
  {
   "cell_type": "code",
   "execution_count": 7,
   "source": [
    "infile = os.path.join(\"c:\\\\Users\\\\19802\\\\Documents\\\\dev\\scripps\\\\BioThings_SuLab\\\\data\\\\drugLabels.byGene.tsv\")\r\n",
    "assert os.path.exists(infile)"
   ],
   "outputs": [],
   "metadata": {}
  },
  {
   "cell_type": "code",
   "execution_count": 8,
   "source": [
    "example_data=pd.read_csv(infile, sep=\"\\t\",squeeze=True,quoting=csv.QUOTE_NONE).to_dict(orient='records') "
   ],
   "outputs": [],
   "metadata": {}
  },
  {
   "cell_type": "markdown",
   "source": [
    "View the first record of the `example_data`. \r\n"
   ],
   "metadata": {}
  },
  {
   "cell_type": "code",
   "execution_count": 9,
   "source": [
    "example_data[0]"
   ],
   "outputs": [
    {
     "output_type": "execute_result",
     "data": {
      "text/plain": [
       "{'Gene ID': 'PA267',\n",
       " 'Gene Symbol': 'ABCB1',\n",
       " 'Label IDs': 'PA166123409;PA166159586',\n",
       " 'Label Names': 'Annotation of EMA Label for aliskiren and ABCB1;Annotation of HCSC Label for aliskiren and ABCB1'}"
      ]
     },
     "metadata": {},
     "execution_count": 9
    }
   ],
   "metadata": {}
  },
  {
   "cell_type": "code",
   "execution_count": 10,
   "source": [
    "# we'll remove space in keys to make queries easier. Also, lowercase is preferred\r\n",
    "# for a BioThings API. We'll an helper function from BioThings SDK\r\n",
    "process_key = lambda k: k.replace(\" \",\"_\").lower()"
   ],
   "outputs": [],
   "metadata": {}
  },
  {
   "cell_type": "code",
   "execution_count": 44,
   "source": [
    "# Test Example Parse\r\n",
    "for rec in example_data[:2]:\r\n",
    "    label_ids = rec.pop(\"Label IDs\").split(\";\")\r\n",
    "    label_names = rec.pop(\"Label Names\").split(\";\")\r\n",
    "    assert len(label_ids) == len(label_names)\r\n",
    "    labels = []\r\n",
    "    for i,_ in enumerate(label_ids):\r\n",
    "        #print(label_ids[i])\r\n",
    "        labels.append({\"id\" : label_ids[i],\r\n",
    "                        \"name\" : label_names[i]})\r\n",
    "    _id = rec[\"Gene ID\"]\r\n",
    "    rec = dict_convert(rec,keyfn=process_key)\r\n",
    "    doc = {\"_id\" : _id, \"drug_labels\" : labels}\r\n",
    "\r\n",
    "print(doc)"
   ],
   "outputs": [
    {
     "output_type": "stream",
     "name": "stdout",
     "text": [
      "{'_id': 'PA390', 'drug_labels': [{'id': 'PA166184427', 'name': 'Annotation of Swissmedic Label for ezetimibe / rosuvastatin and ABCG2, SLCO1B1'}, {'id': 'PA166184499', 'name': 'Annotation of Swissmedic Label for rosuvastatin and ABCG2, SLCO1B1'}]}\n"
     ]
    }
   ],
   "metadata": {}
  },
  {
   "cell_type": "code",
   "execution_count": 45,
   "source": [
    "example_data[0]"
   ],
   "outputs": [
    {
     "output_type": "execute_result",
     "data": {
      "text/plain": [
       "{'Gene ID': 'PA267', 'Gene Symbol': 'ABCB1'}"
      ]
     },
     "metadata": {},
     "execution_count": 45
    }
   ],
   "metadata": {}
  },
  {
   "cell_type": "markdown",
   "source": [
    "---"
   ],
   "metadata": {}
  },
  {
   "cell_type": "markdown",
   "source": [
    "## Ortholog AGR Data  \r\n"
   ],
   "metadata": {}
  },
  {
   "cell_type": "markdown",
   "source": [
    "\r\n",
    "### Load input data   \r\n",
    "\r\n",
    "Datasource: ```https://fms.alliancegenome.org/download/ORTHOLOGY-ALLIANCE_COMBINED.tsv.gz```     \r\n",
    "  \r\n",
    "  \r\n",
    "*The first lines (0-14) are summary information and are disregarded when formatting the dataframe.*"
   ],
   "metadata": {}
  },
  {
   "cell_type": "code",
   "execution_count": 11,
   "source": [
    "ortho_infile = os.path.join(\"c:\\\\Users\\\\19802\\\\Documents\\\\dev\\scripps\\\\BioThings_SuLab\\\\data\\\\ORTHOLOGY-ALLIANCE_COMBINED.tsv.gz\")\r\n",
    "assert os.path.exists(ortho_infile)"
   ],
   "outputs": [],
   "metadata": {}
  },
  {
   "cell_type": "code",
   "execution_count": 13,
   "source": [
    "# open and print the summary key at top of file\r\n",
    "with gzip.open(ortho_infile, 'rb') as f_in:\r\n",
    "    for line in f_in.readlines()[:15]:\r\n",
    "        print(line)\r\n",
    "    print(\"\\n\")\r\n",
    "    \r\n",
    "# open and load tsv into dataframe\r\n",
    "with gzip.open(ortho_infile, 'rb') as f_in:\r\n",
    "    orthoAGR=pd.read_csv(f_in, header=15, sep=\"\\\\t\", engine=\"python\")\r\n",
    "\r\n",
    "data_ortho_agr=orthoAGR.to_dict(orient='records')\r\n",
    "\r\n",
    "print(\"[INFO] completed loading data.\")\r\n"
   ],
   "outputs": [
    {
     "output_type": "stream",
     "name": "stdout",
     "text": [
      "b'##########################################################################\\n'\n",
      "b'#\\n'\n",
      "b'# Data type: Orthology\\n'\n",
      "b'# Data format: tsv\\n'\n",
      "b'# README: \\n'\n",
      "b'# Source: Alliance of Genome Resources (Alliance)\\n'\n",
      "b'# Source URL: http://alliancegenome.org/downloads\\n'\n",
      "b'# Help Desk: help@alliancegenome.org\\n'\n",
      "b'# Orthology Filter: Stringent\\n'\n",
      "b'# Taxon IDs: NCBITaxon:9606, NCBITaxon:10116, NCBITaxon:10090, NCBITaxon:7955, NCBITaxon:7227, NCBITaxon:6239, NCBITaxon:559292\\n'\n",
      "b'# Species: Homo sapiens, Rattus norvegicus, Mus musculus, Danio rerio, Drosophila melanogaster, Caenorhabditis elegans, Saccharomyces cerevisiae\\n'\n",
      "b'# Alliance Database Version: 4.1.0\\n'\n",
      "b'# Date file generated (UTC): 2021-08-10 17:59\\n'\n",
      "b'#\\n'\n",
      "b'##########################################################################\\n'\n",
      "\n",
      "\n",
      "[INFO] completed loading data.\n"
     ]
    }
   ],
   "metadata": {}
  },
  {
   "cell_type": "markdown",
   "source": [
    "### Explore Data\r\n",
    "\r\n",
    "For each column in the dataframe `orthoAGR` list out the name and the unique value count. *If the count is low, list the values.* "
   ],
   "metadata": {}
  },
  {
   "cell_type": "code",
   "execution_count": 14,
   "source": [
    "# view orthology data columns available\r\n",
    "orthoAGR.columns.values"
   ],
   "outputs": [
    {
     "output_type": "execute_result",
     "data": {
      "text/plain": [
       "array(['Gene1ID', 'Gene1Symbol', 'Gene1SpeciesTaxonID',\n",
       "       'Gene1SpeciesName', 'Gene2ID', 'Gene2Symbol',\n",
       "       'Gene2SpeciesTaxonID', 'Gene2SpeciesName', 'Algorithms',\n",
       "       'AlgorithmsMatch', 'OutOfAlgorithms', 'IsBestScore',\n",
       "       'IsBestRevScore'], dtype=object)"
      ]
     },
     "metadata": {},
     "execution_count": 14
    }
   ],
   "metadata": {}
  },
  {
   "cell_type": "code",
   "execution_count": 15,
   "source": [
    "# Count unique values found in columns, if under a certain threshold view the unique list of values\r\n",
    "for col in orthoAGR.columns.values:\r\n",
    "    list_len=len(orthoAGR[col].unique().tolist())\r\n",
    "    print(\"column: %s length: %s\"%(col, list_len))\r\n",
    "    if list_len < 20:\r\n",
    "        print(\"unique values: \", orthoAGR[col].unique().tolist())\r\n"
   ],
   "outputs": [
    {
     "output_type": "stream",
     "name": "stdout",
     "text": [
      "column: Gene1ID length: 100430\n",
      "column: Gene1Symbol length: 81990\n",
      "column: Gene1SpeciesTaxonID length: 7\n",
      "unique values:  ['NCBITaxon:6239', 'NCBITaxon:7955', 'NCBITaxon:10116', 'NCBITaxon:10090', 'NCBITaxon:9606', 'NCBITaxon:7227', 'NCBITaxon:559292']\n",
      "column: Gene1SpeciesName length: 7\n",
      "unique values:  ['Caenorhabditis elegans', 'Danio rerio', 'Rattus norvegicus', 'Mus musculus', 'Homo sapiens', 'Drosophila melanogaster', 'Saccharomyces cerevisiae']\n",
      "column: Gene2ID length: 100430\n",
      "column: Gene2Symbol length: 81990\n",
      "column: Gene2SpeciesTaxonID length: 7\n",
      "unique values:  ['NCBITaxon:559292', 'NCBITaxon:7227', 'NCBITaxon:7955', 'NCBITaxon:10116', 'NCBITaxon:9606', 'NCBITaxon:6239', 'NCBITaxon:10090']\n",
      "column: Gene2SpeciesName length: 7\n",
      "unique values:  ['Saccharomyces cerevisiae', 'Drosophila melanogaster', 'Danio rerio', 'Rattus norvegicus', 'Homo sapiens', 'Caenorhabditis elegans', 'Mus musculus']\n",
      "column: Algorithms length: 2529\n",
      "column: AlgorithmsMatch length: 11\n",
      "unique values:  [9, 8, 7, 10, 6, 5, 3, 4, 2, 11, 1]\n",
      "column: OutOfAlgorithms length: 3\n",
      "unique values:  [10, 9, 11]\n",
      "column: IsBestScore length: 3\n",
      "unique values:  ['Yes', 'No', 'Yes_Adjusted']\n",
      "column: IsBestRevScore length: 2\n",
      "unique values:  ['Yes', 'No']\n"
     ]
    }
   ],
   "metadata": {}
  },
  {
   "cell_type": "code",
   "execution_count": 16,
   "source": [
    "orthoAGR.head()"
   ],
   "outputs": [
    {
     "output_type": "execute_result",
     "data": {
      "text/html": [
       "<div>\n",
       "<style scoped>\n",
       "    .dataframe tbody tr th:only-of-type {\n",
       "        vertical-align: middle;\n",
       "    }\n",
       "\n",
       "    .dataframe tbody tr th {\n",
       "        vertical-align: top;\n",
       "    }\n",
       "\n",
       "    .dataframe thead th {\n",
       "        text-align: right;\n",
       "    }\n",
       "</style>\n",
       "<table border=\"1\" class=\"dataframe\">\n",
       "  <thead>\n",
       "    <tr style=\"text-align: right;\">\n",
       "      <th></th>\n",
       "      <th>Gene1ID</th>\n",
       "      <th>Gene1Symbol</th>\n",
       "      <th>Gene1SpeciesTaxonID</th>\n",
       "      <th>Gene1SpeciesName</th>\n",
       "      <th>Gene2ID</th>\n",
       "      <th>Gene2Symbol</th>\n",
       "      <th>Gene2SpeciesTaxonID</th>\n",
       "      <th>Gene2SpeciesName</th>\n",
       "      <th>Algorithms</th>\n",
       "      <th>AlgorithmsMatch</th>\n",
       "      <th>OutOfAlgorithms</th>\n",
       "      <th>IsBestScore</th>\n",
       "      <th>IsBestRevScore</th>\n",
       "    </tr>\n",
       "  </thead>\n",
       "  <tbody>\n",
       "    <tr>\n",
       "      <th>0</th>\n",
       "      <td>WB:WBGene00011502</td>\n",
       "      <td>vps-53</td>\n",
       "      <td>NCBITaxon:6239</td>\n",
       "      <td>Caenorhabditis elegans</td>\n",
       "      <td>SGD:S000003566</td>\n",
       "      <td>VPS53</td>\n",
       "      <td>NCBITaxon:559292</td>\n",
       "      <td>Saccharomyces cerevisiae</td>\n",
       "      <td>PhylomeDB|OrthoFinder|Hieranoid|OMA|Ensembl Co...</td>\n",
       "      <td>9</td>\n",
       "      <td>10</td>\n",
       "      <td>Yes</td>\n",
       "      <td>Yes</td>\n",
       "    </tr>\n",
       "    <tr>\n",
       "      <th>1</th>\n",
       "      <td>ZFIN:ZDB-GENE-041114-199</td>\n",
       "      <td>vps53</td>\n",
       "      <td>NCBITaxon:7955</td>\n",
       "      <td>Danio rerio</td>\n",
       "      <td>SGD:S000003566</td>\n",
       "      <td>VPS53</td>\n",
       "      <td>NCBITaxon:559292</td>\n",
       "      <td>Saccharomyces cerevisiae</td>\n",
       "      <td>OrthoFinder|Hieranoid|OMA|Ensembl Compara|Roun...</td>\n",
       "      <td>8</td>\n",
       "      <td>10</td>\n",
       "      <td>Yes</td>\n",
       "      <td>Yes</td>\n",
       "    </tr>\n",
       "    <tr>\n",
       "      <th>2</th>\n",
       "      <td>RGD:1311391</td>\n",
       "      <td>Vps53</td>\n",
       "      <td>NCBITaxon:10116</td>\n",
       "      <td>Rattus norvegicus</td>\n",
       "      <td>SGD:S000003566</td>\n",
       "      <td>VPS53</td>\n",
       "      <td>NCBITaxon:559292</td>\n",
       "      <td>Saccharomyces cerevisiae</td>\n",
       "      <td>OrthoFinder|Hieranoid|OMA|Ensembl Compara|InPa...</td>\n",
       "      <td>7</td>\n",
       "      <td>9</td>\n",
       "      <td>Yes</td>\n",
       "      <td>Yes</td>\n",
       "    </tr>\n",
       "    <tr>\n",
       "      <th>3</th>\n",
       "      <td>MGI:1915549</td>\n",
       "      <td>Vps53</td>\n",
       "      <td>NCBITaxon:10090</td>\n",
       "      <td>Mus musculus</td>\n",
       "      <td>SGD:S000003566</td>\n",
       "      <td>VPS53</td>\n",
       "      <td>NCBITaxon:559292</td>\n",
       "      <td>Saccharomyces cerevisiae</td>\n",
       "      <td>PhylomeDB|OrthoFinder|Hieranoid|OMA|Ensembl Co...</td>\n",
       "      <td>9</td>\n",
       "      <td>10</td>\n",
       "      <td>Yes</td>\n",
       "      <td>Yes</td>\n",
       "    </tr>\n",
       "    <tr>\n",
       "      <th>4</th>\n",
       "      <td>HGNC:25608</td>\n",
       "      <td>VPS53</td>\n",
       "      <td>NCBITaxon:9606</td>\n",
       "      <td>Homo sapiens</td>\n",
       "      <td>SGD:S000003566</td>\n",
       "      <td>VPS53</td>\n",
       "      <td>NCBITaxon:559292</td>\n",
       "      <td>Saccharomyces cerevisiae</td>\n",
       "      <td>PhylomeDB|OrthoFinder|Hieranoid|OMA|Ensembl Co...</td>\n",
       "      <td>9</td>\n",
       "      <td>10</td>\n",
       "      <td>Yes</td>\n",
       "      <td>Yes</td>\n",
       "    </tr>\n",
       "  </tbody>\n",
       "</table>\n",
       "</div>"
      ],
      "text/plain": [
       "                    Gene1ID Gene1Symbol Gene1SpeciesTaxonID  \\\n",
       "0         WB:WBGene00011502      vps-53      NCBITaxon:6239   \n",
       "1  ZFIN:ZDB-GENE-041114-199       vps53      NCBITaxon:7955   \n",
       "2               RGD:1311391       Vps53     NCBITaxon:10116   \n",
       "3               MGI:1915549       Vps53     NCBITaxon:10090   \n",
       "4                HGNC:25608       VPS53      NCBITaxon:9606   \n",
       "\n",
       "         Gene1SpeciesName         Gene2ID Gene2Symbol Gene2SpeciesTaxonID  \\\n",
       "0  Caenorhabditis elegans  SGD:S000003566       VPS53    NCBITaxon:559292   \n",
       "1             Danio rerio  SGD:S000003566       VPS53    NCBITaxon:559292   \n",
       "2       Rattus norvegicus  SGD:S000003566       VPS53    NCBITaxon:559292   \n",
       "3            Mus musculus  SGD:S000003566       VPS53    NCBITaxon:559292   \n",
       "4            Homo sapiens  SGD:S000003566       VPS53    NCBITaxon:559292   \n",
       "\n",
       "           Gene2SpeciesName  \\\n",
       "0  Saccharomyces cerevisiae   \n",
       "1  Saccharomyces cerevisiae   \n",
       "2  Saccharomyces cerevisiae   \n",
       "3  Saccharomyces cerevisiae   \n",
       "4  Saccharomyces cerevisiae   \n",
       "\n",
       "                                          Algorithms  AlgorithmsMatch  \\\n",
       "0  PhylomeDB|OrthoFinder|Hieranoid|OMA|Ensembl Co...                9   \n",
       "1  OrthoFinder|Hieranoid|OMA|Ensembl Compara|Roun...                8   \n",
       "2  OrthoFinder|Hieranoid|OMA|Ensembl Compara|InPa...                7   \n",
       "3  PhylomeDB|OrthoFinder|Hieranoid|OMA|Ensembl Co...                9   \n",
       "4  PhylomeDB|OrthoFinder|Hieranoid|OMA|Ensembl Co...                9   \n",
       "\n",
       "   OutOfAlgorithms IsBestScore IsBestRevScore  \n",
       "0               10         Yes            Yes  \n",
       "1               10         Yes            Yes  \n",
       "2                9         Yes            Yes  \n",
       "3               10         Yes            Yes  \n",
       "4               10         Yes            Yes  "
      ]
     },
     "metadata": {},
     "execution_count": 16
    }
   ],
   "metadata": {}
  },
  {
   "cell_type": "code",
   "execution_count": 17,
   "source": [
    "orthoAGR.info()"
   ],
   "outputs": [
    {
     "output_type": "stream",
     "name": "stdout",
     "text": [
      "<class 'pandas.core.frame.DataFrame'>\n",
      "RangeIndex: 558386 entries, 0 to 558385\n",
      "Data columns (total 13 columns):\n",
      " #   Column               Non-Null Count   Dtype \n",
      "---  ------               --------------   ----- \n",
      " 0   Gene1ID              558386 non-null  object\n",
      " 1   Gene1Symbol          558361 non-null  object\n",
      " 2   Gene1SpeciesTaxonID  558386 non-null  object\n",
      " 3   Gene1SpeciesName     558386 non-null  object\n",
      " 4   Gene2ID              558386 non-null  object\n",
      " 5   Gene2Symbol          558361 non-null  object\n",
      " 6   Gene2SpeciesTaxonID  558386 non-null  object\n",
      " 7   Gene2SpeciesName     558386 non-null  object\n",
      " 8   Algorithms           558386 non-null  object\n",
      " 9   AlgorithmsMatch      558386 non-null  int64 \n",
      " 10  OutOfAlgorithms      558386 non-null  int64 \n",
      " 11  IsBestScore          558386 non-null  object\n",
      " 12  IsBestRevScore       558386 non-null  object\n",
      "dtypes: int64(2), object(11)\n",
      "memory usage: 55.4+ MB\n"
     ]
    }
   ],
   "metadata": {}
  },
  {
   "cell_type": "code",
   "execution_count": 33,
   "source": [
    "# view first record\r\n",
    "data_ortho_agr[0]"
   ],
   "outputs": [
    {
     "output_type": "execute_result",
     "data": {
      "text/plain": [
       "{'Gene1ID': 'WB:WBGene00011502',\n",
       " 'Gene1Symbol': 'vps-53',\n",
       " 'Gene1SpeciesTaxonID': 'NCBITaxon:6239',\n",
       " 'Gene1SpeciesName': 'Caenorhabditis elegans',\n",
       " 'Gene2ID': 'SGD:S000003566',\n",
       " 'Gene2Symbol': 'VPS53',\n",
       " 'Gene2SpeciesTaxonID': 'NCBITaxon:559292',\n",
       " 'Gene2SpeciesName': 'Saccharomyces cerevisiae',\n",
       " 'Algorithms': 'PhylomeDB|OrthoFinder|Hieranoid|OMA|Ensembl Compara|Roundup|InParanoid|PANTHER|OrthoInspector',\n",
       " 'AlgorithmsMatch': 9,\n",
       " 'OutOfAlgorithms': 10,\n",
       " 'IsBestScore': 'Yes',\n",
       " 'IsBestRevScore': 'Yes'}"
      ]
     },
     "metadata": {},
     "execution_count": 33
    }
   ],
   "metadata": {}
  },
  {
   "cell_type": "code",
   "execution_count": 65,
   "source": [
    "# Lets view a chunk of IDs to see the formatting\r\n",
    "orthoAGR['Gene1ID'][:10].to_list()"
   ],
   "outputs": [
    {
     "output_type": "execute_result",
     "data": {
      "text/plain": [
       "['WB:WBGene00011502',\n",
       " 'ZFIN:ZDB-GENE-041114-199',\n",
       " 'RGD:1311391',\n",
       " 'MGI:1915549',\n",
       " 'HGNC:25608',\n",
       " 'FB:FBgn0031598',\n",
       " 'ZFIN:ZDB-GENE-070112-1002',\n",
       " 'RGD:1586427',\n",
       " 'MGI:2444430',\n",
       " 'HGNC:19743']"
      ]
     },
     "metadata": {},
     "execution_count": 65
    }
   ],
   "metadata": {}
  },
  {
   "cell_type": "code",
   "execution_count": 75,
   "source": [
    "#len(orthoAGR[\"Gene1ID\"].value_counts().to_list())\r\n",
    "#len(orthoAGR[\"Gene1ID\"].unique())\r\n",
    "orthoAGR[\"Gene1ID\"].value_counts()#.to_list()\r\n"
   ],
   "outputs": [
    {
     "output_type": "execute_result",
     "data": {
      "text/plain": [
       "ZFIN:ZDB-GENE-990415-190    356\n",
       "ZFIN:ZDB-GENE-050510-2      245\n",
       "WB:WBGene00021931           206\n",
       "ZFIN:ZDB-GENE-070806-57     173\n",
       "ZFIN:ZDB-GENE-070806-56     173\n",
       "                           ... \n",
       "RGD:2325594                   1\n",
       "MGI:3619266                   1\n",
       "MGI:2676900                   1\n",
       "RGD:2325337                   1\n",
       "SGD:S000004300                1\n",
       "Name: Gene1ID, Length: 100430, dtype: int64"
      ]
     },
     "metadata": {},
     "execution_count": 75
    }
   ],
   "metadata": {}
  },
  {
   "cell_type": "code",
   "execution_count": 10,
   "source": [
    "orthoAGR['Gene2ID'][:10].to_list()"
   ],
   "outputs": [
    {
     "output_type": "execute_result",
     "data": {
      "text/plain": [
       "['SGD:S000003566',\n",
       " 'SGD:S000003566',\n",
       " 'SGD:S000003566',\n",
       " 'SGD:S000003566',\n",
       " 'SGD:S000003566',\n",
       " 'SGD:S000003566',\n",
       " 'SGD:S000000021',\n",
       " 'SGD:S000000021',\n",
       " 'SGD:S000000021',\n",
       " 'SGD:S000000021']"
      ]
     },
     "metadata": {},
     "execution_count": 10
    }
   ],
   "metadata": {}
  },
  {
   "cell_type": "markdown",
   "source": [
    "### Parse Data\r\n",
    "Now that we have loaded the data and correctly formatted it into records, we can loop through the new dictionary and access our data.  \r\n",
    "\r\n",
    "The id variables are using a \"compact uri\" , or [curie](https://en.wikipedia.org/wiki/CURIE).  \r\n",
    "*\"The left part is called the \"prefix\".  I think the prefixes should be stripped to match what's in mygene.info.  but you should probably do some spotchecking of other prefixes just to be sure.\"*"
   ],
   "metadata": {}
  },
  {
   "cell_type": "code",
   "execution_count": 34,
   "source": [
    "\r\n",
    "# Build Parser \r\n",
    "def load_orthology(data, data_list):\r\n",
    "    results = {}\r\n",
    "\r\n",
    "    for rec in data_ortho_agr[:4]:\r\n",
    "        orig_id1= rec[\"Gene1ID\"].split(':')\r\n",
    "        id1_tag2=orig_id1[1]\r\n",
    "        _id = id1_tag2\r\n",
    "        rec = dict_convert(rec,keyfn=process_key)\r\n",
    "        # remove NaN values, not indexable\r\n",
    "        rec = dict_sweep(rec,vals=[np.nan])\r\n",
    "        results.setdefault(_id,[]).append(rec)\r\n",
    "        #print(rec)\r\n",
    "    for _id,docs in results.items():\r\n",
    "        doc = {\"_id\": _id, \"orthology_data\" : docs}\r\n",
    "        yield doc\r\n",
    "    \r\n",
    "    #return results;"
   ],
   "outputs": [],
   "metadata": {}
  },
  {
   "cell_type": "code",
   "execution_count": 35,
   "source": [
    "def load_testcase():\r\n",
    "    results=load_orthology(orthoAGR, data_ortho_agr)\r\n",
    "    #print(results)\r\n",
    "    print(next(results))\r\n",
    "load_testcase()"
   ],
   "outputs": [
    {
     "output_type": "stream",
     "name": "stdout",
     "text": [
      "{'_id': 'WBGene00011502', 'orthology_data': [{'gene1id': 'WB:WBGene00011502', 'gene1symbol': 'vps-53', 'gene1speciestaxonid': 'NCBITaxon:6239', 'gene1speciesname': 'Caenorhabditis elegans', 'gene2id': 'SGD:S000003566', 'gene2symbol': 'VPS53', 'gene2speciestaxonid': 'NCBITaxon:559292', 'gene2speciesname': 'Saccharomyces cerevisiae', 'algorithms': 'PhylomeDB|OrthoFinder|Hieranoid|OMA|Ensembl Compara|Roundup|InParanoid|PANTHER|OrthoInspector', 'algorithmsmatch': 9, 'outofalgorithms': 10, 'isbestscore': 'Yes', 'isbestrevscore': 'Yes'}]}\n"
     ]
    }
   ],
   "metadata": {}
  },
  {
   "cell_type": "markdown",
   "source": [
    "### Testing the API"
   ],
   "metadata": {}
  },
  {
   "cell_type": "code",
   "execution_count": 77,
   "source": [
    "!curl localhost:8000/metadata "
   ],
   "outputs": [
    {
     "output_type": "stream",
     "name": "stdout",
     "text": [
      "{\"biothing_type\": \"gene\", \"build_date\": \"2021-09-15T16:11:48.091144\", \"build_version\": \"20210915\", \"src\": {\"orthologyAGR\": {\"stats\": {\"orthologyAGR\": 99452}, \"version\": \"2021-09\"}}, \"stats\": {\"total\": 99452}}\n"
     ]
    },
    {
     "output_type": "stream",
     "name": "stderr",
     "text": [
      "  % Total    % Received % Xferd  Average Speed   Time    Time     Time  Current\n",
      "                                 Dload  Upload   Total   Spent    Left  Speed\n",
      "\n",
      "  0     0    0     0    0     0      0      0 --:--:-- --:--:-- --:--:--     0\n",
      "100   208  100   208    0     0    208      0  0:00:01 --:--:--  0:00:01  4425\n"
     ]
    }
   ],
   "metadata": {}
  },
  {
   "cell_type": "code",
   "execution_count": 24,
   "source": [
    "import requests"
   ],
   "outputs": [],
   "metadata": {}
  },
  {
   "cell_type": "code",
   "execution_count": 25,
   "source": [
    "r=requests.get(\"http://localhost:8000/metadata\")\r\n",
    "print(r.content)"
   ],
   "outputs": [
    {
     "output_type": "stream",
     "name": "stdout",
     "text": [
      "b'{\"biothing_type\": \"gene\", \"build_date\": \"2021-09-15T16:11:48.091144\", \"build_version\": \"20210915\", \"src\": {\"orthologyAGR\": {\"stats\": {\"orthologyAGR\": 99452}, \"version\": \"2021-09\"}}, \"stats\": {\"total\": 99452}}'\n"
     ]
    }
   ],
   "metadata": {}
  },
  {
   "cell_type": "code",
   "execution_count": 27,
   "source": [
    "# method to search Biothings API  \r\n",
    "def test_query(query_input, basecase=True):\r\n",
    "    # run basecase first -- search metadata\r\n",
    "    if basecase==True:\r\n",
    "        query=\"http://localhost:8000/metadata\"\r\n",
    "        r=requests.get(query)\r\n",
    "        print(\"\\n[INFO] metadata query: \\n\", r.content)\r\n",
    "        \r\n",
    "    # run user query\r\n",
    "    query=\"http://localhost:8000/query?q=%s\"%query_input\r\n",
    "    r=requests.get(query)\r\n",
    "    print(\"\\n[INFO] query for %s: \\n\"%query_input, r.content)"
   ],
   "outputs": [],
   "metadata": {}
  },
  {
   "cell_type": "code",
   "execution_count": 39,
   "source": [
    "# Lets view a chunk of IDs to see the formatting\r\n",
    "orthoAGR['Gene1ID'][:30].to_list()"
   ],
   "outputs": [
    {
     "output_type": "execute_result",
     "data": {
      "text/plain": [
       "['WB:WBGene00011502',\n",
       " 'ZFIN:ZDB-GENE-041114-199',\n",
       " 'RGD:1311391',\n",
       " 'MGI:1915549',\n",
       " 'HGNC:25608',\n",
       " 'FB:FBgn0031598',\n",
       " 'ZFIN:ZDB-GENE-070112-1002',\n",
       " 'RGD:1586427',\n",
       " 'MGI:2444430',\n",
       " 'HGNC:19743',\n",
       " 'FB:FBgn0086368',\n",
       " 'WB:WBGene00015055',\n",
       " 'WB:WBGene00012285',\n",
       " 'WB:WBGene00016739',\n",
       " 'WB:WBGene00015054',\n",
       " 'WB:WBGene00017312',\n",
       " 'WB:WBGene00007141',\n",
       " 'ZFIN:ZDB-GENE-030131-260',\n",
       " 'ZFIN:ZDB-GENE-060929-828',\n",
       " 'ZFIN:ZDB-GENE-040426-2217',\n",
       " 'RGD:3699',\n",
       " 'RGD:621079',\n",
       " 'MGI:97851',\n",
       " 'MGI:108392',\n",
       " 'HGNC:10946',\n",
       " 'HGNC:10947',\n",
       " 'FB:FBgn0260795',\n",
       " 'WB:WBGene00013687',\n",
       " 'RGD:620245',\n",
       " 'MGI:2142527']"
      ]
     },
     "metadata": {},
     "execution_count": 39
    }
   ],
   "metadata": {}
  },
  {
   "cell_type": "code",
   "execution_count": 43,
   "source": [
    "#\"ZDB-GENE-041114-199\", \"1311391\", \"WBGene00011502\", \"FBgn0260795\"\r\n",
    "test_query(\"FB*\", basecase=False)\r\n"
   ],
   "outputs": [
    {
     "output_type": "stream",
     "name": "stdout",
     "text": [
      "\n",
      "[INFO] query for FB*: \n",
      " b'{\"took\": 5, \"total\": 9331, \"max_score\": 1.0, \"hits\": [{\"_id\": \"FBgn0000257\", \"_score\": 1.0, \"ortholog_info\": [{\"algorithms\": \"PhylomeDB|OrthoFinder|Hieranoid|Roundup|InParanoid|PANTHER|OrthoInspector\", \"algorithmsmatch\": 7, \"gene1id\": \"FB:FBgn0000257\", \"gene1speciesname\": \"Drosophila melanogaster\", \"gene1speciestaxonid\": \"NCBITaxon:7227\", \"gene1symbol\": \"car\", \"gene2id\": \"SGD:S000004388\", \"gene2speciesname\": \"Saccharomyces cerevisiae\", \"gene2speciestaxonid\": \"NCBITaxon:559292\", \"gene2symbol\": \"VPS33\", \"isbestrevscore\": \"Yes\", \"isbestscore\": \"Yes\", \"outofalgorithms\": 10}, {\"algorithms\": \"PhylomeDB|OrthoFinder|Hieranoid|OMA|Ensembl Compara|Roundup|InParanoid|PANTHER|TreeFam|OrthoInspector\", \"algorithmsmatch\": 10, \"gene1id\": \"FB:FBgn0000257\", \"gene1speciesname\": \"Drosophila melanogaster\", \"gene1speciestaxonid\": \"NCBITaxon:7227\", \"gene1symbol\": \"car\", \"gene2id\": \"ZFIN:ZDB-GENE-040914-82\", \"gene2speciesname\": \"Danio rerio\", \"gene2speciestaxonid\": \"NCBITaxon:7955\", \"gene2symbol\": \"vps33a\", \"isbestrevscore\": \"Yes\", \"isbestscore\": \"Yes\", \"outofalgorithms\": 11}, {\"algorithms\": \"PhylomeDB|OrthoFinder|Hieranoid|InParanoid|PANTHER|OrthoInspector\", \"algorithmsmatch\": 6, \"gene1id\": \"FB:FBgn0000257\", \"gene1speciesname\": \"Drosophila melanogaster\", \"gene1speciestaxonid\": \"NCBITaxon:7227\", \"gene1symbol\": \"car\", \"gene2id\": \"RGD:620643\", \"gene2speciesname\": \"Rattus norvegicus\", \"gene2speciestaxonid\": \"NCBITaxon:10116\", \"gene2symbol\": \"Vps33a\", \"isbestrevscore\": \"Yes\", \"isbestscore\": \"Yes\", \"outofalgorithms\": 9}, {\"algorithms\": \"PhylomeDB|OrthoFinder|Hieranoid|OMA|Ensembl Compara|Roundup|InParanoid|PANTHER|TreeFam|OrthoInspector\", \"algorithmsmatch\": 10, \"gene1id\": \"FB:FBgn0000257\", \"gene1speciesname\": \"Drosophila melanogaster\", \"gene1speciestaxonid\": \"NCBITaxon:7227\", \"gene1symbol\": \"car\", \"gene2id\": \"HGNC:18179\", \"gene2speciesname\": \"Homo sapiens\", \"gene2speciestaxonid\": \"NCBITaxon:9606\", \"gene2symbol\": \"VPS33A\", \"isbestrevscore\": \"Yes\", \"isbestscore\": \"Yes\", \"outofalgorithms\": 10}, {\"algorithms\": \"Hieranoid|OMA|Ensembl Compara|Roundup|PANTHER\", \"algorithmsmatch\": 5, \"gene1id\": \"FB:FBgn0000257\", \"gene1speciesname\": \"Drosophila melanogaster\", \"gene1speciestaxonid\": \"NCBITaxon:7227\", \"gene1symbol\": \"car\", \"gene2id\": \"WB:WBGene00015130\", \"gene2speciesname\": \"Caenorhabditis elegans\", \"gene2speciestaxonid\": \"NCBITaxon:6239\", \"gene2symbol\": \"vps-33.1\", \"isbestrevscore\": \"Yes\", \"isbestscore\": \"Yes\", \"outofalgorithms\": 10}, {\"algorithms\": \"PhylomeDB|OrthoFinder|Hieranoid|OMA|Ensembl Compara|Roundup|InParanoid|PANTHER|TreeFam|OrthoInspector\", \"algorithmsmatch\": 10, \"gene1id\": \"FB:FBgn0000257\", \"gene1speciesname\": \"Drosophila melanogaster\", \"gene1speciestaxonid\": \"NCBITaxon:7227\", \"gene1symbol\": \"car\", \"gene2id\": \"MGI:1924823\", \"gene2speciesname\": \"Mus musculus\", \"gene2speciestaxonid\": \"NCBITaxon:10090\", \"gene2symbol\": \"Vps33a\", \"isbestrevscore\": \"Yes\", \"isbestscore\": \"Yes\", \"outofalgorithms\": 10}]}, {\"_id\": \"FBgn0000557\", \"_score\": 1.0, \"ortholog_info\": [{\"algorithms\": \"PhylomeDB|OrthoFinder|Hieranoid|OMA|Ensembl Compara|InParanoid|PANTHER|TreeFam|OrthoInspector\", \"algorithmsmatch\": 9, \"gene1id\": \"FB:FBgn0000557\", \"gene1speciesname\": \"Drosophila melanogaster\", \"gene1speciestaxonid\": \"NCBITaxon:7227\", \"gene1symbol\": \"eEF1\\\\u03b12\", \"gene2id\": \"SGD:S000006284\", \"gene2speciesname\": \"Saccharomyces cerevisiae\", \"gene2speciestaxonid\": \"NCBITaxon:559292\", \"gene2symbol\": \"TEF1\", \"isbestrevscore\": \"No\", \"isbestscore\": \"Yes\", \"outofalgorithms\": 10}, {\"algorithms\": \"PhylomeDB|OrthoFinder|Hieranoid|OMA|InParanoid|TreeFam|OrthoInspector\", \"algorithmsmatch\": 7, \"gene1id\": \"FB:FBgn0000557\", \"gene1speciesname\": \"Drosophila melanogaster\", \"gene1speciestaxonid\": \"NCBITaxon:7227\", \"gene1symbol\": \"eEF1\\\\u03b12\", \"gene2id\": \"ZFIN:ZDB-GENE-030131-8278\", \"gene2speciesname\": \"Danio rerio\", \"gene2speciestaxonid\": \"NCBITaxon:7955\", \"gene2symbol\": \"eef1a1a\", \"isbestrevscore\": \"No\", \"isbestscore\": \"Yes\", \"outofalgorithms\": 11}, {\"algorithms\": \"PhylomeDB|OrthoFinder|Hieranoid|OMA|InParanoid|TreeFam|OrthoInspector\", \"algorithmsmatch\": 7, \"gene1id\": \"FB:FBgn0000557\", \"gene1speciesname\": \"Drosophila melanogaster\", \"gene1speciestaxonid\": \"NCBITaxon:7227\", \"gene1symbol\": \"eEF1\\\\u03b12\", \"gene2id\": \"ZFIN:ZDB-GENE-040718-64\", \"gene2speciesname\": \"Danio rerio\", \"gene2speciestaxonid\": \"NCBITaxon:7955\", \"gene2symbol\": \"eef1a2\", \"isbestrevscore\": \"No\", \"isbestscore\": \"Yes\", \"outofalgorithms\": 11}, {\"algorithms\": \"PhylomeDB|OrthoFinder|Hieranoid|OMA|InParanoid|OrthoInspector\", \"algorithmsmatch\": 6, \"gene1id\": \"FB:FBgn0000557\", \"gene1speciesname\": \"Drosophila melanogaster\", \"gene1speciestaxonid\": \"NCBITaxon:7227\", \"gene1symbol\": \"eEF1\\\\u03b12\", \"gene2id\": \"RGD:67387\", \"gene2speciesname\": \"Rattus norvegicus\", \"gene2speciestaxonid\": \"NCBITaxon:10116\", \"gene2symbol\": \"Eef1a1\", \"isbestrevscore\": \"Yes\", \"isbestscore\": \"No\", \"outofalgorithms\": 9}, {\"algorithms\": \"PhylomeDB|OrthoFinder|Hieranoid|OMA|InParanoid|TreeFam|OrthoInspector\", \"algorithmsmatch\": 7, \"gene1id\": \"FB:FBgn0000557\", \"gene1speciesname\": \"Drosophila melanogaster\", \"gene1speciestaxonid\": \"NCBITaxon:7227\", \"gene1symbol\": \"eEF1\\\\u03b12\", \"gene2id\": \"RGD:3781\", \"gene2speciesname\": \"Rattus norvegicus\", \"gene2speciestaxonid\": \"NCBITaxon:10116\", \"gene2symbol\": \"Eef1a2\", \"isbestrevscore\": \"Yes\", \"isbestscore\": \"Yes\", \"outofalgorithms\": 9}, {\"algorithms\": \"PhylomeDB|OrthoFinder|Hieranoid|OMA|InParanoid|TreeFam|OrthoInspector\", \"algorithmsmatch\": 7, \"gene1id\": \"FB:FBgn0000557\", \"gene1speciesname\": \"Drosophila melanogaster\", \"gene1speciestaxonid\": \"NCBITaxon:7227\", \"gene1symbol\": \"eEF1\\\\u03b12\", \"gene2id\": \"HGNC:3192\", \"gene2speciesname\": \"Homo sapiens\", \"gene2speciestaxonid\": \"NCBITaxon:9606\", \"gene2symbol\": \"EEF1A2\", \"isbestrevscore\": \"No\", \"isbestscore\": \"Yes\", \"outofalgorithms\": 10}, {\"algorithms\": \"PhylomeDB|OrthoFinder|Hieranoid|OMA|Ensembl Compara|InParanoid|PANTHER|OrthoInspector\", \"algorithmsmatch\": 8, \"gene1id\": \"FB:FBgn0000557\", \"gene1speciesname\": \"Drosophila melanogaster\", \"gene1speciestaxonid\": \"NCBITaxon:7227\", \"gene1symbol\": \"eEF1\\\\u03b12\", \"gene2id\": \"WB:WBGene00001169\", \"gene2speciesname\": \"Caenorhabditis elegans\", \"gene2speciestaxonid\": \"NCBITaxon:6239\", \"gene2symbol\": \"eef-1A.2\", \"isbestrevscore\": \"No\", \"isbestscore\": \"Yes\", \"outofalgorithms\": 10}, {\"algorithms\": \"OrthoFinder|Hieranoid|OMA|InParanoid|TreeFam|OrthoInspector\", \"algorithmsmatch\": 6, \"gene1id\": \"FB:FBgn0000557\", \"gene1speciesname\": \"Drosophila melanogaster\", \"gene1speciestaxonid\": \"NCBITaxon:7227\", \"gene1symbol\": \"eEF1\\\\u03b12\", \"gene2id\": \"MGI:1096317\", \"gene2speciesname\": \"Mus musculus\", \"gene2speciestaxonid\": \"NCBITaxon:10090\", \"gene2symbol\": \"Eef1a2\", \"isbestrevscore\": \"No\", \"isbestscore\": \"Yes\", \"outofalgorithms\": 10}, {\"algorithms\": \"PhylomeDB|OrthoFinder|Hieranoid|OMA|InParanoid|OrthoInspector\", \"algorithmsmatch\": 6, \"gene1id\": \"FB:FBgn0000557\", \"gene1speciesname\": \"Drosophila melanogaster\", \"gene1speciestaxonid\": \"NCBITaxon:7227\", \"gene1symbol\": \"eEF1\\\\u03b12\", \"gene2id\": \"MGI:1096881\", \"gene2speciesname\": \"Mus musculus\", \"gene2speciestaxonid\": \"NCBITaxon:10090\", \"gene2symbol\": \"Eef1a1\", \"isbestrevscore\": \"No\", \"isbestscore\": \"Yes\", \"outofalgorithms\": 10}]}, {\"_id\": \"FBgn0001124\", \"_score\": 1.0, \"ortholog_info\": [{\"algorithms\": \"OrthoFinder|Hieranoid|OMA|Roundup|InParanoid|PANTHER|TreeFam|OrthoInspector\", \"algorithmsmatch\": 8, \"gene1id\": \"FB:FBgn0001124\", \"gene1speciesname\": \"Drosophila melanogaster\", \"gene1speciestaxonid\": \"NCBITaxon:7227\", \"gene1symbol\": \"Got1\", \"gene2id\": \"SGD:S000004017\", \"gene2speciesname\": \"Saccharomyces cerevisiae\", \"gene2speciestaxonid\": \"NCBITaxon:559292\", \"gene2symbol\": \"AAT2\", \"isbestrevscore\": \"Yes\", \"isbestscore\": \"Yes\", \"outofalgorithms\": 10}, {\"algorithms\": \"OrthoFinder|Hieranoid|OMA|Ensembl Compara|InParanoid|PANTHER|TreeFam|OrthoInspector\", \"algorithmsmatch\": 8, \"gene1id\": \"FB:FBgn0001124\", \"gene1speciesname\": \"Drosophila melanogaster\", \"gene1speciestaxonid\": \"NCBITaxon:7227\", \"gene1symbol\": \"Got1\", \"gene2id\": \"ZFIN:ZDB-GENE-040426-2003\", \"gene2speciesname\": \"Danio rerio\", \"gene2speciestaxonid\": \"NCBITaxon:7955\", \"gene2symbol\": \"got1\", \"isbestrevscore\": \"Yes\", \"isbestscore\": \"Yes\", \"outofalgorithms\": 11}, {\"algorithms\": \"Ensembl Compara|PANTHER|TreeFam|OrthoFinder\", \"algorithmsmatch\": 4, \"gene1id\": \"FB:FBgn0001124\", \"gene1speciesname\": \"Drosophila melanogaster\", \"gene1speciestaxonid\": \"NCBITaxon:7227\", \"gene1symbol\": \"Got1\", \"gene2id\": \"ZFIN:ZDB-GENE-060929-556\", \"gene2speciesname\": \"Danio rerio\", \"gene2speciestaxonid\": \"NCBITaxon:7955\", \"gene2symbol\": \"got1l1\", \"isbestrevscore\": \"Yes\", \"isbestscore\": \"No\", \"outofalgorithms\": 11}, {\"algorithms\": \"OrthoFinder|Hieranoid|OMA|Ensembl Compara|InParanoid|PANTHER|TreeFam|OrthoInspector\", \"algorithmsmatch\": 8, \"gene1id\": \"FB:FBgn0001124\", \"gene1speciesname\": \"Drosophila melanogaster\", \"gene1speciestaxonid\": \"NCBITaxon:7227\", \"gene1symbol\": \"Got1\", \"gene2id\": \"RGD:2721\", \"gene2speciesname\": \"Rattus norvegicus\", \"gene2speciestaxonid\": \"NCBITaxon:10116\", \"gene2symbol\": \"Got1\", \"isbestrevscore\": \"Yes\", \"isbestscore\": \"Yes\", \"outofalgorithms\": 9}, {\"algorithms\": \"Ensembl Compara|PANTHER|TreeFam|OrthoFinder\", \"algorithmsmatch\": 4, \"gene1id\": \"FB:FBgn0001124\", \"gene1speciesname\": \"Drosophila melanogaster\", \"gene1speciestaxonid\": \"NCBITaxon:7227\", \"gene1symbol\": \"Got1\", \"gene2id\": \"RGD:1307172\", \"gene2speciesname\": \"Rattus norvegicus\", \"gene2speciestaxonid\": \"NCBITaxon:10116\", \"gene2symbol\": \"Got1l1\", \"isbestrevscore\": \"Yes\", \"isbestscore\": \"No\", \"outofalgorithms\": 9}, {\"algorithms\": \"OrthoFinder|Hieranoid|OMA|Ensembl Compara|Roundup|InParanoid|PANTHER|TreeFam|OrthoInspector\", \"algorithmsmatch\": 9, \"gene1id\": \"FB:FBgn0001124\", \"gene1speciesname\": \"Drosophila melanogaster\", \"gene1speciestaxonid\": \"NCBITaxon:7227\", \"gene1symbol\": \"Got1\", \"gene2id\": \"HGNC:4432\", \"gene2speciesname\": \"Homo sapiens\", \"gene2speciestaxonid\": \"NCBITaxon:9606\", \"gene2symbol\": \"GOT1\", \"isbestrevscore\": \"Yes\", \"isbestscore\": \"Yes\", \"outofalgorithms\": 10}, {\"algorithms\": \"Ensembl Compara|PANTHER|TreeFam|OrthoFinder\", \"algorithmsmatch\": 4, \"gene1id\": \"FB:FBgn0001124\", \"gene1speciesname\": \"Drosophila melanogaster\", \"gene1speciestaxonid\": \"NCBITaxon:7227\", \"gene1symbol\": \"Got1\", \"gene2id\": \"HGNC:28487\", \"gene2speciesname\": \"Homo sapiens\", \"gene2speciestaxonid\": \"NCBITaxon:9606\", \"gene2symbol\": \"GOT1L1\", \"isbestrevscore\": \"Yes\", \"isbestscore\": \"No\", \"outofalgorithms\": 10}, {\"algorithms\": \"OrthoFinder|Hieranoid|OMA|Ensembl Compara|Roundup|InParanoid|PANTHER|OrthoInspector\", \"algorithmsmatch\": 8, \"gene1id\": \"FB:FBgn0001124\", \"gene1speciesname\": \"Drosophila melanogaster\", \"gene1speciestaxonid\": \"NCBITaxon:7227\", \"gene1symbol\": \"Got1\", \"gene2id\": \"WB:WBGene00020146\", \"gene2speciesname\": \"Caenorhabditis elegans\", \"gene2speciestaxonid\": \"NCBITaxon:6239\", \"gene2symbol\": \"got-1.2\", \"isbestrevscore\": \"Yes\", \"isbestscore\": \"Yes\", \"outofalgorithms\": 10}, {\"algorithms\": \"Ensembl Compara|PANTHER|TreeFam|OrthoFinder\", \"algorithmsmatch\": 4, \"gene1id\": \"FB:FBgn0001124\", \"gene1speciesname\": \"Drosophila melanogaster\", \"gene1speciestaxonid\": \"NCBITaxon:7227\", \"gene1symbol\": \"Got1\", \"gene2id\": \"MGI:1923865\", \"gene2speciesname\": \"Mus musculus\", \"gene2speciestaxonid\": \"NCBITaxon:10090\", \"gene2symbol\": \"Got1l1\", \"isbestrevscore\": \"Yes\", \"isbestscore\": \"No\", \"outofalgorithms\": 10}, {\"algorithms\": \"OrthoFinder|Hieranoid|OMA|Ensembl Compara|Roundup|InParanoid|PANTHER|TreeFam|OrthoInspector\", \"algorithmsmatch\": 9, \"gene1id\": \"FB:FBgn0001124\", \"gene1speciesname\": \"Drosophila melanogaster\", \"gene1speciestaxonid\": \"NCBITaxon:7227\", \"gene1symbol\": \"Got1\", \"gene2id\": \"MGI:95791\", \"gene2speciesname\": \"Mus musculus\", \"gene2speciestaxonid\": \"NCBITaxon:10090\", \"gene2symbol\": \"Got1\", \"isbestrevscore\": \"Yes\", \"isbestscore\": \"Yes\", \"outofalgorithms\": 10}]}, {\"_id\": \"FBgn0001330\", \"_score\": 1.0, \"ortholog_info\": [{\"algorithms\": \"PhylomeDB|OrthoFinder|Hieranoid|Ensembl Compara|Roundup|InParanoid|PANTHER|TreeFam|OrthoInspector\", \"algorithmsmatch\": 9, \"gene1id\": \"FB:FBgn0001330\", \"gene1speciesname\": \"Drosophila melanogaster\", \"gene1speciestaxonid\": \"NCBITaxon:7227\", \"gene1symbol\": \"kz\", \"gene2id\": \"SGD:S000004735\", \"gene2speciesname\": \"Saccharomyces cerevisiae\", \"gene2speciestaxonid\": \"NCBITaxon:559292\", \"gene2symbol\": \"ECM16\", \"isbestrevscore\": \"Yes\", \"isbestscore\": \"Yes\", \"outofalgorithms\": 10}, {\"algorithms\": \"PhylomeDB|OMA|Ensembl Compara|Roundup|TreeFam\", \"algorithmsmatch\": 5, \"gene1id\": \"FB:FBgn0001330\", \"gene1speciesname\": \"Drosophila melanogaster\", \"gene1speciestaxonid\": \"NCBITaxon:7227\", \"gene1symbol\": \"kz\", \"gene2id\": \"ZFIN:ZDB-GENE-030131-4505\", \"gene2speciesname\": \"Danio rerio\", \"gene2speciestaxonid\": \"NCBITaxon:7955\", \"gene2symbol\": \"dhx37\", \"isbestrevscore\": \"Yes\", \"isbestscore\": \"Yes\", \"outofalgorithms\": 11}, {\"algorithms\": \"PhylomeDB|OrthoFinder|Hieranoid|OMA|Ensembl Compara|InParanoid|PANTHER|TreeFam|OrthoInspector\", \"algorithmsmatch\": 9, \"gene1id\": \"FB:FBgn0001330\", \"gene1speciesname\": \"Drosophila melanogaster\", \"gene1speciestaxonid\": \"NCBITaxon:7227\", \"gene1symbol\": \"kz\", \"gene2id\": \"RGD:1306837\", \"gene2speciesname\": \"Rattus norvegicus\", \"gene2speciestaxonid\": \"NCBITaxon:10116\", \"gene2symbol\": \"Dhx37\", \"isbestrevscore\": \"Yes\", \"isbestscore\": \"Yes\", \"outofalgorithms\": 9}, {\"algorithms\": \"PhylomeDB|OrthoFinder|Hieranoid|OMA|Ensembl Compara|Roundup|InParanoid|PANTHER|TreeFam|OrthoInspector\", \"algorithmsmatch\": 10, \"gene1id\": \"FB:FBgn0001330\", \"gene1speciesname\": \"Drosophila melanogaster\", \"gene1speciestaxonid\": \"NCBITaxon:7227\", \"gene1symbol\": \"kz\", \"gene2id\": \"HGNC:17210\", \"gene2speciesname\": \"Homo sapiens\", \"gene2speciestaxonid\": \"NCBITaxon:9606\", \"gene2symbol\": \"DHX37\", \"isbestrevscore\": \"Yes\", \"isbestscore\": \"Yes\", \"outofalgorithms\": 10}, {\"algorithms\": \"PhylomeDB|OrthoFinder|Hieranoid|OMA|Ensembl Compara|Roundup|InParanoid|PANTHER|TreeFam|OrthoInspector\", \"algorithmsmatch\": 10, \"gene1id\": \"FB:FBgn0001330\", \"gene1speciesname\": \"Drosophila melanogaster\", \"gene1speciestaxonid\": \"NCBITaxon:7227\", \"gene1symbol\": \"kz\", \"gene2id\": \"WB:WBGene00015525\", \"gene2speciesname\": \"Caenorhabditis elegans\", \"gene2speciestaxonid\": \"NCBITaxon:6239\", \"gene2symbol\": \"rha-2\", \"isbestrevscore\": \"Yes\", \"isbestscore\": \"Yes\", \"outofalgorithms\": 10}, {\"algorithms\": \"PhylomeDB|OrthoFinder|Hieranoid|OMA|Ensembl Compara|Roundup|InParanoid|PANTHER|TreeFam|OrthoInspector\", \"algorithmsmatch\": 10, \"gene1id\": \"FB:FBgn0001330\", \"gene1speciesname\": \"Drosophila melanogaster\", \"gene1speciestaxonid\": \"NCBITaxon:7227\", \"gene1symbol\": \"kz\", \"gene2id\": \"MGI:3028576\", \"gene2speciesname\": \"Mus musculus\", \"gene2speciestaxonid\": \"NCBITaxon:10090\", \"gene2symbol\": \"Dhx37\", \"isbestrevscore\": \"Yes\", \"isbestscore\": \"Yes\", \"outofalgorithms\": 10}]}, {\"_id\": \"FBgn0002707\", \"_score\": 1.0, \"ortholog_info\": [{\"algorithms\": \"PhylomeDB|OrthoFinder|Hieranoid|OMA|Ensembl Compara|Roundup|InParanoid|PANTHER|TreeFam|OrthoInspector\", \"algorithmsmatch\": 10, \"gene1id\": \"FB:FBgn0002707\", \"gene1speciesname\": \"Drosophila melanogaster\", \"gene1speciestaxonid\": \"NCBITaxon:7227\", \"gene1symbol\": \"mei-9\", \"gene2id\": \"SGD:S000005943\", \"gene2speciesname\": \"Saccharomyces cerevisiae\", \"gene2speciestaxonid\": \"NCBITaxon:559292\", \"gene2symbol\": \"RAD1\", \"isbestrevscore\": \"Yes\", \"isbestscore\": \"Yes\", \"outofalgorithms\": 10}, {\"algorithms\": \"PhylomeDB|OrthoFinder|Hieranoid|Roundup|InParanoid|PANTHER|TreeFam|OrthoInspector\", \"algorithmsmatch\": 8, \"gene1id\": \"FB:FBgn0002707\", \"gene1speciesname\": \"Drosophila melanogaster\", \"gene1speciestaxonid\": \"NCBITaxon:7227\", \"gene1symbol\": \"mei-9\", \"gene2id\": \"ZFIN:ZDB-GENE-030131-5533\", \"gene2speciesname\": \"Danio rerio\", \"gene2speciestaxonid\": \"NCBITaxon:7955\", \"gene2symbol\": \"ercc4\", \"isbestrevscore\": \"Yes\", \"isbestscore\": \"Yes\", \"outofalgorithms\": 11}, {\"algorithms\": \"PhylomeDB|OrthoFinder|Hieranoid|OMA|Ensembl Compara|InParanoid|PANTHER|TreeFam|OrthoInspector\", \"algorithmsmatch\": 9, \"gene1id\": \"FB:FBgn0002707\", \"gene1speciesname\": \"Drosophila melanogaster\", \"gene1speciestaxonid\": \"NCBITaxon:7227\", \"gene1symbol\": \"mei-9\", \"gene2id\": \"HGNC:3436\", \"gene2speciesname\": \"Homo sapiens\", \"gene2speciestaxonid\": \"NCBITaxon:9606\", \"gene2symbol\": \"ERCC4\", \"isbestrevscore\": \"Yes\", \"isbestscore\": \"Yes\", \"outofalgorithms\": 10}, {\"algorithms\": \"PhylomeDB|OrthoFinder|Hieranoid|OMA|Ensembl Compara|Roundup|InParanoid|PANTHER|TreeFam|OrthoInspector\", \"algorithmsmatch\": 10, \"gene1id\": \"FB:FBgn0002707\", \"gene1speciesname\": \"Drosophila melanogaster\", \"gene1speciestaxonid\": \"NCBITaxon:7227\", \"gene1symbol\": \"mei-9\", \"gene2id\": \"WB:WBGene00008140\", \"gene2speciesname\": \"Caenorhabditis elegans\", \"gene2speciestaxonid\": \"NCBITaxon:6239\", \"gene2symbol\": \"xpf-1\", \"isbestrevscore\": \"Yes\", \"isbestscore\": \"Yes\", \"outofalgorithms\": 10}, {\"algorithms\": \"PhylomeDB|OrthoFinder|Hieranoid|OMA|Ensembl Compara|Roundup|InParanoid|PANTHER|TreeFam|OrthoInspector\", \"algorithmsmatch\": 10, \"gene1id\": \"FB:FBgn0002707\", \"gene1speciesname\": \"Drosophila melanogaster\", \"gene1speciestaxonid\": \"NCBITaxon:7227\", \"gene1symbol\": \"mei-9\", \"gene2id\": \"MGI:1354163\", \"gene2speciesname\": \"Mus musculus\", \"gene2speciestaxonid\": \"NCBITaxon:10090\", \"gene2symbol\": \"Ercc4\", \"isbestrevscore\": \"Yes\", \"isbestscore\": \"Yes\", \"outofalgorithms\": 10}]}, {\"_id\": \"FBgn0002787\", \"_score\": 1.0, \"ortholog_info\": [{\"algorithms\": \"PhylomeDB|OrthoFinder|Hieranoid|OMA|Ensembl Compara|Roundup|InParanoid|PANTHER|OrthoInspector\", \"algorithmsmatch\": 9, \"gene1id\": \"FB:FBgn0002787\", \"gene1speciesname\": \"Drosophila melanogaster\", \"gene1speciestaxonid\": \"NCBITaxon:7227\", \"gene1symbol\": \"Rpn8\", \"gene2id\": \"SGD:S000005787\", \"gene2speciesname\": \"Saccharomyces cerevisiae\", \"gene2speciestaxonid\": \"NCBITaxon:559292\", \"gene2symbol\": \"RPN8\", \"isbestrevscore\": \"Yes\", \"isbestscore\": \"Yes\", \"outofalgorithms\": 10}, {\"algorithms\": \"PhylomeDB|OrthoFinder|Hieranoid|OMA|Ensembl Compara|Roundup|InParanoid|PANTHER|OrthoInspector\", \"algorithmsmatch\": 9, \"gene1id\": \"FB:FBgn0002787\", \"gene1speciesname\": \"Drosophila melanogaster\", \"gene1speciestaxonid\": \"NCBITaxon:7227\", \"gene1symbol\": \"Rpn8\", \"gene2id\": \"ZFIN:ZDB-GENE-030131-5541\", \"gene2speciesname\": \"Danio rerio\", \"gene2speciestaxonid\": \"NCBITaxon:7955\", \"gene2symbol\": \"psmd7\", \"isbestrevscore\": \"Yes\", \"isbestscore\": \"Yes\", \"outofalgorithms\": 11}, {\"algorithms\": \"PhylomeDB|OrthoFinder|Hieranoid|OMA|Ensembl Compara|InParanoid|PANTHER|OrthoInspector\", \"algorithmsmatch\": 8, \"gene1id\": \"FB:FBgn0002787\", \"gene1speciesname\": \"Drosophila melanogaster\", \"gene1speciestaxonid\": \"NCBITaxon:7227\", \"gene1symbol\": \"Rpn8\", \"gene2id\": \"RGD:1306902\", \"gene2speciesname\": \"Rattus norvegicus\", \"gene2speciestaxonid\": \"NCBITaxon:10116\", \"gene2symbol\": \"Psmd7\", \"isbestrevscore\": \"Yes\", \"isbestscore\": \"Yes\", \"outofalgorithms\": 9}, {\"algorithms\": \"PhylomeDB|OrthoFinder|Hieranoid|OMA|Ensembl Compara|Roundup|InParanoid|PANTHER|OrthoInspector\", \"algorithmsmatch\": 9, \"gene1id\": \"FB:FBgn0002787\", \"gene1speciesname\": \"Drosophila melanogaster\", \"gene1speciestaxonid\": \"NCBITaxon:7227\", \"gene1symbol\": \"Rpn8\", \"gene2id\": \"HGNC:9565\", \"gene2speciesname\": \"Homo sapiens\", \"gene2speciestaxonid\": \"NCBITaxon:9606\", \"gene2symbol\": \"PSMD7\", \"isbestrevscore\": \"Yes\", \"isbestscore\": \"Yes\", \"outofalgorithms\": 10}, {\"algorithms\": \"PhylomeDB|OrthoFinder|Hieranoid|OMA|Ensembl Compara|Roundup|InParanoid|PANTHER|OrthoInspector\", \"algorithmsmatch\": 9, \"gene1id\": \"FB:FBgn0002787\", \"gene1speciesname\": \"Drosophila melanogaster\", \"gene1speciestaxonid\": \"NCBITaxon:7227\", \"gene1symbol\": \"Rpn8\", \"gene2id\": \"WB:WBGene00004464\", \"gene2speciesname\": \"Caenorhabditis elegans\", \"gene2speciestaxonid\": \"NCBITaxon:6239\", \"gene2symbol\": \"rpn-8\", \"isbestrevscore\": \"Yes\", \"isbestscore\": \"Yes\", \"outofalgorithms\": 10}, {\"algorithms\": \"PhylomeDB|OrthoFinder|Hieranoid|OMA|Ensembl Compara|Roundup|InParanoid|PANTHER|OrthoInspector\", \"algorithmsmatch\": 9, \"gene1id\": \"FB:FBgn0002787\", \"gene1speciesname\": \"Drosophila melanogaster\", \"gene1speciestaxonid\": \"NCBITaxon:7227\", \"gene1symbol\": \"Rpn8\", \"gene2id\": \"MGI:1351511\", \"gene2speciesname\": \"Mus musculus\", \"gene2speciestaxonid\": \"NCBITaxon:10090\", \"gene2symbol\": \"Psmd7\", \"isbestrevscore\": \"Yes\", \"isbestscore\": \"Yes\", \"outofalgorithms\": 10}]}, {\"_id\": \"FBgn0003321\", \"_score\": 1.0, \"ortholog_info\": [{\"algorithms\": \"PhylomeDB|OrthoFinder|Hieranoid|OMA|Ensembl Compara|Roundup|InParanoid|PANTHER|TreeFam|OrthoInspector\", \"algorithmsmatch\": 10, \"gene1id\": \"FB:FBgn0003321\", \"gene1speciesname\": \"Drosophila melanogaster\", \"gene1speciestaxonid\": \"NCBITaxon:7227\", \"gene1symbol\": \"sbr\", \"gene2id\": \"SGD:S000006090\", \"gene2speciesname\": \"Saccharomyces cerevisiae\", \"gene2speciestaxonid\": \"NCBITaxon:559292\", \"gene2symbol\": \"MEX67\", \"isbestrevscore\": \"Yes\", \"isbestscore\": \"Yes\", \"outofalgorithms\": 10}, {\"algorithms\": \"PhylomeDB|OrthoFinder|Hieranoid|OMA|Ensembl Compara|Roundup|InParanoid|PANTHER|TreeFam|OrthoInspector\", \"algorithmsmatch\": 10, \"gene1id\": \"FB:FBgn0003321\", \"gene1speciesname\": \"Drosophila melanogaster\", \"gene1speciestaxonid\": \"NCBITaxon:7227\", \"gene1symbol\": \"sbr\", \"gene2id\": \"ZFIN:ZDB-GENE-030131-2585\", \"gene2speciesname\": \"Danio rerio\", \"gene2speciestaxonid\": \"NCBITaxon:7955\", \"gene2symbol\": \"nxf1b\", \"isbestrevscore\": \"Yes\", \"isbestscore\": \"Yes\", \"outofalgorithms\": 11}, {\"algorithms\": \"PhylomeDB|OrthoFinder|Hieranoid|Roundup|InParanoid|PANTHER|TreeFam|OrthoInspector\", \"algorithmsmatch\": 8, \"gene1id\": \"FB:FBgn0003321\", \"gene1speciesname\": \"Drosophila melanogaster\", \"gene1speciestaxonid\": \"NCBITaxon:7227\", \"gene1symbol\": \"sbr\", \"gene2id\": \"ZFIN:ZDB-GENE-060825-299\", \"gene2speciesname\": \"Danio rerio\", \"gene2speciestaxonid\": \"NCBITaxon:7955\", \"gene2symbol\": \"nxf1a\", \"isbestrevscore\": \"Yes\", \"isbestscore\": \"No\", \"outofalgorithms\": 11}, {\"algorithms\": \"PhylomeDB|OrthoFinder|Hieranoid|OMA|Ensembl Compara|InParanoid|PANTHER|TreeFam|OrthoInspector\", \"algorithmsmatch\": 9, \"gene1id\": \"FB:FBgn0003321\", \"gene1speciesname\": \"Drosophila melanogaster\", \"gene1speciestaxonid\": \"NCBITaxon:7227\", \"gene1symbol\": \"sbr\", \"gene2id\": \"RGD:62014\", \"gene2speciesname\": \"Rattus norvegicus\", \"gene2speciestaxonid\": \"NCBITaxon:10116\", \"gene2symbol\": \"Nxf1\", \"isbestrevscore\": \"Yes\", \"isbestscore\": \"Yes\", \"outofalgorithms\": 9}, {\"algorithms\": \"PhylomeDB|OrthoFinder|Hieranoid|OMA|Ensembl Compara|InParanoid|PANTHER|TreeFam|OrthoInspector\", \"algorithmsmatch\": 9, \"gene1id\": \"FB:FBgn0003321\", \"gene1speciesname\": \"Drosophila melanogaster\", \"gene1speciestaxonid\": \"NCBITaxon:7227\", \"gene1symbol\": \"sbr\", \"gene2id\": \"RGD:1559530\", \"gene2speciesname\": \"Rattus norvegicus\", \"gene2speciestaxonid\": \"NCBITaxon:10116\", \"gene2symbol\": \"Nxf2\", \"isbestrevscore\": \"Yes\", \"isbestscore\": \"Yes\", \"outofalgorithms\": 9}, {\"algorithms\": \"OrthoFinder|Hieranoid|OMA|Ensembl Compara|InParanoid|PANTHER|TreeFam|OrthoInspector\", \"algorithmsmatch\": 8, \"gene1id\": \"FB:FBgn0003321\", \"gene1speciesname\": \"Drosophila melanogaster\", \"gene1speciestaxonid\": \"NCBITaxon:7227\", \"gene1symbol\": \"sbr\", \"gene2id\": \"RGD:1564923\", \"gene2speciesname\": \"Rattus norvegicus\", \"gene2speciestaxonid\": \"NCBITaxon:10116\", \"gene2symbol\": \"Nxf3\", \"isbestrevscore\": \"Yes\", \"isbestscore\": \"No\", \"outofalgorithms\": 9}, {\"algorithms\": \"PhylomeDB|OrthoFinder|Hieranoid|OMA|Ensembl Compara|InParanoid|PANTHER|TreeFam|OrthoInspector\", \"algorithmsmatch\": 9, \"gene1id\": \"FB:FBgn0003321\", \"gene1speciesname\": \"Drosophila melanogaster\", \"gene1speciestaxonid\": \"NCBITaxon:7227\", \"gene1symbol\": \"sbr\", \"gene2id\": \"RGD:1566170\", \"gene2speciesname\": \"Rattus norvegicus\", \"gene2speciestaxonid\": \"NCBITaxon:10116\", \"gene2symbol\": \"Nxf7\", \"isbestrevscore\": \"Yes\", \"isbestscore\": \"Yes\", \"outofalgorithms\": 9}, {\"algorithms\": \"PhylomeDB|OrthoFinder|Hieranoid|OMA|Ensembl Compara|Roundup|InParanoid|PANTHER|TreeFam|OrthoInspector\", \"algorithmsmatch\": 10, \"gene1id\": \"FB:FBgn0003321\", \"gene1speciesname\": \"Drosophila melanogaster\", \"gene1speciestaxonid\": \"NCBITaxon:7227\", \"gene1symbol\": \"sbr\", \"gene2id\": \"HGNC:8071\", \"gene2speciesname\": \"Homo sapiens\", \"gene2speciestaxonid\": \"NCBITaxon:9606\", \"gene2symbol\": \"NXF1\", \"isbestrevscore\": \"Yes\", \"isbestscore\": \"Yes\", \"outofalgorithms\": 10}, {\"algorithms\": \"PhylomeDB|OrthoFinder|Hieranoid|OMA|Ensembl Compara|InParanoid|PANTHER|TreeFam|OrthoInspector\", \"algorithmsmatch\": 9, \"gene1id\": \"FB:FBgn0003321\", \"gene1speciesname\": \"Drosophila melanogaster\", \"gene1speciestaxonid\": \"NCBITaxon:7227\", \"gene1symbol\": \"sbr\", \"gene2id\": \"HGNC:23984\", \"gene2speciesname\": \"Homo sapiens\", \"gene2speciestaxonid\": \"NCBITaxon:9606\", \"gene2symbol\": \"NXF2B\", \"isbestrevscore\": \"Yes\", \"isbestscore\": \"No\", \"outofalgorithms\": 10}, {\"algorithms\": \"PhylomeDB|OrthoFinder|Hieranoid|OMA|Ensembl Compara|InParanoid|PANTHER|TreeFam|OrthoInspector\", \"algorithmsmatch\": 9, \"gene1id\": \"FB:FBgn0003321\", \"gene1speciesname\": \"Drosophila melanogaster\", \"gene1speciestaxonid\": \"NCBITaxon:7227\", \"gene1symbol\": \"sbr\", \"gene2id\": \"HGNC:8073\", \"gene2speciesname\": \"Homo sapiens\", \"gene2speciestaxonid\": \"NCBITaxon:9606\", \"gene2symbol\": \"NXF3\", \"isbestrevscore\": \"Yes\", \"isbestscore\": \"No\", \"outofalgorithms\": 10}, {\"algorithms\": \"PhylomeDB|OrthoFinder|Hieranoid|Ensembl Compara|InParanoid|PANTHER|TreeFam|OrthoInspector\", \"algorithmsmatch\": 8, \"gene1id\": \"FB:FBgn0003321\", \"gene1speciesname\": \"Drosophila melanogaster\", \"gene1speciestaxonid\": \"NCBITaxon:7227\", \"gene1symbol\": \"sbr\", \"gene2id\": \"HGNC:8075\", \"gene2speciesname\": \"Homo sapiens\", \"gene2speciestaxonid\": \"NCBITaxon:9606\", \"gene2symbol\": \"NXF5\", \"isbestrevscore\": \"Yes\", \"isbestscore\": \"No\", \"outofalgorithms\": 10}, {\"algorithms\": \"PhylomeDB|OrthoFinder|Hieranoid|Roundup|InParanoid|PANTHER|TreeFam|OrthoInspector\", \"algorithmsmatch\": 8, \"gene1id\": \"FB:FBgn0003321\", \"gene1speciesname\": \"Drosophila melanogaster\", \"gene1speciestaxonid\": \"NCBITaxon:7227\", \"gene1symbol\": \"sbr\", \"gene2id\": \"WB:WBGene00003834\", \"gene2speciesname\": \"Caenorhabditis elegans\", \"gene2speciestaxonid\": \"NCBITaxon:6239\", \"gene2symbol\": \"nxf-1\", \"isbestrevscore\": \"Yes\", \"isbestscore\": \"No\", \"outofalgorithms\": 10}, {\"algorithms\": \"PhylomeDB|OrthoFinder|Hieranoid|OMA|Ensembl Compara|Roundup|InParanoid|PANTHER|OrthoInspector\", \"algorithmsmatch\": 9, \"gene1id\": \"FB:FBgn0003321\", \"gene1speciesname\": \"Drosophila melanogaster\", \"gene1speciestaxonid\": \"NCBITaxon:7227\", \"gene1symbol\": \"sbr\", \"gene2id\": \"WB:WBGene00003835\", \"gene2speciesname\": \"Caenorhabditis elegans\", \"gene2speciestaxonid\": \"NCBITaxon:6239\", \"gene2symbol\": \"nxf-2\", \"isbestrevscore\": \"Yes\", \"isbestscore\": \"Yes\", \"outofalgorithms\": 10}, {\"algorithms\": \"PhylomeDB|OrthoFinder|Hieranoid|OMA|Ensembl Compara|Roundup|InParanoid|PANTHER|TreeFam|OrthoInspector\", \"algorithmsmatch\": 10, \"gene1id\": \"FB:FBgn0003321\", \"gene1speciesname\": \"Drosophila melanogaster\", \"gene1speciestaxonid\": \"NCBITaxon:7227\", \"gene1symbol\": \"sbr\", \"gene2id\": \"MGI:1858330\", \"gene2speciesname\": \"Mus musculus\", \"gene2speciestaxonid\": \"NCBITaxon:10090\", \"gene2symbol\": \"Nxf1\", \"isbestrevscore\": \"Yes\", \"isbestscore\": \"Yes\", \"outofalgorithms\": 10}, {\"algorithms\": \"PhylomeDB|OrthoFinder|Hieranoid|OMA|Ensembl Compara|InParanoid|PANTHER|TreeFam|OrthoInspector\", \"algorithmsmatch\": 9, \"gene1id\": \"FB:FBgn0003321\", \"gene1speciesname\": \"Drosophila melanogaster\", \"gene1speciestaxonid\": \"NCBITaxon:7227\", \"gene1symbol\": \"sbr\", \"gene2id\": \"MGI:1933192\", \"gene2speciesname\": \"Mus musculus\", \"gene2speciestaxonid\": \"NCBITaxon:10090\", \"gene2symbol\": \"Nxf2\", \"isbestrevscore\": \"Yes\", \"isbestscore\": \"No\", \"outofalgorithms\": 10}, {\"algorithms\": \"PhylomeDB|OrthoFinder|Hieranoid|OMA|Ensembl Compara|InParanoid|PANTHER|TreeFam|OrthoInspector\", \"algorithmsmatch\": 9, \"gene1id\": \"FB:FBgn0003321\", \"gene1speciesname\": \"Drosophila melanogaster\", \"gene1speciestaxonid\": \"NCBITaxon:7227\", \"gene1symbol\": \"sbr\", \"gene2id\": \"MGI:2159343\", \"gene2speciesname\": \"Mus musculus\", \"gene2speciestaxonid\": \"NCBITaxon:10090\", \"gene2symbol\": \"Nxf7\", \"isbestrevscore\": \"Yes\", \"isbestscore\": \"No\", \"outofalgorithms\": 10}, {\"algorithms\": \"PhylomeDB|OrthoFinder|Hieranoid|OMA|Ensembl Compara|InParanoid|PANTHER|TreeFam|OrthoInspector\", \"algorithmsmatch\": 9, \"gene1id\": \"FB:FBgn0003321\", \"gene1speciesname\": \"Drosophila melanogaster\", \"gene1speciestaxonid\": \"NCBITaxon:7227\", \"gene1symbol\": \"sbr\", \"gene2id\": \"MGI:2685230\", \"gene2speciesname\": \"Mus musculus\", \"gene2speciestaxonid\": \"NCBITaxon:10090\", \"gene2symbol\": \"Nxf3\", \"isbestrevscore\": \"Yes\", \"isbestscore\": \"No\", \"outofalgorithms\": 10}]}, {\"_id\": \"FBgn0003416\", \"_score\": 1.0, \"ortholog_info\": [{\"algorithms\": \"PhylomeDB|OrthoFinder|Hieranoid|Ensembl Compara|Roundup|InParanoid|PANTHER|TreeFam\", \"algorithmsmatch\": 8, \"gene1id\": \"FB:FBgn0003416\", \"gene1speciesname\": \"Drosophila melanogaster\", \"gene1speciestaxonid\": \"NCBITaxon:7227\", \"gene1symbol\": \"sl\", \"gene2id\": \"SGD:S000006189\", \"gene2speciesname\": \"Saccharomyces cerevisiae\", \"gene2speciestaxonid\": \"NCBITaxon:559292\", \"gene2symbol\": \"PLC1\", \"isbestrevscore\": \"Yes\", \"isbestscore\": \"Yes\", \"outofalgorithms\": 10}, {\"algorithms\": \"PhylomeDB|OrthoFinder|Hieranoid|Ensembl Compara|InParanoid|PANTHER|TreeFam|OrthoInspector\", \"algorithmsmatch\": 8, \"gene1id\": \"FB:FBgn0003416\", \"gene1speciesname\": \"Drosophila melanogaster\", \"gene1speciestaxonid\": \"NCBITaxon:7227\", \"gene1symbol\": \"sl\", \"gene2id\": \"ZFIN:ZDB-GENE-030131-9532\", \"gene2speciesname\": \"Danio rerio\", \"gene2speciestaxonid\": \"NCBITaxon:7955\", \"gene2symbol\": \"plcg2\", \"isbestrevscore\": \"Yes\", \"isbestscore\": \"Yes\", \"outofalgorithms\": 11}, {\"algorithms\": \"PhylomeDB|OrthoFinder|Hieranoid|OMA|InParanoid|PANTHER|OrthoInspector\", \"algorithmsmatch\": 7, \"gene1id\": \"FB:FBgn0003416\", \"gene1speciesname\": \"Drosophila melanogaster\", \"gene1speciestaxonid\": \"NCBITaxon:7227\", \"gene1symbol\": \"sl\", \"gene2id\": \"RGD:3347\", \"gene2speciesname\": \"Rattus norvegicus\", \"gene2speciestaxonid\": \"NCBITaxon:10116\", \"gene2symbol\": \"Plcg1\", \"isbestrevscore\": \"Yes\", \"isbestscore\": \"Yes\", \"outofalgorithms\": 9}, {\"algorithms\": \"PhylomeDB|OrthoFinder|Hieranoid|Ensembl Compara|InParanoid|PANTHER|OrthoInspector\", \"algorithmsmatch\": 7, \"gene1id\": \"FB:FBgn0003416\", \"gene1speciesname\": \"Drosophila melanogaster\", \"gene1speciestaxonid\": \"NCBITaxon:7227\", \"gene1symbol\": \"sl\", \"gene2id\": \"RGD:3348\", \"gene2speciesname\": \"Rattus norvegicus\", \"gene2speciestaxonid\": \"NCBITaxon:10116\", \"gene2symbol\": \"Plcg2\", \"isbestrevscore\": \"Yes\", \"isbestscore\": \"Yes\", \"outofalgorithms\": 9}, {\"algorithms\": \"PhylomeDB|OrthoFinder|Hieranoid|OMA|Roundup|InParanoid|PANTHER|TreeFam|OrthoInspector\", \"algorithmsmatch\": 9, \"gene1id\": \"FB:FBgn0003416\", \"gene1speciesname\": \"Drosophila melanogaster\", \"gene1speciestaxonid\": \"NCBITaxon:7227\", \"gene1symbol\": \"sl\", \"gene2id\": \"HGNC:9065\", \"gene2speciesname\": \"Homo sapiens\", \"gene2speciestaxonid\": \"NCBITaxon:9606\", \"gene2symbol\": \"PLCG1\", \"isbestrevscore\": \"Yes\", \"isbestscore\": \"Yes\", \"outofalgorithms\": 10}, {\"algorithms\": \"PhylomeDB|OrthoFinder|Hieranoid|Ensembl Compara|InParanoid|PANTHER|TreeFam|OrthoInspector\", \"algorithmsmatch\": 8, \"gene1id\": \"FB:FBgn0003416\", \"gene1speciesname\": \"Drosophila melanogaster\", \"gene1speciestaxonid\": \"NCBITaxon:7227\", \"gene1symbol\": \"sl\", \"gene2id\": \"HGNC:9066\", \"gene2speciesname\": \"Homo sapiens\", \"gene2speciestaxonid\": \"NCBITaxon:9606\", \"gene2symbol\": \"PLCG2\", \"isbestrevscore\": \"Yes\", \"isbestscore\": \"No\", \"outofalgorithms\": 10}, {\"algorithms\": \"PhylomeDB|OrthoFinder|Hieranoid|OMA|Ensembl Compara|Roundup|InParanoid|PANTHER|TreeFam|OrthoInspector\", \"algorithmsmatch\": 10, \"gene1id\": \"FB:FBgn0003416\", \"gene1speciesname\": \"Drosophila melanogaster\", \"gene1speciestaxonid\": \"NCBITaxon:7227\", \"gene1symbol\": \"sl\", \"gene2id\": \"WB:WBGene00004038\", \"gene2speciesname\": \"Caenorhabditis elegans\", \"gene2speciestaxonid\": \"NCBITaxon:6239\", \"gene2symbol\": \"plc-3\", \"isbestrevscore\": \"Yes\", \"isbestscore\": \"Yes\", \"outofalgorithms\": 10}, {\"algorithms\": \"PhylomeDB|OrthoFinder|Hieranoid|OMA|Roundup|InParanoid|PANTHER|TreeFam|OrthoInspector\", \"algorithmsmatch\": 9, \"gene1id\": \"FB:FBgn0003416\", \"gene1speciesname\": \"Drosophila melanogaster\", \"gene1speciestaxonid\": \"NCBITaxon:7227\", \"gene1symbol\": \"sl\", \"gene2id\": \"MGI:97615\", \"gene2speciesname\": \"Mus musculus\", \"gene2speciestaxonid\": \"NCBITaxon:10090\", \"gene2symbol\": \"Plcg1\", \"isbestrevscore\": \"Yes\", \"isbestscore\": \"Yes\", \"outofalgorithms\": 10}, {\"algorithms\": \"PhylomeDB|OrthoFinder|Hieranoid|Ensembl Compara|InParanoid|PANTHER|TreeFam|OrthoInspector\", \"algorithmsmatch\": 8, \"gene1id\": \"FB:FBgn0003416\", \"gene1speciesname\": \"Drosophila melanogaster\", \"gene1speciestaxonid\": \"NCBITaxon:7227\", \"gene1symbol\": \"sl\", \"gene2id\": \"MGI:97616\", \"gene2speciesname\": \"Mus musculus\", \"gene2speciestaxonid\": \"NCBITaxon:10090\", \"gene2symbol\": \"Plcg2\", \"isbestrevscore\": \"Yes\", \"isbestscore\": \"No\", \"outofalgorithms\": 10}]}, {\"_id\": \"FBgn0013343\", \"_score\": 1.0, \"ortholog_info\": [{\"algorithms\": \"PhylomeDB|OrthoFinder|OMA|Ensembl Compara|Roundup|InParanoid|PANTHER|OrthoInspector\", \"algorithmsmatch\": 8, \"gene1id\": \"FB:FBgn0013343\", \"gene1speciesname\": \"Drosophila melanogaster\", \"gene1speciestaxonid\": \"NCBITaxon:7227\", \"gene1symbol\": \"Syx1A\", \"gene2id\": \"SGD:S000004795\", \"gene2speciesname\": \"Saccharomyces cerevisiae\", \"gene2speciestaxonid\": \"NCBITaxon:559292\", \"gene2symbol\": \"SSO2\", \"isbestrevscore\": \"Yes\", \"isbestscore\": \"Yes\", \"outofalgorithms\": 10}, {\"algorithms\": \"PhylomeDB|OrthoFinder|OMA|Ensembl Compara|Roundup|InParanoid|PANTHER|OrthoInspector\", \"algorithmsmatch\": 8, \"gene1id\": \"FB:FBgn0013343\", \"gene1speciesname\": \"Drosophila melanogaster\", \"gene1speciestaxonid\": \"NCBITaxon:7227\", \"gene1symbol\": \"Syx1A\", \"gene2id\": \"SGD:S000006153\", \"gene2speciesname\": \"Saccharomyces cerevisiae\", \"gene2speciestaxonid\": \"NCBITaxon:559292\", \"gene2symbol\": \"SSO1\", \"isbestrevscore\": \"Yes\", \"isbestscore\": \"Yes\", \"outofalgorithms\": 10}, {\"algorithms\": \"PhylomeDB|Hieranoid|Roundup|InParanoid|TreeFam|OrthoInspector\", \"algorithmsmatch\": 6, \"gene1id\": \"FB:FBgn0013343\", \"gene1speciesname\": \"Drosophila melanogaster\", \"gene1speciestaxonid\": \"NCBITaxon:7227\", \"gene1symbol\": \"Syx1A\", \"gene2id\": \"ZFIN:ZDB-GENE-000330-4\", \"gene2speciesname\": \"Danio rerio\", \"gene2speciestaxonid\": \"NCBITaxon:7955\", \"gene2symbol\": \"stx1b\", \"isbestrevscore\": \"Yes\", \"isbestscore\": \"Yes\", \"outofalgorithms\": 11}, {\"algorithms\": \"PANTHER|Roundup|OMA\", \"algorithmsmatch\": 3, \"gene1id\": \"FB:FBgn0013343\", \"gene1speciesname\": \"Drosophila melanogaster\", \"gene1speciestaxonid\": \"NCBITaxon:7227\", \"gene1symbol\": \"Syx1A\", \"gene2id\": \"ZFIN:ZDB-GENE-030131-2455\", \"gene2speciesname\": \"Danio rerio\", \"gene2speciestaxonid\": \"NCBITaxon:7955\", \"gene2symbol\": \"stx4\", \"isbestrevscore\": \"Yes\", \"isbestscore\": \"No\", \"outofalgorithms\": 11}, {\"algorithms\": \"Hieranoid|PANTHER|PhylomeDB|OMA\", \"algorithmsmatch\": 4, \"gene1id\": \"FB:FBgn0013343\", \"gene1speciesname\": \"Drosophila melanogaster\", \"gene1speciestaxonid\": \"NCBITaxon:7227\", \"gene1symbol\": \"Syx1A\", \"gene2id\": \"ZFIN:ZDB-GENE-040426-1489\", \"gene2speciesname\": \"Danio rerio\", \"gene2speciestaxonid\": \"NCBITaxon:7955\", \"gene2symbol\": \"stx3b\", \"isbestrevscore\": \"Yes\", \"isbestscore\": \"No\", \"outofalgorithms\": 11}, {\"algorithms\": \"PANTHER|PhylomeDB|OMA|TreeFam\", \"algorithmsmatch\": 4, \"gene1id\": \"FB:FBgn0013343\", \"gene1speciesname\": \"Drosophila melanogaster\", \"gene1speciestaxonid\": \"NCBITaxon:7227\", \"gene1symbol\": \"Syx1A\", \"gene2id\": \"ZFIN:ZDB-GENE-040801-80\", \"gene2speciesname\": \"Danio rerio\", \"gene2speciestaxonid\": \"NCBITaxon:7955\", \"gene2symbol\": \"stx2a\", \"isbestrevscore\": \"Yes\", \"isbestscore\": \"No\", \"outofalgorithms\": 11}, {\"algorithms\": \"Hieranoid|PANTHER|PhylomeDB|TreeFam\", \"algorithmsmatch\": 4, \"gene1id\": \"FB:FBgn0013343\", \"gene1speciesname\": \"Drosophila melanogaster\", \"gene1speciestaxonid\": \"NCBITaxon:7227\", \"gene1symbol\": \"Syx1A\", \"gene2id\": \"ZFIN:ZDB-GENE-091204-424\", \"gene2speciesname\": \"Danio rerio\", \"gene2speciestaxonid\": \"NCBITaxon:7955\", \"gene2symbol\": \"stx2b\", \"isbestrevscore\": \"Yes\", \"isbestscore\": \"No\", \"outofalgorithms\": 11}, {\"algorithms\": \"PhylomeDB|Hieranoid|OMA|Ensembl Compara|InParanoid|PANTHER|TreeFam|OrthoInspector\", \"algorithmsmatch\": 8, \"gene1id\": \"FB:FBgn0013343\", \"gene1speciesname\": \"Drosophila melanogaster\", \"gene1speciestaxonid\": \"NCBITaxon:7227\", \"gene1symbol\": \"Syx1A\", \"gene2id\": \"RGD:69430\", \"gene2speciesname\": \"Rattus norvegicus\", \"gene2speciestaxonid\": \"NCBITaxon:10116\", \"gene2symbol\": \"Stx1a\", \"isbestrevscore\": \"Yes\", \"isbestscore\": \"Yes\", \"outofalgorithms\": 9}, {\"algorithms\": \"PhylomeDB|Hieranoid|OMA|Ensembl Compara|InParanoid|TreeFam|OrthoInspector\", \"algorithmsmatch\": 7, \"gene1id\": \"FB:FBgn0013343\", \"gene1speciesname\": \"Drosophila melanogaster\", \"gene1speciestaxonid\": \"NCBITaxon:7227\", \"gene1symbol\": \"Syx1A\", \"gene2id\": \"RGD:3784\", \"gene2speciesname\": \"Rattus norvegicus\", \"gene2speciestaxonid\": \"NCBITaxon:10116\", \"gene2symbol\": \"Stx1b\", \"isbestrevscore\": \"Yes\", \"isbestscore\": \"No\", \"outofalgorithms\": 9}, {\"algorithms\": \"PhylomeDB|Hieranoid|OMA|PANTHER|TreeFam\", \"algorithmsmatch\": 5, \"gene1id\": \"FB:FBgn0013343\", \"gene1speciesname\": \"Drosophila melanogaster\", \"gene1speciestaxonid\": \"NCBITaxon:7227\", \"gene1symbol\": \"Syx1A\", \"gene2id\": \"RGD:2558\", \"gene2speciesname\": \"Rattus norvegicus\", \"gene2speciestaxonid\": \"NCBITaxon:10116\", \"gene2symbol\": \"Stx2\", \"isbestrevscore\": \"Yes\", \"isbestscore\": \"No\", \"outofalgorithms\": 9}, {\"algorithms\": \"PhylomeDB|Hieranoid|OMA|PANTHER|TreeFam\", \"algorithmsmatch\": 5, \"gene1id\": \"FB:FBgn0013343\", \"gene1speciesname\": \"Drosophila melanogaster\", \"gene1speciestaxonid\": \"NCBITaxon:7227\", \"gene1symbol\": \"Syx1A\", \"gene2id\": \"RGD:621005\", \"gene2speciesname\": \"Rattus norvegicus\", \"gene2speciestaxonid\": \"NCBITaxon:10116\", \"gene2symbol\": \"Stx3\", \"isbestrevscore\": \"Yes\", \"isbestscore\": \"No\", \"outofalgorithms\": 9}, {\"algorithms\": \"PhylomeDB|Hieranoid|OMA|Ensembl Compara|Roundup|InParanoid|PANTHER|TreeFam|OrthoInspector\", \"algorithmsmatch\": 9, \"gene1id\": \"FB:FBgn0013343\", \"gene1speciesname\": \"Drosophila melanogaster\", \"gene1speciestaxonid\": \"NCBITaxon:7227\", \"gene1symbol\": \"Syx1A\", \"gene2id\": \"HGNC:11433\", \"gene2speciesname\": \"Homo sapiens\", \"gene2speciestaxonid\": \"NCBITaxon:9606\", \"gene2symbol\": \"STX1A\", \"isbestrevscore\": \"Yes\", \"isbestscore\": \"Yes\", \"outofalgorithms\": 10}, {\"algorithms\": \"PhylomeDB|Hieranoid|OMA|Ensembl Compara|Roundup|InParanoid|TreeFam|OrthoInspector\", \"algorithmsmatch\": 8, \"gene1id\": \"FB:FBgn0013343\", \"gene1speciesname\": \"Drosophila melanogaster\", \"gene1speciestaxonid\": \"NCBITaxon:7227\", \"gene1symbol\": \"Syx1A\", \"gene2id\": \"HGNC:18539\", \"gene2speciesname\": \"Homo sapiens\", \"gene2speciestaxonid\": \"NCBITaxon:9606\", \"gene2symbol\": \"STX1B\", \"isbestrevscore\": \"Yes\", \"isbestscore\": \"No\", \"outofalgorithms\": 10}, {\"algorithms\": \"PhylomeDB|Hieranoid|OMA|PANTHER|TreeFam\", \"algorithmsmatch\": 5, \"gene1id\": \"FB:FBgn0013343\", \"gene1speciesname\": \"Drosophila melanogaster\", \"gene1speciestaxonid\": \"NCBITaxon:7227\", \"gene1symbol\": \"Syx1A\", \"gene2id\": \"HGNC:3403\", \"gene2speciesname\": \"Homo sapiens\", \"gene2speciestaxonid\": \"NCBITaxon:9606\", \"gene2symbol\": \"STX2\", \"isbestrevscore\": \"Yes\", \"isbestscore\": \"No\", \"outofalgorithms\": 10}, {\"algorithms\": \"PhylomeDB|Hieranoid|OMA|PANTHER|TreeFam\", \"algorithmsmatch\": 5, \"gene1id\": \"FB:FBgn0013343\", \"gene1speciesname\": \"Drosophila melanogaster\", \"gene1speciestaxonid\": \"NCBITaxon:7227\", \"gene1symbol\": \"Syx1A\", \"gene2id\": \"HGNC:11438\", \"gene2speciesname\": \"Homo sapiens\", \"gene2speciestaxonid\": \"NCBITaxon:9606\", \"gene2symbol\": \"STX3\", \"isbestrevscore\": \"Yes\", \"isbestscore\": \"No\", \"outofalgorithms\": 10}, {\"algorithms\": \"Roundup|PANTHER|OMA\", \"algorithmsmatch\": 3, \"gene1id\": \"FB:FBgn0013343\", \"gene1speciesname\": \"Drosophila melanogaster\", \"gene1speciestaxonid\": \"NCBITaxon:7227\", \"gene1symbol\": \"Syx1A\", \"gene2id\": \"HGNC:11439\", \"gene2speciesname\": \"Homo sapiens\", \"gene2speciestaxonid\": \"NCBITaxon:9606\", \"gene2symbol\": \"STX4\", \"isbestrevscore\": \"Yes\", \"isbestscore\": \"No\", \"outofalgorithms\": 10}, {\"algorithms\": \"PhylomeDB|Hieranoid|OMA|Ensembl Compara|Roundup|InParanoid|PANTHER|TreeFam|OrthoInspector\", \"algorithmsmatch\": 9, \"gene1id\": \"FB:FBgn0013343\", \"gene1speciesname\": \"Drosophila melanogaster\", \"gene1speciestaxonid\": \"NCBITaxon:7227\", \"gene1symbol\": \"Syx1A\", \"gene2id\": \"WB:WBGene00006798\", \"gene2speciesname\": \"Caenorhabditis elegans\", \"gene2speciestaxonid\": \"NCBITaxon:6239\", \"gene2symbol\": \"unc-64\", \"isbestrevscore\": \"Yes\", \"isbestscore\": \"Yes\", \"outofalgorithms\": 10}, {\"algorithms\": \"PhylomeDB|Hieranoid|OMA|PANTHER|TreeFam\", \"algorithmsmatch\": 5, \"gene1id\": \"FB:FBgn0013343\", \"gene1speciesname\": \"Drosophila melanogaster\", \"gene1speciestaxonid\": \"NCBITaxon:7227\", \"gene1symbol\": \"Syx1A\", \"gene2id\": \"MGI:103077\", \"gene2speciesname\": \"Mus musculus\", \"gene2speciestaxonid\": \"NCBITaxon:10090\", \"gene2symbol\": \"Stx3\", \"isbestrevscore\": \"Yes\", \"isbestscore\": \"No\", \"outofalgorithms\": 10}, {\"algorithms\": \"Hieranoid|PANTHER|PhylomeDB|TreeFam\", \"algorithmsmatch\": 4, \"gene1id\": \"FB:FBgn0013343\", \"gene1speciesname\": \"Drosophila melanogaster\", \"gene1speciestaxonid\": \"NCBITaxon:7227\", \"gene1symbol\": \"Syx1A\", \"gene2id\": \"MGI:108059\", \"gene2speciesname\": \"Mus musculus\", \"gene2speciestaxonid\": \"NCBITaxon:10090\", \"gene2symbol\": \"Stx2\", \"isbestrevscore\": \"Yes\", \"isbestscore\": \"No\", \"outofalgorithms\": 10}, {\"algorithms\": \"PhylomeDB|Hieranoid|OMA|Ensembl Compara|Roundup|InParanoid|PANTHER|TreeFam|OrthoInspector\", \"algorithmsmatch\": 9, \"gene1id\": \"FB:FBgn0013343\", \"gene1speciesname\": \"Drosophila melanogaster\", \"gene1speciestaxonid\": \"NCBITaxon:7227\", \"gene1symbol\": \"Syx1A\", \"gene2id\": \"MGI:109355\", \"gene2speciesname\": \"Mus musculus\", \"gene2speciestaxonid\": \"NCBITaxon:10090\", \"gene2symbol\": \"Stx1a\", \"isbestrevscore\": \"Yes\", \"isbestscore\": \"Yes\", \"outofalgorithms\": 10}, {\"algorithms\": \"PhylomeDB|Hieranoid|OMA|Ensembl Compara|Roundup|InParanoid|TreeFam|OrthoInspector\", \"algorithmsmatch\": 8, \"gene1id\": \"FB:FBgn0013343\", \"gene1speciesname\": \"Drosophila melanogaster\", \"gene1speciestaxonid\": \"NCBITaxon:7227\", \"gene1symbol\": \"Syx1A\", \"gene2id\": \"MGI:1930705\", \"gene2speciesname\": \"Mus musculus\", \"gene2speciestaxonid\": \"NCBITaxon:10090\", \"gene2symbol\": \"Stx1b\", \"isbestrevscore\": \"Yes\", \"isbestscore\": \"No\", \"outofalgorithms\": 10}, {\"algorithms\": \"Roundup|PANTHER|OMA\", \"algorithmsmatch\": 3, \"gene1id\": \"FB:FBgn0013343\", \"gene1speciesname\": \"Drosophila melanogaster\", \"gene1speciestaxonid\": \"NCBITaxon:7227\", \"gene1symbol\": \"Syx1A\", \"gene2id\": \"MGI:893577\", \"gene2speciesname\": \"Mus musculus\", \"gene2speciestaxonid\": \"NCBITaxon:10090\", \"gene2symbol\": \"Stx4a\", \"isbestrevscore\": \"Yes\", \"isbestscore\": \"No\", \"outofalgorithms\": 10}]}, {\"_id\": \"FBgn0014075\", \"_score\": 1.0, \"ortholog_info\": [{\"algorithms\": \"PhylomeDB|OrthoFinder|Hieranoid|Ensembl Compara|Roundup|InParanoid|PANTHER|OrthoInspector\", \"algorithmsmatch\": 8, \"gene1id\": \"FB:FBgn0014075\", \"gene1speciesname\": \"Drosophila melanogaster\", \"gene1speciestaxonid\": \"NCBITaxon:7227\", \"gene1symbol\": \"Uggt\", \"gene2id\": \"SGD:S000005863\", \"gene2speciesname\": \"Saccharomyces cerevisiae\", \"gene2speciestaxonid\": \"NCBITaxon:559292\", \"gene2symbol\": \"KRE5\", \"isbestrevscore\": \"Yes\", \"isbestscore\": \"Yes\", \"outofalgorithms\": 10}, {\"algorithms\": \"OrthoFinder|Hieranoid|OMA|Ensembl Compara|Roundup|InParanoid|PANTHER|TreeFam|OrthoInspector\", \"algorithmsmatch\": 9, \"gene1id\": \"FB:FBgn0014075\", \"gene1speciesname\": \"Drosophila melanogaster\", \"gene1speciestaxonid\": \"NCBITaxon:7227\", \"gene1symbol\": \"Uggt\", \"gene2id\": \"ZFIN:ZDB-GENE-050517-21\", \"gene2speciesname\": \"Danio rerio\", \"gene2speciestaxonid\": \"NCBITaxon:7955\", \"gene2symbol\": \"uggt2\", \"isbestrevscore\": \"Yes\", \"isbestscore\": \"Yes\", \"outofalgorithms\": 11}, {\"algorithms\": \"PhylomeDB|OrthoFinder|Hieranoid|OMA|Ensembl Compara|InParanoid|PANTHER|TreeFam|OrthoInspector\", \"algorithmsmatch\": 9, \"gene1id\": \"FB:FBgn0014075\", \"gene1speciesname\": \"Drosophila melanogaster\", \"gene1speciestaxonid\": \"NCBITaxon:7227\", \"gene1symbol\": \"Uggt\", \"gene2id\": \"RGD:619710\", \"gene2speciesname\": \"Rattus norvegicus\", \"gene2speciestaxonid\": \"NCBITaxon:10116\", \"gene2symbol\": \"Uggt1\", \"isbestrevscore\": \"Yes\", \"isbestscore\": \"Yes\", \"outofalgorithms\": 9}, {\"algorithms\": \"PhylomeDB|OrthoFinder|Hieranoid|OMA|Ensembl Compara|Roundup|InParanoid|PANTHER|TreeFam|OrthoInspector\", \"algorithmsmatch\": 10, \"gene1id\": \"FB:FBgn0014075\", \"gene1speciesname\": \"Drosophila melanogaster\", \"gene1speciestaxonid\": \"NCBITaxon:7227\", \"gene1symbol\": \"Uggt\", \"gene2id\": \"HGNC:15663\", \"gene2speciesname\": \"Homo sapiens\", \"gene2speciestaxonid\": \"NCBITaxon:9606\", \"gene2symbol\": \"UGGT1\", \"isbestrevscore\": \"Yes\", \"isbestscore\": \"Yes\", \"outofalgorithms\": 10}, {\"algorithms\": \"PhylomeDB|OrthoFinder|Hieranoid|OMA|Ensembl Compara|Roundup|InParanoid|PANTHER|TreeFam|OrthoInspector\", \"algorithmsmatch\": 10, \"gene1id\": \"FB:FBgn0014075\", \"gene1speciesname\": \"Drosophila melanogaster\", \"gene1speciestaxonid\": \"NCBITaxon:7227\", \"gene1symbol\": \"Uggt\", \"gene2id\": \"HGNC:15664\", \"gene2speciesname\": \"Homo sapiens\", \"gene2speciestaxonid\": \"NCBITaxon:9606\", \"gene2symbol\": \"UGGT2\", \"isbestrevscore\": \"Yes\", \"isbestscore\": \"Yes\", \"outofalgorithms\": 10}, {\"algorithms\": \"PhylomeDB|OrthoFinder|Ensembl Compara|Roundup|PANTHER|TreeFam\", \"algorithmsmatch\": 6, \"gene1id\": \"FB:FBgn0014075\", \"gene1speciesname\": \"Drosophila melanogaster\", \"gene1speciestaxonid\": \"NCBITaxon:7227\", \"gene1symbol\": \"Uggt\", \"gene2id\": \"WB:WBGene00009178\", \"gene2speciesname\": \"Caenorhabditis elegans\", \"gene2speciestaxonid\": \"NCBITaxon:6239\", \"gene2symbol\": \"uggt-2\", \"isbestrevscore\": \"Yes\", \"isbestscore\": \"No\", \"outofalgorithms\": 10}, {\"algorithms\": \"PhylomeDB|OrthoFinder|Hieranoid|OMA|Ensembl Compara|Roundup|InParanoid|PANTHER|TreeFam|OrthoInspector\", \"algorithmsmatch\": 10, \"gene1id\": \"FB:FBgn0014075\", \"gene1speciesname\": \"Drosophila melanogaster\", \"gene1speciestaxonid\": \"NCBITaxon:7227\", \"gene1symbol\": \"Uggt\", \"gene2id\": \"WB:WBGene00018604\", \"gene2speciesname\": \"Caenorhabditis elegans\", \"gene2speciestaxonid\": \"NCBITaxon:6239\", \"gene2symbol\": \"uggt-1\", \"isbestrevscore\": \"Yes\", \"isbestscore\": \"Yes\", \"outofalgorithms\": 10}, {\"algorithms\": \"OrthoFinder|Hieranoid|OMA|Ensembl Compara|Roundup|InParanoid|PANTHER|TreeFam|OrthoInspector\", \"algorithmsmatch\": 9, \"gene1id\": \"FB:FBgn0014075\", \"gene1speciesname\": \"Drosophila melanogaster\", \"gene1speciestaxonid\": \"NCBITaxon:7227\", \"gene1symbol\": \"Uggt\", \"gene2id\": \"MGI:1913685\", \"gene2speciesname\": \"Mus musculus\", \"gene2speciestaxonid\": \"NCBITaxon:10090\", \"gene2symbol\": \"Uggt2\", \"isbestrevscore\": \"Yes\", \"isbestscore\": \"No\", \"outofalgorithms\": 10}, {\"algorithms\": \"PhylomeDB|OrthoFinder|Hieranoid|OMA|Ensembl Compara|Roundup|InParanoid|PANTHER|TreeFam|OrthoInspector\", \"algorithmsmatch\": 10, \"gene1id\": \"FB:FBgn0014075\", \"gene1speciesname\": \"Drosophila melanogaster\", \"gene1speciestaxonid\": \"NCBITaxon:7227\", \"gene1symbol\": \"Uggt\", \"gene2id\": \"MGI:2443162\", \"gene2speciesname\": \"Mus musculus\", \"gene2speciestaxonid\": \"NCBITaxon:10090\", \"gene2symbol\": \"Uggt1\", \"isbestrevscore\": \"Yes\", \"isbestscore\": \"Yes\", \"outofalgorithms\": 10}]}]}'\n"
     ]
    }
   ],
   "metadata": {}
  },
  {
   "cell_type": "markdown",
   "source": [
    "---"
   ],
   "metadata": {}
  },
  {
   "cell_type": "markdown",
   "source": [
    "\r\n",
    "  \r\n",
    ">**Notes/Questsions**    \r\n",
    "> - Ways to test BioThings/ES mapping?  \r\n",
    "> - geneID search on mygene.info comparison to parsed mapping, *concerns over inconsistency*  \r\n",
    "> - remove any columns/variables?  \r\n",
    "> - only searchable index is `gene1id` (it is saved as a text vs. keyword)\r\n",
    "\r\n",
    "\r\n",
    " \r\n",
    "Gene1ID: \r\n",
    "- left hand symbol into column, count unique \r\n",
    "- determine error cases/ isolate out \r\n",
    "\r\n",
    "## <u>References</u>  \r\n",
    "  \r\n",
    "https://en.wikipedia.org/wiki/CURIE  \r\n",
    "http://mygene.info/  \r\n",
    "http://mygene.info/v3/gene/WB:WBGene00011502    \r\n",
    "https://github.com/sirloon/pharmgkb/tree/pharmgkb_v1  \r\n",
    "\r\n"
   ],
   "metadata": {}
  },
  {
   "cell_type": "markdown",
   "source": [
    "---"
   ],
   "metadata": {}
  }
 ],
 "metadata": {
  "orig_nbformat": 4,
  "language_info": {
   "name": "python",
   "version": "3.7.10",
   "mimetype": "text/x-python",
   "codemirror_mode": {
    "name": "ipython",
    "version": 3
   },
   "pygments_lexer": "ipython3",
   "nbconvert_exporter": "python",
   "file_extension": ".py"
  },
  "kernelspec": {
   "name": "python3",
   "display_name": "Python 3.7.10 64-bit ('coding-challenge-sulab': conda)"
  },
  "interpreter": {
   "hash": "03fe218bf58a537a1f1499062a1497ca5cb770a5a4e96e3385dc47bb9fffb678"
  }
 },
 "nbformat": 4,
 "nbformat_minor": 2
}